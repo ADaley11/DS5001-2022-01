{
 "cells": [
  {
   "cell_type": "markdown",
   "id": "eabad3fc-8e69-434d-b068-6ed0a114b9be",
   "metadata": {},
   "source": [
    "# Metadata\n",
    "\n",
    "```\n",
    "course:   DS 5001\n",
    "module:   00 Final Projects\n",
    "topic:    Using SpaCy \n",
    "author:   R.C. Alvarado\n",
    "```"
   ]
  },
  {
   "cell_type": "markdown",
   "id": "2bfa4603-604d-4d61-9e0a-6927f2fd81ae",
   "metadata": {},
   "source": [
    "# Notes\n",
    "\n",
    "## How to install\n",
    "\n",
    "* `conda install -c conda-forge spacy`\n",
    "* `python -m spacy download en_core_web_sm`"
   ]
  },
  {
   "cell_type": "markdown",
   "id": "d6a4c8a9-d4d1-4dca-924e-fda65e0876b6",
   "metadata": {},
   "source": [
    "## About SpaCy\n",
    "\n",
    "<img src=\"https://spacy.io/architecture-415624fc7d149ec03f2736c4aa8b8f3c.svg\" width=\"500\" />"
   ]
  },
  {
   "cell_type": "markdown",
   "id": "682f6147-0299-4e2b-9b04-1c30050559c4",
   "metadata": {},
   "source": [
    "# Set Up"
   ]
  },
  {
   "cell_type": "markdown",
   "id": "ec9b575e-413e-4b8c-9516-f07f07f86adb",
   "metadata": {},
   "source": [
    "## Config"
   ]
  },
  {
   "cell_type": "code",
   "execution_count": 1,
   "id": "eea3a145-6941-4d31-b3b7-ca44de274303",
   "metadata": {},
   "outputs": [],
   "source": [
    "data_home = \"../data\"\n",
    "local_lib = \"../lib\"\n",
    "data_prefix = 'novels'\n",
    "OHCO = ['book_id','chap_id','para_num','sent_num','token_num']"
   ]
  },
  {
   "cell_type": "markdown",
   "id": "df406a5d-157c-4131-a359-6e62d275f316",
   "metadata": {},
   "source": [
    "## Import Library"
   ]
  },
  {
   "cell_type": "code",
   "execution_count": 23,
   "id": "a21c5f10-5c41-401d-9ad3-fdfb932ce403",
   "metadata": {},
   "outputs": [],
   "source": [
    "import pandas as pd\n",
    "import numpy as np\n",
    "import tqdm as tqdm\n",
    "import spacy"
   ]
  },
  {
   "cell_type": "markdown",
   "id": "6df345ca-e384-4726-be01-eaaf43b68e2f",
   "metadata": {},
   "source": [
    "# Load English resource package\n",
    "\n",
    "**Trained pipeline packages for English:**\n",
    "* `en_core_web_sm`: English pipeline optimized for CPU. Components: tok2vec, tagger, parser, senter, ner, attribute_ruler, lemmatizer.\n",
    "* `en_core_web_md`:  English pipeline optimized for CPU. Components: tok2vec, tagger, parser, senter, ner, attribute_ruler, lemmatizer.\n",
    "* `en_core_web_lg`:  English pipeline optimized for CPU. Components: tok2vec, tagger, parser, senter, ner, attribute_ruler, lemmatizer.\n",
    "* `en_core_web_trf`: English transformer pipeline (roberta-base). Components: transformer, tagger, parser, ner, attribute_ruler, lemmatizer."
   ]
  },
  {
   "cell_type": "code",
   "execution_count": 3,
   "id": "d0389723-9a36-4f34-bd96-f2e50daa29d3",
   "metadata": {},
   "outputs": [],
   "source": [
    "lang_mod = 'en_core_web_sm'"
   ]
  },
  {
   "cell_type": "code",
   "execution_count": 4,
   "id": "e9ba08c8-ff0e-46cb-b439-2c113a0d593a",
   "metadata": {},
   "outputs": [],
   "source": [
    "nlp = spacy.load(lang_mod)"
   ]
  },
  {
   "cell_type": "markdown",
   "id": "2cf99bfb-d44e-44fa-a0c2-ff33746b48d1",
   "metadata": {},
   "source": [
    "# Import CORPUS"
   ]
  },
  {
   "cell_type": "code",
   "execution_count": 5,
   "id": "327480db-40eb-4854-97a5-159df9f20c26",
   "metadata": {},
   "outputs": [],
   "source": [
    "LIB = pd.read_csv(f\"{data_home}/{data_prefix}/{data_prefix}-LIB.csv\").set_index(OHCO[:1])"
   ]
  },
  {
   "cell_type": "code",
   "execution_count": 6,
   "id": "895fffc2-eda6-4ca8-88a6-2aed60aa10bb",
   "metadata": {},
   "outputs": [],
   "source": [
    "CORPUS = pd.read_csv(f\"{data_home}/{data_prefix}/{data_prefix}-CORPUS.csv\").set_index(OHCO)"
   ]
  },
  {
   "cell_type": "code",
   "execution_count": 7,
   "id": "23dc3922-4ea3-49e4-877e-3e02649ed611",
   "metadata": {},
   "outputs": [
    {
     "data": {
      "text/html": [
       "<div>\n",
       "<style scoped>\n",
       "    .dataframe tbody tr th:only-of-type {\n",
       "        vertical-align: middle;\n",
       "    }\n",
       "\n",
       "    .dataframe tbody tr th {\n",
       "        vertical-align: top;\n",
       "    }\n",
       "\n",
       "    .dataframe thead th {\n",
       "        text-align: right;\n",
       "    }\n",
       "</style>\n",
       "<table border=\"1\" class=\"dataframe\">\n",
       "  <thead>\n",
       "    <tr style=\"text-align: right;\">\n",
       "      <th></th>\n",
       "      <th></th>\n",
       "      <th></th>\n",
       "      <th></th>\n",
       "      <th></th>\n",
       "      <th>pos</th>\n",
       "      <th>term_str</th>\n",
       "    </tr>\n",
       "    <tr>\n",
       "      <th>book_id</th>\n",
       "      <th>chap_id</th>\n",
       "      <th>para_num</th>\n",
       "      <th>sent_num</th>\n",
       "      <th>token_num</th>\n",
       "      <th></th>\n",
       "      <th></th>\n",
       "    </tr>\n",
       "  </thead>\n",
       "  <tbody>\n",
       "    <tr>\n",
       "      <th rowspan=\"5\" valign=\"top\">secretadversary</th>\n",
       "      <th rowspan=\"5\" valign=\"top\">1</th>\n",
       "      <th rowspan=\"4\" valign=\"top\">0</th>\n",
       "      <th rowspan=\"4\" valign=\"top\">1</th>\n",
       "      <th>0</th>\n",
       "      <td>DT</td>\n",
       "      <td>the</td>\n",
       "    </tr>\n",
       "    <tr>\n",
       "      <th>1</th>\n",
       "      <td>NNP</td>\n",
       "      <td>young</td>\n",
       "    </tr>\n",
       "    <tr>\n",
       "      <th>2</th>\n",
       "      <td>NNP</td>\n",
       "      <td>adventurers</td>\n",
       "    </tr>\n",
       "    <tr>\n",
       "      <th>3</th>\n",
       "      <td>NNP</td>\n",
       "      <td>ltd</td>\n",
       "    </tr>\n",
       "    <tr>\n",
       "      <th>1</th>\n",
       "      <th>0</th>\n",
       "      <th>0</th>\n",
       "      <td>JJ</td>\n",
       "      <td>tommy</td>\n",
       "    </tr>\n",
       "  </tbody>\n",
       "</table>\n",
       "</div>"
      ],
      "text/plain": [
       "                                                     pos     term_str\n",
       "book_id         chap_id para_num sent_num token_num                  \n",
       "secretadversary 1       0        1        0           DT          the\n",
       "                                          1          NNP        young\n",
       "                                          2          NNP  adventurers\n",
       "                                          3          NNP          ltd\n",
       "                        1        0        0           JJ        tommy"
      ]
     },
     "execution_count": 7,
     "metadata": {},
     "output_type": "execute_result"
    }
   ],
   "source": [
    "CORPUS.head()"
   ]
  },
  {
   "cell_type": "code",
   "execution_count": 8,
   "id": "06e868d8-402c-4ea1-9f7e-2d88e73b6d7e",
   "metadata": {
    "tags": []
   },
   "outputs": [],
   "source": [
    "def gather_docs(CORPUS, ohco_level, str_col='term_str', glue=' '):\n",
    "    OHCO = CORPUS.index.names\n",
    "    CORPUS[str_col] = CORPUS[str_col].astype('str')\n",
    "    DOC = CORPUS.groupby(OHCO[:ohco_level])[str_col].apply(lambda x: glue.join(x)).to_frame('doc_str')\n",
    "    return DOC"
   ]
  },
  {
   "cell_type": "code",
   "execution_count": 9,
   "id": "0b2c81ad-6569-4395-9c4c-114ef57c961b",
   "metadata": {},
   "outputs": [],
   "source": [
    "SENTS = gather_docs(CORPUS, 4)\n",
    "CHAPS = gather_docs(SENTS, 2, str_col='doc_str', glue='. ')"
   ]
  },
  {
   "cell_type": "code",
   "execution_count": 10,
   "id": "085e0033-c1b4-41cf-8c4f-c8d4b9a920df",
   "metadata": {},
   "outputs": [
    {
     "data": {
      "text/html": [
       "<div>\n",
       "<style scoped>\n",
       "    .dataframe tbody tr th:only-of-type {\n",
       "        vertical-align: middle;\n",
       "    }\n",
       "\n",
       "    .dataframe tbody tr th {\n",
       "        vertical-align: top;\n",
       "    }\n",
       "\n",
       "    .dataframe thead th {\n",
       "        text-align: right;\n",
       "    }\n",
       "</style>\n",
       "<table border=\"1\" class=\"dataframe\">\n",
       "  <thead>\n",
       "    <tr style=\"text-align: right;\">\n",
       "      <th></th>\n",
       "      <th></th>\n",
       "      <th>doc_str</th>\n",
       "    </tr>\n",
       "    <tr>\n",
       "      <th>book_id</th>\n",
       "      <th>chap_id</th>\n",
       "      <th></th>\n",
       "    </tr>\n",
       "  </thead>\n",
       "  <tbody>\n",
       "    <tr>\n",
       "      <th rowspan=\"5\" valign=\"top\">adventures</th>\n",
       "      <th>1</th>\n",
       "      <td>a scandal in bohemia. i. to sherlock holmes sh...</td>\n",
       "    </tr>\n",
       "    <tr>\n",
       "      <th>2</th>\n",
       "      <td>the red headed league. i had called upon my fr...</td>\n",
       "    </tr>\n",
       "    <tr>\n",
       "      <th>3</th>\n",
       "      <td>a case of identity. my dear fellow said sherlo...</td>\n",
       "    </tr>\n",
       "    <tr>\n",
       "      <th>4</th>\n",
       "      <td>the boscombe valley mystery. we were seated at...</td>\n",
       "    </tr>\n",
       "    <tr>\n",
       "      <th>5</th>\n",
       "      <td>the five orange pips. when i glance over my no...</td>\n",
       "    </tr>\n",
       "    <tr>\n",
       "      <th>...</th>\n",
       "      <th>...</th>\n",
       "      <td>...</td>\n",
       "    </tr>\n",
       "    <tr>\n",
       "      <th rowspan=\"4\" valign=\"top\">udolpho</th>\n",
       "      <th>54</th>\n",
       "      <td>vi. unnatural deeds do breed unnatural trouble...</td>\n",
       "    </tr>\n",
       "    <tr>\n",
       "      <th>55</th>\n",
       "      <td>vii. but in these cases we still have judgment...</td>\n",
       "    </tr>\n",
       "    <tr>\n",
       "      <th>56</th>\n",
       "      <td>viii. then fresh tears stood on her cheek as d...</td>\n",
       "    </tr>\n",
       "    <tr>\n",
       "      <th>57</th>\n",
       "      <td>ix. now my task is smoothly done i can fly or ...</td>\n",
       "    </tr>\n",
       "    <tr>\n",
       "      <th>usher</th>\n",
       "      <th>1</th>\n",
       "      <td>fall of the house of usher. son coeur est un l...</td>\n",
       "    </tr>\n",
       "  </tbody>\n",
       "</table>\n",
       "<p>320 rows × 1 columns</p>\n",
       "</div>"
      ],
      "text/plain": [
       "                                                              doc_str\n",
       "book_id    chap_id                                                   \n",
       "adventures 1        a scandal in bohemia. i. to sherlock holmes sh...\n",
       "           2        the red headed league. i had called upon my fr...\n",
       "           3        a case of identity. my dear fellow said sherlo...\n",
       "           4        the boscombe valley mystery. we were seated at...\n",
       "           5        the five orange pips. when i glance over my no...\n",
       "...                                                               ...\n",
       "udolpho    54       vi. unnatural deeds do breed unnatural trouble...\n",
       "           55       vii. but in these cases we still have judgment...\n",
       "           56       viii. then fresh tears stood on her cheek as d...\n",
       "           57       ix. now my task is smoothly done i can fly or ...\n",
       "usher      1        fall of the house of usher. son coeur est un l...\n",
       "\n",
       "[320 rows x 1 columns]"
      ]
     },
     "execution_count": 10,
     "metadata": {},
     "output_type": "execute_result"
    }
   ],
   "source": [
    "CHAPS"
   ]
  },
  {
   "cell_type": "markdown",
   "id": "789e8bac-c187-484e-a445-b81f43358e11",
   "metadata": {},
   "source": [
    "# Use SpaCy"
   ]
  },
  {
   "cell_type": "code",
   "execution_count": 68,
   "id": "a780478f-aa37-4c66-b1e9-37eb87043029",
   "metadata": {},
   "outputs": [],
   "source": [
    "# disable=[\"tok2vec\", \"tagger\", \"parser\", \"ner\", \"attribute_ruler\", \"lemmatizer\"]\n",
    "disable=[\"attribute_ruler\", \"lemmatizer\", \"tok2vec\", \"parser\"]\n",
    "M = nlp.pipe(CHAPS.doc_str.values, disable=disable)\n",
    "DOCS = [doc.to_json() for doc in M]"
   ]
  },
  {
   "cell_type": "code",
   "execution_count": 69,
   "id": "371b7ed0-948d-4972-9ceb-55f8509fabc1",
   "metadata": {},
   "outputs": [
    {
     "data": {
      "text/plain": [
       "dict_keys(['text', 'ents', 'sents', 'tokens'])"
      ]
     },
     "execution_count": 69,
     "metadata": {},
     "output_type": "execute_result"
    }
   ],
   "source": [
    "DOCS[0].keys()"
   ]
  },
  {
   "cell_type": "code",
   "execution_count": 79,
   "id": "81b1d52d-88b9-4d2d-9195-e56ab208156d",
   "metadata": {},
   "outputs": [],
   "source": [
    "# DOCS[0]['text']"
   ]
  },
  {
   "cell_type": "code",
   "execution_count": 86,
   "id": "868cafd4-cc9f-44f4-a8b6-b583b5e40600",
   "metadata": {},
   "outputs": [
    {
     "data": {
      "text/html": [
       "<div>\n",
       "<style scoped>\n",
       "    .dataframe tbody tr th:only-of-type {\n",
       "        vertical-align: middle;\n",
       "    }\n",
       "\n",
       "    .dataframe tbody tr th {\n",
       "        vertical-align: top;\n",
       "    }\n",
       "\n",
       "    .dataframe thead th {\n",
       "        text-align: right;\n",
       "    }\n",
       "</style>\n",
       "<table border=\"1\" class=\"dataframe\">\n",
       "  <thead>\n",
       "    <tr style=\"text-align: right;\">\n",
       "      <th></th>\n",
       "      <th></th>\n",
       "      <th>label</th>\n",
       "    </tr>\n",
       "    <tr>\n",
       "      <th>start</th>\n",
       "      <th>end</th>\n",
       "      <th></th>\n",
       "    </tr>\n",
       "  </thead>\n",
       "  <tbody>\n",
       "    <tr>\n",
       "      <th>22</th>\n",
       "      <th>24</th>\n",
       "      <td>ORG</td>\n",
       "    </tr>\n",
       "    <tr>\n",
       "      <th>244</th>\n",
       "      <th>255</th>\n",
       "      <td>PERSON</td>\n",
       "    </tr>\n",
       "    <tr>\n",
       "      <th>279</th>\n",
       "      <th>282</th>\n",
       "      <td>CARDINAL</td>\n",
       "    </tr>\n",
       "    <tr>\n",
       "      <th>663</th>\n",
       "      <th>675</th>\n",
       "      <td>PERSON</td>\n",
       "    </tr>\n",
       "    <tr>\n",
       "      <th>890</th>\n",
       "      <th>894</th>\n",
       "      <td>PERSON</td>\n",
       "    </tr>\n",
       "    <tr>\n",
       "      <th>...</th>\n",
       "      <th>...</th>\n",
       "      <td>...</td>\n",
       "    </tr>\n",
       "    <tr>\n",
       "      <th>43254</th>\n",
       "      <th>43259</th>\n",
       "      <td>CARDINAL</td>\n",
       "    </tr>\n",
       "    <tr>\n",
       "      <th>44339</th>\n",
       "      <th>44358</th>\n",
       "      <td>TIME</td>\n",
       "    </tr>\n",
       "    <tr>\n",
       "      <th>44550</th>\n",
       "      <th>44572</th>\n",
       "      <td>GPE</td>\n",
       "    </tr>\n",
       "    <tr>\n",
       "      <th>44611</th>\n",
       "      <th>44617</th>\n",
       "      <td>PERSON</td>\n",
       "    </tr>\n",
       "    <tr>\n",
       "      <th>44760</th>\n",
       "      <th>44771</th>\n",
       "      <td>PERSON</td>\n",
       "    </tr>\n",
       "  </tbody>\n",
       "</table>\n",
       "<p>240 rows × 1 columns</p>\n",
       "</div>"
      ],
      "text/plain": [
       "                label\n",
       "start end            \n",
       "22    24          ORG\n",
       "244   255      PERSON\n",
       "279   282    CARDINAL\n",
       "663   675      PERSON\n",
       "890   894      PERSON\n",
       "...               ...\n",
       "43254 43259  CARDINAL\n",
       "44339 44358      TIME\n",
       "44550 44572       GPE\n",
       "44611 44617    PERSON\n",
       "44760 44771    PERSON\n",
       "\n",
       "[240 rows x 1 columns]"
      ]
     },
     "execution_count": 86,
     "metadata": {},
     "output_type": "execute_result"
    }
   ],
   "source": [
    "pd.DataFrame(DOCS[0]['ents']).set_index(['start','end'])"
   ]
  },
  {
   "cell_type": "code",
   "execution_count": 84,
   "id": "99ebf49a-4a9a-4949-aba3-1eafe01287ae",
   "metadata": {},
   "outputs": [
    {
     "data": {
      "text/html": [
       "<div>\n",
       "<style scoped>\n",
       "    .dataframe tbody tr th:only-of-type {\n",
       "        vertical-align: middle;\n",
       "    }\n",
       "\n",
       "    .dataframe tbody tr th {\n",
       "        vertical-align: top;\n",
       "    }\n",
       "\n",
       "    .dataframe thead th {\n",
       "        text-align: right;\n",
       "    }\n",
       "</style>\n",
       "<table border=\"1\" class=\"dataframe\">\n",
       "  <thead>\n",
       "    <tr style=\"text-align: right;\">\n",
       "      <th></th>\n",
       "      <th></th>\n",
       "    </tr>\n",
       "    <tr>\n",
       "      <th>start</th>\n",
       "      <th>end</th>\n",
       "    </tr>\n",
       "  </thead>\n",
       "  <tbody>\n",
       "    <tr>\n",
       "      <th>0</th>\n",
       "      <th>21</th>\n",
       "    </tr>\n",
       "    <tr>\n",
       "      <th>22</th>\n",
       "      <th>43</th>\n",
       "    </tr>\n",
       "    <tr>\n",
       "      <th>44</th>\n",
       "      <th>68</th>\n",
       "    </tr>\n",
       "    <tr>\n",
       "      <th>69</th>\n",
       "      <th>126</th>\n",
       "    </tr>\n",
       "    <tr>\n",
       "      <th>127</th>\n",
       "      <th>190</th>\n",
       "    </tr>\n",
       "    <tr>\n",
       "      <th>...</th>\n",
       "      <th>...</th>\n",
       "    </tr>\n",
       "    <tr>\n",
       "      <th>44360</th>\n",
       "      <th>44495</th>\n",
       "    </tr>\n",
       "    <tr>\n",
       "      <th>44496</th>\n",
       "      <th>44646</th>\n",
       "    </tr>\n",
       "    <tr>\n",
       "      <th>44647</th>\n",
       "      <th>44697</th>\n",
       "    </tr>\n",
       "    <tr>\n",
       "      <th>44698</th>\n",
       "      <th>44737</th>\n",
       "    </tr>\n",
       "    <tr>\n",
       "      <th>44738</th>\n",
       "      <th>44860</th>\n",
       "    </tr>\n",
       "  </tbody>\n",
       "</table>\n",
       "<p>734 rows × 0 columns</p>\n",
       "</div>"
      ],
      "text/plain": [
       "Empty DataFrame\n",
       "Columns: []\n",
       "Index: [(0, 21), (22, 43), (44, 68), (69, 126), (127, 190), (191, 256), (257, 359), (360, 514), (515, 582), (583, 688), (689, 889), (890, 1043), (1044, 1061), (1062, 1086), (1087, 1158), (1159, 1194), (1195, 1243), (1244, 1708), (1709, 1965), (1966, 2286), (2287, 2440), (2441, 2609), (2610, 2867), (2868, 2922), (2923, 3001), (3002, 3108), (3109, 3194), (3195, 3216), (3217, 3308), (3309, 3396), (3397, 3425), (3426, 3443), (3444, 3474), (3475, 3639), (3640, 3727), (3728, 3745), (3746, 3758), (3759, 3835), (3836, 3842), (3843, 3854), (3855, 3898), (3899, 3933), (3934, 3966), (3967, 4024), (4025, 4046), (4047, 4055), (4056, 4068), (4069, 4193), (4194, 4233), (4234, 4270), (4271, 4305), (4306, 4454), (4455, 4523), (4524, 4574), (4575, 4641), (4642, 4665), (4666, 4813), (4814, 4956), (4957, 5115), (5116, 5445), (5446, 5533), (5534, 5769), (5770, 5822), (5823, 5908), (5909, 5940), (5941, 5966), (5967, 6055), (6056, 6067), (6068, 6078), (6079, 6107), (6108, 6132), (6133, 6142), (6143, 6155), (6156, 6165), (6166, 6188), (6189, 6211), (6212, 6234), (6235, 6315), (6316, 6488), (6489, 6584), (6585, 6609), (6610, 6618), (6619, 6633), (6634, 6695), (6696, 6758), (6759, 6847), (6848, 7032), (7033, 7088), (7089, 7179), (7180, 7216), (7217, 7251), (7252, 7271), (7272, 7328), (7329, 7417), (7418, 7438), (7439, 7466), (7467, 7540), (7541, 7647), (7648, 7707), (7708, 7742), ...]\n",
       "\n",
       "[734 rows x 0 columns]"
      ]
     },
     "execution_count": 84,
     "metadata": {},
     "output_type": "execute_result"
    }
   ],
   "source": [
    "pd.DataFrame(DOCS[0]['sents']).set_index(['start','end'])"
   ]
  },
  {
   "cell_type": "code",
   "execution_count": 85,
   "id": "6884bdae-64ae-44b3-a713-52a9c14c415c",
   "metadata": {},
   "outputs": [
    {
     "data": {
      "text/html": [
       "<div>\n",
       "<style scoped>\n",
       "    .dataframe tbody tr th:only-of-type {\n",
       "        vertical-align: middle;\n",
       "    }\n",
       "\n",
       "    .dataframe tbody tr th {\n",
       "        vertical-align: top;\n",
       "    }\n",
       "\n",
       "    .dataframe thead th {\n",
       "        text-align: right;\n",
       "    }\n",
       "</style>\n",
       "<table border=\"1\" class=\"dataframe\">\n",
       "  <thead>\n",
       "    <tr style=\"text-align: right;\">\n",
       "      <th></th>\n",
       "      <th></th>\n",
       "      <th>id</th>\n",
       "      <th>pos</th>\n",
       "      <th>tag</th>\n",
       "      <th>dep</th>\n",
       "      <th>head</th>\n",
       "    </tr>\n",
       "    <tr>\n",
       "      <th>start</th>\n",
       "      <th>end</th>\n",
       "      <th></th>\n",
       "      <th></th>\n",
       "      <th></th>\n",
       "      <th></th>\n",
       "      <th></th>\n",
       "    </tr>\n",
       "  </thead>\n",
       "  <tbody>\n",
       "    <tr>\n",
       "      <th>0</th>\n",
       "      <th>1</th>\n",
       "      <td>0</td>\n",
       "      <td>DET</td>\n",
       "      <td>DT</td>\n",
       "      <td>det</td>\n",
       "      <td>1</td>\n",
       "    </tr>\n",
       "    <tr>\n",
       "      <th>2</th>\n",
       "      <th>9</th>\n",
       "      <td>1</td>\n",
       "      <td>NOUN</td>\n",
       "      <td>NN</td>\n",
       "      <td>ROOT</td>\n",
       "      <td>1</td>\n",
       "    </tr>\n",
       "    <tr>\n",
       "      <th>10</th>\n",
       "      <th>12</th>\n",
       "      <td>2</td>\n",
       "      <td>ADP</td>\n",
       "      <td>IN</td>\n",
       "      <td>prep</td>\n",
       "      <td>1</td>\n",
       "    </tr>\n",
       "    <tr>\n",
       "      <th>13</th>\n",
       "      <th>20</th>\n",
       "      <td>3</td>\n",
       "      <td>NOUN</td>\n",
       "      <td>NN</td>\n",
       "      <td>pobj</td>\n",
       "      <td>2</td>\n",
       "    </tr>\n",
       "    <tr>\n",
       "      <th>20</th>\n",
       "      <th>21</th>\n",
       "      <td>4</td>\n",
       "      <td>PUNCT</td>\n",
       "      <td>.</td>\n",
       "      <td>punct</td>\n",
       "      <td>1</td>\n",
       "    </tr>\n",
       "    <tr>\n",
       "      <th>...</th>\n",
       "      <th>...</th>\n",
       "      <td>...</td>\n",
       "      <td>...</td>\n",
       "      <td>...</td>\n",
       "      <td>...</td>\n",
       "      <td>...</td>\n",
       "    </tr>\n",
       "    <tr>\n",
       "      <th>44831</th>\n",
       "      <th>44841</th>\n",
       "      <td>9291</td>\n",
       "      <td>ADJ</td>\n",
       "      <td>JJ</td>\n",
       "      <td>amod</td>\n",
       "      <td>9292</td>\n",
       "    </tr>\n",
       "    <tr>\n",
       "      <th>44842</th>\n",
       "      <th>44847</th>\n",
       "      <td>9292</td>\n",
       "      <td>NOUN</td>\n",
       "      <td>NN</td>\n",
       "      <td>pobj</td>\n",
       "      <td>9289</td>\n",
       "    </tr>\n",
       "    <tr>\n",
       "      <th>44848</th>\n",
       "      <th>44850</th>\n",
       "      <td>9293</td>\n",
       "      <td>ADP</td>\n",
       "      <td>IN</td>\n",
       "      <td>prep</td>\n",
       "      <td>9292</td>\n",
       "    </tr>\n",
       "    <tr>\n",
       "      <th>44851</th>\n",
       "      <th>44854</th>\n",
       "      <td>9294</td>\n",
       "      <td>DET</td>\n",
       "      <td>DT</td>\n",
       "      <td>det</td>\n",
       "      <td>9295</td>\n",
       "    </tr>\n",
       "    <tr>\n",
       "      <th>44855</th>\n",
       "      <th>44860</th>\n",
       "      <td>9295</td>\n",
       "      <td>NOUN</td>\n",
       "      <td>NN</td>\n",
       "      <td>pobj</td>\n",
       "      <td>9293</td>\n",
       "    </tr>\n",
       "  </tbody>\n",
       "</table>\n",
       "<p>9296 rows × 5 columns</p>\n",
       "</div>"
      ],
      "text/plain": [
       "               id    pos tag    dep  head\n",
       "start end                                \n",
       "0     1         0    DET  DT    det     1\n",
       "2     9         1   NOUN  NN   ROOT     1\n",
       "10    12        2    ADP  IN   prep     1\n",
       "13    20        3   NOUN  NN   pobj     2\n",
       "20    21        4  PUNCT   .  punct     1\n",
       "...           ...    ...  ..    ...   ...\n",
       "44831 44841  9291    ADJ  JJ   amod  9292\n",
       "44842 44847  9292   NOUN  NN   pobj  9289\n",
       "44848 44850  9293    ADP  IN   prep  9292\n",
       "44851 44854  9294    DET  DT    det  9295\n",
       "44855 44860  9295   NOUN  NN   pobj  9293\n",
       "\n",
       "[9296 rows x 5 columns]"
      ]
     },
     "execution_count": 85,
     "metadata": {},
     "output_type": "execute_result"
    }
   ],
   "source": [
    "pd.DataFrame(DOCS[0]['tokens']).set_index(['start','end'])"
   ]
  },
  {
   "cell_type": "code",
   "execution_count": 65,
   "id": "39ac8834-655b-421e-b252-d19e3cdfa792",
   "metadata": {},
   "outputs": [],
   "source": [
    "span = DOCS[0]['tokens'][6]['start'], DOCS[0]['tokens'][6]['end']"
   ]
  },
  {
   "cell_type": "code",
   "execution_count": 66,
   "id": "736f9519-dc35-482f-951c-31777fda3598",
   "metadata": {},
   "outputs": [
    {
     "data": {
      "text/plain": [
       "'to'"
      ]
     },
     "execution_count": 66,
     "metadata": {},
     "output_type": "execute_result"
    }
   ],
   "source": [
    "DOCS[0]['text'][span[0]:span[1]]"
   ]
  },
  {
   "cell_type": "code",
   "execution_count": 88,
   "id": "e8e1bbbd-7eff-4b32-9a7e-a7ac69f72075",
   "metadata": {},
   "outputs": [],
   "source": [
    "# DOCS[0][0]"
   ]
  },
  {
   "cell_type": "code",
   "execution_count": 61,
   "id": "9a67f720-28a5-4f58-8d64-e556c47fef2a",
   "metadata": {},
   "outputs": [
    {
     "data": {
      "text/plain": [
       "\u001b[0;31mSignature:\u001b[0m\n",
       "\u001b[0mnlp\u001b[0m\u001b[0;34m.\u001b[0m\u001b[0mpipe\u001b[0m\u001b[0;34m(\u001b[0m\u001b[0;34m\u001b[0m\n",
       "\u001b[0;34m\u001b[0m    \u001b[0mtexts\u001b[0m\u001b[0;34m,\u001b[0m\u001b[0;34m\u001b[0m\n",
       "\u001b[0;34m\u001b[0m    \u001b[0mas_tuples\u001b[0m\u001b[0;34m=\u001b[0m\u001b[0;32mFalse\u001b[0m\u001b[0;34m,\u001b[0m\u001b[0;34m\u001b[0m\n",
       "\u001b[0;34m\u001b[0m    \u001b[0mn_threads\u001b[0m\u001b[0;34m=\u001b[0m\u001b[0;34m-\u001b[0m\u001b[0;36m1\u001b[0m\u001b[0;34m,\u001b[0m\u001b[0;34m\u001b[0m\n",
       "\u001b[0;34m\u001b[0m    \u001b[0mbatch_size\u001b[0m\u001b[0;34m=\u001b[0m\u001b[0;36m1000\u001b[0m\u001b[0;34m,\u001b[0m\u001b[0;34m\u001b[0m\n",
       "\u001b[0;34m\u001b[0m    \u001b[0mdisable\u001b[0m\u001b[0;34m=\u001b[0m\u001b[0;34m[\u001b[0m\u001b[0;34m]\u001b[0m\u001b[0;34m,\u001b[0m\u001b[0;34m\u001b[0m\n",
       "\u001b[0;34m\u001b[0m    \u001b[0mcleanup\u001b[0m\u001b[0;34m=\u001b[0m\u001b[0;32mFalse\u001b[0m\u001b[0;34m,\u001b[0m\u001b[0;34m\u001b[0m\n",
       "\u001b[0;34m\u001b[0m    \u001b[0mcomponent_cfg\u001b[0m\u001b[0;34m=\u001b[0m\u001b[0;32mNone\u001b[0m\u001b[0;34m,\u001b[0m\u001b[0;34m\u001b[0m\n",
       "\u001b[0;34m\u001b[0m    \u001b[0mn_process\u001b[0m\u001b[0;34m=\u001b[0m\u001b[0;36m1\u001b[0m\u001b[0;34m,\u001b[0m\u001b[0;34m\u001b[0m\n",
       "\u001b[0;34m\u001b[0m\u001b[0;34m)\u001b[0m\u001b[0;34m\u001b[0m\u001b[0;34m\u001b[0m\u001b[0m\n",
       "\u001b[0;31mDocstring:\u001b[0m\n",
       "Process texts as a stream, and yield `Doc` objects in order.\n",
       "\n",
       "texts (iterator): A sequence of texts to process.\n",
       "as_tuples (bool): If set to True, inputs should be a sequence of\n",
       "    (text, context) tuples. Output will then be a sequence of\n",
       "    (doc, context) tuples. Defaults to False.\n",
       "batch_size (int): The number of texts to buffer.\n",
       "disable (list): Names of the pipeline components to disable.\n",
       "cleanup (bool): If True, unneeded strings are freed to control memory\n",
       "    use. Experimental.\n",
       "component_cfg (dict): An optional dictionary with extra keyword\n",
       "    arguments for specific components.\n",
       "n_process (int): Number of processors to process texts, only supported\n",
       "    in Python3. If -1, set `multiprocessing.cpu_count()`.\n",
       "YIELDS (Doc): Documents in the order of the original text.\n",
       "\n",
       "DOCS: https://spacy.io/api/language#pipe\n",
       "\u001b[0;31mFile:\u001b[0m      ~/anaconda3/lib/python3.8/site-packages/spacy/language.py\n",
       "\u001b[0;31mType:\u001b[0m      method\n"
      ]
     },
     "metadata": {},
     "output_type": "display_data"
    }
   ],
   "source": [
    "nlp.pipe?"
   ]
  },
  {
   "cell_type": "code",
   "execution_count": null,
   "id": "430778b5-f7ff-4874-b257-f614e4647700",
   "metadata": {},
   "outputs": [],
   "source": []
  }
 ],
 "metadata": {
  "kernelspec": {
   "display_name": "eta",
   "language": "python",
   "name": "eta"
  },
  "language_info": {
   "codemirror_mode": {
    "name": "ipython",
    "version": 3
   },
   "file_extension": ".py",
   "mimetype": "text/x-python",
   "name": "python",
   "nbconvert_exporter": "python",
   "pygments_lexer": "ipython3",
   "version": "3.8.3"
  },
  "widgets": {
   "application/vnd.jupyter.widget-state+json": {
    "state": {},
    "version_major": 2,
    "version_minor": 0
   }
  }
 },
 "nbformat": 4,
 "nbformat_minor": 5
}
