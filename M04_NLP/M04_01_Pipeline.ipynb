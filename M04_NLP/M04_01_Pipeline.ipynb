{
 "cells": [
  {
   "cell_type": "markdown",
   "metadata": {},
   "source": [
    "# Metadata\n",
    "\n",
    "```\n",
    "Course:   DS 5001\n",
    "Module:   04 Lab\n",
    "Topic:    NLP and the Pipeline\n",
    "Author:   R.C. Alvarado\n",
    "\n",
    "Purpose:  We import a collection of texts and convert to F2. Then we annotate the collection to create an F3-level model.\n",
    "```"
   ]
  },
  {
   "cell_type": "markdown",
   "metadata": {
    "toc-hr-collapsed": true
   },
   "source": [
    "# Set Up"
   ]
  },
  {
   "cell_type": "code",
   "execution_count": 1,
   "metadata": {
    "colab": {},
    "colab_type": "code",
    "id": "MwrVU8kZDykb"
   },
   "outputs": [],
   "source": [
    "data_home = \"../data\"\n",
    "local_lib = \"../lib\"\n",
    "source_files = f'{data_home}/gutenberg/austen-melville-set'\n",
    "data_prefix = 'austen-melville'"
   ]
  },
  {
   "cell_type": "code",
   "execution_count": 2,
   "metadata": {
    "colab": {},
    "colab_type": "code",
    "id": "MwrVU8kZDykb"
   },
   "outputs": [],
   "source": [
    "OHCO = ['book_id', 'chap_num', 'para_num', 'sent_num', 'token_num']"
   ]
  },
  {
   "cell_type": "code",
   "execution_count": 122,
   "metadata": {
    "colab": {},
    "colab_type": "code",
    "id": "MwrVU8kZDykb"
   },
   "outputs": [],
   "source": [
    "import pandas as pd\n",
    "import numpy as np\n",
    "from glob import glob\n",
    "import re\n",
    "import nltk\n",
    "import seaborn as sns; sns.set()\n",
    "import plotly_express as px"
   ]
  },
  {
   "cell_type": "code",
   "execution_count": 4,
   "metadata": {
    "colab": {},
    "colab_type": "code",
    "id": "MwrVU8kZDykb"
   },
   "outputs": [],
   "source": [
    "import sys\n",
    "sys.path.append(local_lib)"
   ]
  },
  {
   "cell_type": "code",
   "execution_count": 5,
   "metadata": {
    "colab": {},
    "colab_type": "code",
    "id": "MwrVU8kZDykb"
   },
   "outputs": [],
   "source": [
    "from textparser import TextParser"
   ]
  },
  {
   "cell_type": "markdown",
   "metadata": {},
   "source": [
    "# Inspect\n",
    "\n",
    "Since Project Gutenberg texts vary widely in their markup, we define our chunking patterns by hand."
   ]
  },
  {
   "cell_type": "code",
   "execution_count": 6,
   "metadata": {},
   "outputs": [],
   "source": [
    "clip_pats = [\n",
    "    r\"\\*\\*\\*\\s*START OF\",\n",
    "    r\"\\*\\*\\*\\s*END OF\"\n",
    "]\n",
    "\n",
    "# All are 'chap'and 'm'\n",
    "roman = '[IVXLCM]+'\n",
    "caps = \"[A-Z';, -]+\"\n",
    "ohco_pat_list = [\n",
    "    (158,   rf\"^\\s*CHAPTER\\s+{roman}\\s*$\"),\n",
    "    (946,   rf\"^\\s*{roman}\\s*$\"),\n",
    "    (1212,  rf\"^\\s*LETTER .* to .*$\"),\n",
    "    (141,   rf\"^CHAPTER\\s+{roman}$\"),\n",
    "    (121,   rf\"^CHAPTER\\s+\\d+$\"),\n",
    "    (105,   rf\"^Chapter\\s+\\d+$\"),\n",
    "    (1342,  rf\"^Chapter\\s+\\d+$\"),\n",
    "    (161,   rf\"^CHAPTER\\s+\\d+$\"),    \n",
    "    (15422, rf\"^\\s*CHAPTER\\s+{roman}\\.\"),\n",
    "    (13720, rf\"^\\s*CHAPTER\\s+{roman}\\s*$\"),\n",
    "    (13721, rf\"^\\s*CHAPTER\\s+{roman}\\s*$\"),\n",
    "    (2701,  rf\"^(?:ETYMOLOGY|EXTRACTS|CHAPTER)\"),\n",
    "    (4045,  rf\"^\\s*CHAPTER\\s+{roman}\\.\\s*$\"),\n",
    "    (34970, rf\"^\\s*{roman}\\.\\s*$\"),\n",
    "    (8118,  rf\"^\\s*{roman}\\. .*$\"),\n",
    "    (21816, rf\"^CHAPTER\\s+{roman}\\.?$\"),\n",
    "    (1900,  rf\"^CHAPTER \"),\n",
    "    (10712, rf\"^CHAPTER\\s+{roman}\\.\\s*$\")\n",
    "]"
   ]
  },
  {
   "cell_type": "markdown",
   "metadata": {},
   "source": [
    "# Register\n",
    "\n",
    "We get each file and add to a library `LIB`."
   ]
  },
  {
   "cell_type": "code",
   "execution_count": 7,
   "metadata": {},
   "outputs": [],
   "source": [
    "source_file_list = sorted(glob(f\"{source_files}/*.*\"))"
   ]
  },
  {
   "cell_type": "code",
   "execution_count": 60,
   "metadata": {},
   "outputs": [],
   "source": [
    "# source_file_list"
   ]
  },
  {
   "cell_type": "code",
   "execution_count": 8,
   "metadata": {},
   "outputs": [],
   "source": [
    "book_data = []\n",
    "for source_file_path in source_file_list:\n",
    "    book_id = int(source_file_path.split('-')[-1].split('.')[0].replace('pg',''))\n",
    "    book_title = source_file_path.split('/')[-1].split('-')[0].replace('_', ' ')\n",
    "    book_data.append((book_id, source_file_path, book_title))"
   ]
  },
  {
   "cell_type": "code",
   "execution_count": 9,
   "metadata": {},
   "outputs": [],
   "source": [
    "LIB = pd.DataFrame(book_data, columns=['book_id','source_file_path','raw_title'])\\\n",
    "    .set_index('book_id').sort_index()"
   ]
  },
  {
   "cell_type": "code",
   "execution_count": 10,
   "metadata": {},
   "outputs": [
    {
     "data": {
      "text/html": [
       "<div>\n",
       "<style scoped>\n",
       "    .dataframe tbody tr th:only-of-type {\n",
       "        vertical-align: middle;\n",
       "    }\n",
       "\n",
       "    .dataframe tbody tr th {\n",
       "        vertical-align: top;\n",
       "    }\n",
       "\n",
       "    .dataframe thead th {\n",
       "        text-align: right;\n",
       "    }\n",
       "</style>\n",
       "<table border=\"1\" class=\"dataframe\">\n",
       "  <thead>\n",
       "    <tr style=\"text-align: right;\">\n",
       "      <th></th>\n",
       "      <th>source_file_path</th>\n",
       "      <th>raw_title</th>\n",
       "    </tr>\n",
       "    <tr>\n",
       "      <th>book_id</th>\n",
       "      <th></th>\n",
       "      <th></th>\n",
       "    </tr>\n",
       "  </thead>\n",
       "  <tbody>\n",
       "    <tr>\n",
       "      <th>105</th>\n",
       "      <td>../data/gutenberg/austen-melville-set/AUSTEN_J...</td>\n",
       "      <td>AUSTEN JANE PERSUASION</td>\n",
       "    </tr>\n",
       "    <tr>\n",
       "      <th>121</th>\n",
       "      <td>../data/gutenberg/austen-melville-set/AUSTEN_J...</td>\n",
       "      <td>AUSTEN JANE NORTHANGER ABBEY</td>\n",
       "    </tr>\n",
       "    <tr>\n",
       "      <th>141</th>\n",
       "      <td>../data/gutenberg/austen-melville-set/AUSTEN_J...</td>\n",
       "      <td>AUSTEN JANE MANSFIELD PARK</td>\n",
       "    </tr>\n",
       "    <tr>\n",
       "      <th>158</th>\n",
       "      <td>../data/gutenberg/austen-melville-set/AUSTEN_J...</td>\n",
       "      <td>AUSTEN JANE EMMA</td>\n",
       "    </tr>\n",
       "    <tr>\n",
       "      <th>161</th>\n",
       "      <td>../data/gutenberg/austen-melville-set/AUSTEN_J...</td>\n",
       "      <td>AUSTEN JANE SENSE AND SENSIBILITY</td>\n",
       "    </tr>\n",
       "    <tr>\n",
       "      <th>946</th>\n",
       "      <td>../data/gutenberg/austen-melville-set/AUSTEN_J...</td>\n",
       "      <td>AUSTEN JANE LADY SUSAN</td>\n",
       "    </tr>\n",
       "    <tr>\n",
       "      <th>1212</th>\n",
       "      <td>../data/gutenberg/austen-melville-set/AUSTEN_J...</td>\n",
       "      <td>AUSTEN JANE LOVE AND FREINDSHIP SIC</td>\n",
       "    </tr>\n",
       "    <tr>\n",
       "      <th>1342</th>\n",
       "      <td>../data/gutenberg/austen-melville-set/AUSTEN_J...</td>\n",
       "      <td>AUSTEN JANE PRIDE AND PREJUDICE</td>\n",
       "    </tr>\n",
       "    <tr>\n",
       "      <th>1900</th>\n",
       "      <td>../data/gutenberg/austen-melville-set/MELVILLE...</td>\n",
       "      <td>MELVILLE HERMAN TYPEE A ROMANCE OF THE SOUTH SEAS</td>\n",
       "    </tr>\n",
       "    <tr>\n",
       "      <th>2701</th>\n",
       "      <td>../data/gutenberg/austen-melville-set/MELVILLE...</td>\n",
       "      <td>MELVILLE HERMAN MOBY DICK OR THE WHALE</td>\n",
       "    </tr>\n",
       "    <tr>\n",
       "      <th>4045</th>\n",
       "      <td>../data/gutenberg/austen-melville-set/MELVILLE...</td>\n",
       "      <td>MELVILLE HERMAN OMOO ADVENTURES IN THE SOUTH SEAS</td>\n",
       "    </tr>\n",
       "    <tr>\n",
       "      <th>8118</th>\n",
       "      <td>../data/gutenberg/austen-melville-set/MELVILLE...</td>\n",
       "      <td>MELVILLE HERMAN REDBURN HIS FIRST VOYAGE BEING...</td>\n",
       "    </tr>\n",
       "    <tr>\n",
       "      <th>10712</th>\n",
       "      <td>../data/gutenberg/austen-melville-set/MELVILLE...</td>\n",
       "      <td>MELVILLE HERMAN WHITE JACKET OR THE WORLD ON A...</td>\n",
       "    </tr>\n",
       "    <tr>\n",
       "      <th>13720</th>\n",
       "      <td>../data/gutenberg/austen-melville-set/MELVILLE...</td>\n",
       "      <td>MELVILLE HERMAN MARDI AND A VOYAGE THITHER VOL I</td>\n",
       "    </tr>\n",
       "    <tr>\n",
       "      <th>13721</th>\n",
       "      <td>../data/gutenberg/austen-melville-set/MELVILLE...</td>\n",
       "      <td>MELVILLE HERMAN MARDI AND A VOYAGE THITHER VOL II</td>\n",
       "    </tr>\n",
       "    <tr>\n",
       "      <th>15422</th>\n",
       "      <td>../data/gutenberg/austen-melville-set/MELVILLE...</td>\n",
       "      <td>MELVILLE HERMAN ISRAEL POTTER HIS FIFTY YEARS ...</td>\n",
       "    </tr>\n",
       "    <tr>\n",
       "      <th>21816</th>\n",
       "      <td>../data/gutenberg/austen-melville-set/MELVILLE...</td>\n",
       "      <td>MELVILLE HERMAN THE CONFIDENCE MAN HIS MASQUERADE</td>\n",
       "    </tr>\n",
       "    <tr>\n",
       "      <th>34970</th>\n",
       "      <td>../data/gutenberg/austen-melville-set/MELVILLE...</td>\n",
       "      <td>MELVILLE HERMAN PIERRE OR THE AMBIGUITIES</td>\n",
       "    </tr>\n",
       "  </tbody>\n",
       "</table>\n",
       "</div>"
      ],
      "text/plain": [
       "                                          source_file_path  \\\n",
       "book_id                                                      \n",
       "105      ../data/gutenberg/austen-melville-set/AUSTEN_J...   \n",
       "121      ../data/gutenberg/austen-melville-set/AUSTEN_J...   \n",
       "141      ../data/gutenberg/austen-melville-set/AUSTEN_J...   \n",
       "158      ../data/gutenberg/austen-melville-set/AUSTEN_J...   \n",
       "161      ../data/gutenberg/austen-melville-set/AUSTEN_J...   \n",
       "946      ../data/gutenberg/austen-melville-set/AUSTEN_J...   \n",
       "1212     ../data/gutenberg/austen-melville-set/AUSTEN_J...   \n",
       "1342     ../data/gutenberg/austen-melville-set/AUSTEN_J...   \n",
       "1900     ../data/gutenberg/austen-melville-set/MELVILLE...   \n",
       "2701     ../data/gutenberg/austen-melville-set/MELVILLE...   \n",
       "4045     ../data/gutenberg/austen-melville-set/MELVILLE...   \n",
       "8118     ../data/gutenberg/austen-melville-set/MELVILLE...   \n",
       "10712    ../data/gutenberg/austen-melville-set/MELVILLE...   \n",
       "13720    ../data/gutenberg/austen-melville-set/MELVILLE...   \n",
       "13721    ../data/gutenberg/austen-melville-set/MELVILLE...   \n",
       "15422    ../data/gutenberg/austen-melville-set/MELVILLE...   \n",
       "21816    ../data/gutenberg/austen-melville-set/MELVILLE...   \n",
       "34970    ../data/gutenberg/austen-melville-set/MELVILLE...   \n",
       "\n",
       "                                                 raw_title  \n",
       "book_id                                                     \n",
       "105                                 AUSTEN JANE PERSUASION  \n",
       "121                           AUSTEN JANE NORTHANGER ABBEY  \n",
       "141                             AUSTEN JANE MANSFIELD PARK  \n",
       "158                                       AUSTEN JANE EMMA  \n",
       "161                      AUSTEN JANE SENSE AND SENSIBILITY  \n",
       "946                                 AUSTEN JANE LADY SUSAN  \n",
       "1212                  AUSTEN JANE LOVE AND FREINDSHIP SIC   \n",
       "1342                       AUSTEN JANE PRIDE AND PREJUDICE  \n",
       "1900     MELVILLE HERMAN TYPEE A ROMANCE OF THE SOUTH SEAS  \n",
       "2701                MELVILLE HERMAN MOBY DICK OR THE WHALE  \n",
       "4045     MELVILLE HERMAN OMOO ADVENTURES IN THE SOUTH SEAS  \n",
       "8118     MELVILLE HERMAN REDBURN HIS FIRST VOYAGE BEING...  \n",
       "10712    MELVILLE HERMAN WHITE JACKET OR THE WORLD ON A...  \n",
       "13720     MELVILLE HERMAN MARDI AND A VOYAGE THITHER VOL I  \n",
       "13721    MELVILLE HERMAN MARDI AND A VOYAGE THITHER VOL II  \n",
       "15422    MELVILLE HERMAN ISRAEL POTTER HIS FIFTY YEARS ...  \n",
       "21816    MELVILLE HERMAN THE CONFIDENCE MAN HIS MASQUERADE  \n",
       "34970            MELVILLE HERMAN PIERRE OR THE AMBIGUITIES  "
      ]
     },
     "execution_count": 10,
     "metadata": {},
     "output_type": "execute_result"
    }
   ],
   "source": [
    "LIB"
   ]
  },
  {
   "cell_type": "code",
   "execution_count": 62,
   "metadata": {},
   "outputs": [],
   "source": [
    "try:\n",
    "    LIB['author'] = LIB.raw_title.apply(lambda x: ', '.join(x.split()[:2]))\n",
    "    LIB['title'] = LIB.raw_title.apply(lambda x: ' '.join(x.split()[2:]))\n",
    "    LIB = LIB.drop('raw_title', 1)\n",
    "except AttributeError:\n",
    "    pass"
   ]
  },
  {
   "cell_type": "code",
   "execution_count": 63,
   "metadata": {},
   "outputs": [
    {
     "data": {
      "text/html": [
       "<div>\n",
       "<style scoped>\n",
       "    .dataframe tbody tr th:only-of-type {\n",
       "        vertical-align: middle;\n",
       "    }\n",
       "\n",
       "    .dataframe tbody tr th {\n",
       "        vertical-align: top;\n",
       "    }\n",
       "\n",
       "    .dataframe thead th {\n",
       "        text-align: right;\n",
       "    }\n",
       "</style>\n",
       "<table border=\"1\" class=\"dataframe\">\n",
       "  <thead>\n",
       "    <tr style=\"text-align: right;\">\n",
       "      <th></th>\n",
       "      <th>source_file_path</th>\n",
       "      <th>chap_regex</th>\n",
       "      <th>book_len</th>\n",
       "      <th>n_chaps</th>\n",
       "      <th>author</th>\n",
       "      <th>title</th>\n",
       "    </tr>\n",
       "    <tr>\n",
       "      <th>book_id</th>\n",
       "      <th></th>\n",
       "      <th></th>\n",
       "      <th></th>\n",
       "      <th></th>\n",
       "      <th></th>\n",
       "      <th></th>\n",
       "    </tr>\n",
       "  </thead>\n",
       "  <tbody>\n",
       "    <tr>\n",
       "      <th>105</th>\n",
       "      <td>../data/gutenberg/austen-melville-set/AUSTEN_J...</td>\n",
       "      <td>^Chapter\\s+\\d+$</td>\n",
       "      <td>83624</td>\n",
       "      <td>24</td>\n",
       "      <td>AUSTEN, JANE</td>\n",
       "      <td>PERSUASION</td>\n",
       "    </tr>\n",
       "    <tr>\n",
       "      <th>121</th>\n",
       "      <td>../data/gutenberg/austen-melville-set/AUSTEN_J...</td>\n",
       "      <td>^CHAPTER\\s+\\d+$</td>\n",
       "      <td>77601</td>\n",
       "      <td>31</td>\n",
       "      <td>AUSTEN, JANE</td>\n",
       "      <td>NORTHANGER ABBEY</td>\n",
       "    </tr>\n",
       "    <tr>\n",
       "      <th>141</th>\n",
       "      <td>../data/gutenberg/austen-melville-set/AUSTEN_J...</td>\n",
       "      <td>^CHAPTER\\s+[IVXLCM]+$</td>\n",
       "      <td>160378</td>\n",
       "      <td>48</td>\n",
       "      <td>AUSTEN, JANE</td>\n",
       "      <td>MANSFIELD PARK</td>\n",
       "    </tr>\n",
       "    <tr>\n",
       "      <th>158</th>\n",
       "      <td>../data/gutenberg/austen-melville-set/AUSTEN_J...</td>\n",
       "      <td>^\\s*CHAPTER\\s+[IVXLCM]+\\s*$</td>\n",
       "      <td>160925</td>\n",
       "      <td>55</td>\n",
       "      <td>AUSTEN, JANE</td>\n",
       "      <td>EMMA</td>\n",
       "    </tr>\n",
       "    <tr>\n",
       "      <th>161</th>\n",
       "      <td>../data/gutenberg/austen-melville-set/AUSTEN_J...</td>\n",
       "      <td>^CHAPTER\\s+\\d+$</td>\n",
       "      <td>119873</td>\n",
       "      <td>50</td>\n",
       "      <td>AUSTEN, JANE</td>\n",
       "      <td>SENSE AND SENSIBILITY</td>\n",
       "    </tr>\n",
       "    <tr>\n",
       "      <th>946</th>\n",
       "      <td>../data/gutenberg/austen-melville-set/AUSTEN_J...</td>\n",
       "      <td>^\\s*[IVXLCM]+\\s*$</td>\n",
       "      <td>23116</td>\n",
       "      <td>41</td>\n",
       "      <td>AUSTEN, JANE</td>\n",
       "      <td>LADY SUSAN</td>\n",
       "    </tr>\n",
       "    <tr>\n",
       "      <th>1212</th>\n",
       "      <td>../data/gutenberg/austen-melville-set/AUSTEN_J...</td>\n",
       "      <td>^\\s*LETTER .* to .*$</td>\n",
       "      <td>33265</td>\n",
       "      <td>24</td>\n",
       "      <td>AUSTEN, JANE</td>\n",
       "      <td>LOVE AND FREINDSHIP SIC</td>\n",
       "    </tr>\n",
       "    <tr>\n",
       "      <th>1342</th>\n",
       "      <td>../data/gutenberg/austen-melville-set/AUSTEN_J...</td>\n",
       "      <td>^Chapter\\s+\\d+$</td>\n",
       "      <td>122126</td>\n",
       "      <td>61</td>\n",
       "      <td>AUSTEN, JANE</td>\n",
       "      <td>PRIDE AND PREJUDICE</td>\n",
       "    </tr>\n",
       "    <tr>\n",
       "      <th>1900</th>\n",
       "      <td>../data/gutenberg/austen-melville-set/MELVILLE...</td>\n",
       "      <td>^CHAPTER</td>\n",
       "      <td>108021</td>\n",
       "      <td>34</td>\n",
       "      <td>MELVILLE, HERMAN</td>\n",
       "      <td>TYPEE A ROMANCE OF THE SOUTH SEAS</td>\n",
       "    </tr>\n",
       "    <tr>\n",
       "      <th>2701</th>\n",
       "      <td>../data/gutenberg/austen-melville-set/MELVILLE...</td>\n",
       "      <td>^(?:ETYMOLOGY|EXTRACTS|CHAPTER)</td>\n",
       "      <td>215504</td>\n",
       "      <td>138</td>\n",
       "      <td>MELVILLE, HERMAN</td>\n",
       "      <td>MOBY DICK OR THE WHALE</td>\n",
       "    </tr>\n",
       "    <tr>\n",
       "      <th>4045</th>\n",
       "      <td>../data/gutenberg/austen-melville-set/MELVILLE...</td>\n",
       "      <td>^\\s*CHAPTER\\s+[IVXLCM]+\\.\\s*$</td>\n",
       "      <td>102352</td>\n",
       "      <td>82</td>\n",
       "      <td>MELVILLE, HERMAN</td>\n",
       "      <td>OMOO ADVENTURES IN THE SOUTH SEAS</td>\n",
       "    </tr>\n",
       "    <tr>\n",
       "      <th>8118</th>\n",
       "      <td>../data/gutenberg/austen-melville-set/MELVILLE...</td>\n",
       "      <td>^\\s*[IVXLCM]+\\. .*$</td>\n",
       "      <td>119243</td>\n",
       "      <td>78</td>\n",
       "      <td>MELVILLE, HERMAN</td>\n",
       "      <td>REDBURN HIS FIRST VOYAGE BEING THE SAILOR BOY ...</td>\n",
       "    </tr>\n",
       "    <tr>\n",
       "      <th>10712</th>\n",
       "      <td>../data/gutenberg/austen-melville-set/MELVILLE...</td>\n",
       "      <td>^CHAPTER\\s+[IVXLCM]+\\.\\s*$</td>\n",
       "      <td>143309</td>\n",
       "      <td>92</td>\n",
       "      <td>MELVILLE, HERMAN</td>\n",
       "      <td>WHITE JACKET OR THE WORLD ON A MAN OF WAR</td>\n",
       "    </tr>\n",
       "    <tr>\n",
       "      <th>13720</th>\n",
       "      <td>../data/gutenberg/austen-melville-set/MELVILLE...</td>\n",
       "      <td>^\\s*CHAPTER\\s+[IVXLCM]+\\s*$</td>\n",
       "      <td>96878</td>\n",
       "      <td>104</td>\n",
       "      <td>MELVILLE, HERMAN</td>\n",
       "      <td>MARDI AND A VOYAGE THITHER VOL I</td>\n",
       "    </tr>\n",
       "    <tr>\n",
       "      <th>13721</th>\n",
       "      <td>../data/gutenberg/austen-melville-set/MELVILLE...</td>\n",
       "      <td>^\\s*CHAPTER\\s+[IVXLCM]+\\s*$</td>\n",
       "      <td>102092</td>\n",
       "      <td>91</td>\n",
       "      <td>MELVILLE, HERMAN</td>\n",
       "      <td>MARDI AND A VOYAGE THITHER VOL II</td>\n",
       "    </tr>\n",
       "    <tr>\n",
       "      <th>15422</th>\n",
       "      <td>../data/gutenberg/austen-melville-set/MELVILLE...</td>\n",
       "      <td>^\\s*CHAPTER\\s+[IVXLCM]+\\.</td>\n",
       "      <td>65516</td>\n",
       "      <td>27</td>\n",
       "      <td>MELVILLE, HERMAN</td>\n",
       "      <td>ISRAEL POTTER HIS FIFTY YEARS OF EXILE</td>\n",
       "    </tr>\n",
       "    <tr>\n",
       "      <th>21816</th>\n",
       "      <td>../data/gutenberg/austen-melville-set/MELVILLE...</td>\n",
       "      <td>^CHAPTER\\s+[IVXLCM]+\\.?$</td>\n",
       "      <td>95315</td>\n",
       "      <td>90</td>\n",
       "      <td>MELVILLE, HERMAN</td>\n",
       "      <td>THE CONFIDENCE MAN HIS MASQUERADE</td>\n",
       "    </tr>\n",
       "    <tr>\n",
       "      <th>34970</th>\n",
       "      <td>../data/gutenberg/austen-melville-set/MELVILLE...</td>\n",
       "      <td>^\\s*[IVXLCM]+\\.\\s*$</td>\n",
       "      <td>155056</td>\n",
       "      <td>114</td>\n",
       "      <td>MELVILLE, HERMAN</td>\n",
       "      <td>PIERRE OR THE AMBIGUITIES</td>\n",
       "    </tr>\n",
       "  </tbody>\n",
       "</table>\n",
       "</div>"
      ],
      "text/plain": [
       "                                          source_file_path  \\\n",
       "book_id                                                      \n",
       "105      ../data/gutenberg/austen-melville-set/AUSTEN_J...   \n",
       "121      ../data/gutenberg/austen-melville-set/AUSTEN_J...   \n",
       "141      ../data/gutenberg/austen-melville-set/AUSTEN_J...   \n",
       "158      ../data/gutenberg/austen-melville-set/AUSTEN_J...   \n",
       "161      ../data/gutenberg/austen-melville-set/AUSTEN_J...   \n",
       "946      ../data/gutenberg/austen-melville-set/AUSTEN_J...   \n",
       "1212     ../data/gutenberg/austen-melville-set/AUSTEN_J...   \n",
       "1342     ../data/gutenberg/austen-melville-set/AUSTEN_J...   \n",
       "1900     ../data/gutenberg/austen-melville-set/MELVILLE...   \n",
       "2701     ../data/gutenberg/austen-melville-set/MELVILLE...   \n",
       "4045     ../data/gutenberg/austen-melville-set/MELVILLE...   \n",
       "8118     ../data/gutenberg/austen-melville-set/MELVILLE...   \n",
       "10712    ../data/gutenberg/austen-melville-set/MELVILLE...   \n",
       "13720    ../data/gutenberg/austen-melville-set/MELVILLE...   \n",
       "13721    ../data/gutenberg/austen-melville-set/MELVILLE...   \n",
       "15422    ../data/gutenberg/austen-melville-set/MELVILLE...   \n",
       "21816    ../data/gutenberg/austen-melville-set/MELVILLE...   \n",
       "34970    ../data/gutenberg/austen-melville-set/MELVILLE...   \n",
       "\n",
       "                              chap_regex  book_len  n_chaps            author  \\\n",
       "book_id                                                                         \n",
       "105                      ^Chapter\\s+\\d+$     83624       24      AUSTEN, JANE   \n",
       "121                      ^CHAPTER\\s+\\d+$     77601       31      AUSTEN, JANE   \n",
       "141                ^CHAPTER\\s+[IVXLCM]+$    160378       48      AUSTEN, JANE   \n",
       "158          ^\\s*CHAPTER\\s+[IVXLCM]+\\s*$    160925       55      AUSTEN, JANE   \n",
       "161                      ^CHAPTER\\s+\\d+$    119873       50      AUSTEN, JANE   \n",
       "946                    ^\\s*[IVXLCM]+\\s*$     23116       41      AUSTEN, JANE   \n",
       "1212                ^\\s*LETTER .* to .*$     33265       24      AUSTEN, JANE   \n",
       "1342                     ^Chapter\\s+\\d+$    122126       61      AUSTEN, JANE   \n",
       "1900                           ^CHAPTER     108021       34  MELVILLE, HERMAN   \n",
       "2701     ^(?:ETYMOLOGY|EXTRACTS|CHAPTER)    215504      138  MELVILLE, HERMAN   \n",
       "4045       ^\\s*CHAPTER\\s+[IVXLCM]+\\.\\s*$    102352       82  MELVILLE, HERMAN   \n",
       "8118                 ^\\s*[IVXLCM]+\\. .*$    119243       78  MELVILLE, HERMAN   \n",
       "10712         ^CHAPTER\\s+[IVXLCM]+\\.\\s*$    143309       92  MELVILLE, HERMAN   \n",
       "13720        ^\\s*CHAPTER\\s+[IVXLCM]+\\s*$     96878      104  MELVILLE, HERMAN   \n",
       "13721        ^\\s*CHAPTER\\s+[IVXLCM]+\\s*$    102092       91  MELVILLE, HERMAN   \n",
       "15422          ^\\s*CHAPTER\\s+[IVXLCM]+\\.     65516       27  MELVILLE, HERMAN   \n",
       "21816           ^CHAPTER\\s+[IVXLCM]+\\.?$     95315       90  MELVILLE, HERMAN   \n",
       "34970                ^\\s*[IVXLCM]+\\.\\s*$    155056      114  MELVILLE, HERMAN   \n",
       "\n",
       "                                                     title  \n",
       "book_id                                                     \n",
       "105                                             PERSUASION  \n",
       "121                                       NORTHANGER ABBEY  \n",
       "141                                         MANSFIELD PARK  \n",
       "158                                                   EMMA  \n",
       "161                                  SENSE AND SENSIBILITY  \n",
       "946                                             LADY SUSAN  \n",
       "1212                               LOVE AND FREINDSHIP SIC  \n",
       "1342                                   PRIDE AND PREJUDICE  \n",
       "1900                     TYPEE A ROMANCE OF THE SOUTH SEAS  \n",
       "2701                                MOBY DICK OR THE WHALE  \n",
       "4045                     OMOO ADVENTURES IN THE SOUTH SEAS  \n",
       "8118     REDBURN HIS FIRST VOYAGE BEING THE SAILOR BOY ...  \n",
       "10712            WHITE JACKET OR THE WORLD ON A MAN OF WAR  \n",
       "13720                     MARDI AND A VOYAGE THITHER VOL I  \n",
       "13721                    MARDI AND A VOYAGE THITHER VOL II  \n",
       "15422               ISRAEL POTTER HIS FIFTY YEARS OF EXILE  \n",
       "21816                    THE CONFIDENCE MAN HIS MASQUERADE  \n",
       "34970                            PIERRE OR THE AMBIGUITIES  "
      ]
     },
     "execution_count": 63,
     "metadata": {},
     "output_type": "execute_result"
    }
   ],
   "source": [
    "LIB"
   ]
  },
  {
   "cell_type": "markdown",
   "metadata": {},
   "source": [
    "## Save Chapter regexes"
   ]
  },
  {
   "cell_type": "code",
   "execution_count": 64,
   "metadata": {},
   "outputs": [],
   "source": [
    "LIB['chap_regex'] = LIB.index.map(pd.Series({x[0]:x[1] for x in ohco_pat_list}))"
   ]
  },
  {
   "cell_type": "code",
   "execution_count": 65,
   "metadata": {},
   "outputs": [
    {
     "data": {
      "text/html": [
       "<div>\n",
       "<style scoped>\n",
       "    .dataframe tbody tr th:only-of-type {\n",
       "        vertical-align: middle;\n",
       "    }\n",
       "\n",
       "    .dataframe tbody tr th {\n",
       "        vertical-align: top;\n",
       "    }\n",
       "\n",
       "    .dataframe thead th {\n",
       "        text-align: right;\n",
       "    }\n",
       "</style>\n",
       "<table border=\"1\" class=\"dataframe\">\n",
       "  <thead>\n",
       "    <tr style=\"text-align: right;\">\n",
       "      <th></th>\n",
       "      <th>source_file_path</th>\n",
       "      <th>chap_regex</th>\n",
       "      <th>book_len</th>\n",
       "      <th>n_chaps</th>\n",
       "      <th>author</th>\n",
       "      <th>title</th>\n",
       "    </tr>\n",
       "    <tr>\n",
       "      <th>book_id</th>\n",
       "      <th></th>\n",
       "      <th></th>\n",
       "      <th></th>\n",
       "      <th></th>\n",
       "      <th></th>\n",
       "      <th></th>\n",
       "    </tr>\n",
       "  </thead>\n",
       "  <tbody>\n",
       "    <tr>\n",
       "      <th>105</th>\n",
       "      <td>../data/gutenberg/austen-melville-set/AUSTEN_J...</td>\n",
       "      <td>^Chapter\\s+\\d+$</td>\n",
       "      <td>83624</td>\n",
       "      <td>24</td>\n",
       "      <td>AUSTEN, JANE</td>\n",
       "      <td>PERSUASION</td>\n",
       "    </tr>\n",
       "    <tr>\n",
       "      <th>121</th>\n",
       "      <td>../data/gutenberg/austen-melville-set/AUSTEN_J...</td>\n",
       "      <td>^CHAPTER\\s+\\d+$</td>\n",
       "      <td>77601</td>\n",
       "      <td>31</td>\n",
       "      <td>AUSTEN, JANE</td>\n",
       "      <td>NORTHANGER ABBEY</td>\n",
       "    </tr>\n",
       "    <tr>\n",
       "      <th>141</th>\n",
       "      <td>../data/gutenberg/austen-melville-set/AUSTEN_J...</td>\n",
       "      <td>^CHAPTER\\s+[IVXLCM]+$</td>\n",
       "      <td>160378</td>\n",
       "      <td>48</td>\n",
       "      <td>AUSTEN, JANE</td>\n",
       "      <td>MANSFIELD PARK</td>\n",
       "    </tr>\n",
       "    <tr>\n",
       "      <th>158</th>\n",
       "      <td>../data/gutenberg/austen-melville-set/AUSTEN_J...</td>\n",
       "      <td>^\\s*CHAPTER\\s+[IVXLCM]+\\s*$</td>\n",
       "      <td>160925</td>\n",
       "      <td>55</td>\n",
       "      <td>AUSTEN, JANE</td>\n",
       "      <td>EMMA</td>\n",
       "    </tr>\n",
       "    <tr>\n",
       "      <th>161</th>\n",
       "      <td>../data/gutenberg/austen-melville-set/AUSTEN_J...</td>\n",
       "      <td>^CHAPTER\\s+\\d+$</td>\n",
       "      <td>119873</td>\n",
       "      <td>50</td>\n",
       "      <td>AUSTEN, JANE</td>\n",
       "      <td>SENSE AND SENSIBILITY</td>\n",
       "    </tr>\n",
       "    <tr>\n",
       "      <th>946</th>\n",
       "      <td>../data/gutenberg/austen-melville-set/AUSTEN_J...</td>\n",
       "      <td>^\\s*[IVXLCM]+\\s*$</td>\n",
       "      <td>23116</td>\n",
       "      <td>41</td>\n",
       "      <td>AUSTEN, JANE</td>\n",
       "      <td>LADY SUSAN</td>\n",
       "    </tr>\n",
       "    <tr>\n",
       "      <th>1212</th>\n",
       "      <td>../data/gutenberg/austen-melville-set/AUSTEN_J...</td>\n",
       "      <td>^\\s*LETTER .* to .*$</td>\n",
       "      <td>33265</td>\n",
       "      <td>24</td>\n",
       "      <td>AUSTEN, JANE</td>\n",
       "      <td>LOVE AND FREINDSHIP SIC</td>\n",
       "    </tr>\n",
       "    <tr>\n",
       "      <th>1342</th>\n",
       "      <td>../data/gutenberg/austen-melville-set/AUSTEN_J...</td>\n",
       "      <td>^Chapter\\s+\\d+$</td>\n",
       "      <td>122126</td>\n",
       "      <td>61</td>\n",
       "      <td>AUSTEN, JANE</td>\n",
       "      <td>PRIDE AND PREJUDICE</td>\n",
       "    </tr>\n",
       "    <tr>\n",
       "      <th>1900</th>\n",
       "      <td>../data/gutenberg/austen-melville-set/MELVILLE...</td>\n",
       "      <td>^CHAPTER</td>\n",
       "      <td>108021</td>\n",
       "      <td>34</td>\n",
       "      <td>MELVILLE, HERMAN</td>\n",
       "      <td>TYPEE A ROMANCE OF THE SOUTH SEAS</td>\n",
       "    </tr>\n",
       "    <tr>\n",
       "      <th>2701</th>\n",
       "      <td>../data/gutenberg/austen-melville-set/MELVILLE...</td>\n",
       "      <td>^(?:ETYMOLOGY|EXTRACTS|CHAPTER)</td>\n",
       "      <td>215504</td>\n",
       "      <td>138</td>\n",
       "      <td>MELVILLE, HERMAN</td>\n",
       "      <td>MOBY DICK OR THE WHALE</td>\n",
       "    </tr>\n",
       "    <tr>\n",
       "      <th>4045</th>\n",
       "      <td>../data/gutenberg/austen-melville-set/MELVILLE...</td>\n",
       "      <td>^\\s*CHAPTER\\s+[IVXLCM]+\\.\\s*$</td>\n",
       "      <td>102352</td>\n",
       "      <td>82</td>\n",
       "      <td>MELVILLE, HERMAN</td>\n",
       "      <td>OMOO ADVENTURES IN THE SOUTH SEAS</td>\n",
       "    </tr>\n",
       "    <tr>\n",
       "      <th>8118</th>\n",
       "      <td>../data/gutenberg/austen-melville-set/MELVILLE...</td>\n",
       "      <td>^\\s*[IVXLCM]+\\. .*$</td>\n",
       "      <td>119243</td>\n",
       "      <td>78</td>\n",
       "      <td>MELVILLE, HERMAN</td>\n",
       "      <td>REDBURN HIS FIRST VOYAGE BEING THE SAILOR BOY ...</td>\n",
       "    </tr>\n",
       "    <tr>\n",
       "      <th>10712</th>\n",
       "      <td>../data/gutenberg/austen-melville-set/MELVILLE...</td>\n",
       "      <td>^CHAPTER\\s+[IVXLCM]+\\.\\s*$</td>\n",
       "      <td>143309</td>\n",
       "      <td>92</td>\n",
       "      <td>MELVILLE, HERMAN</td>\n",
       "      <td>WHITE JACKET OR THE WORLD ON A MAN OF WAR</td>\n",
       "    </tr>\n",
       "    <tr>\n",
       "      <th>13720</th>\n",
       "      <td>../data/gutenberg/austen-melville-set/MELVILLE...</td>\n",
       "      <td>^\\s*CHAPTER\\s+[IVXLCM]+\\s*$</td>\n",
       "      <td>96878</td>\n",
       "      <td>104</td>\n",
       "      <td>MELVILLE, HERMAN</td>\n",
       "      <td>MARDI AND A VOYAGE THITHER VOL I</td>\n",
       "    </tr>\n",
       "    <tr>\n",
       "      <th>13721</th>\n",
       "      <td>../data/gutenberg/austen-melville-set/MELVILLE...</td>\n",
       "      <td>^\\s*CHAPTER\\s+[IVXLCM]+\\s*$</td>\n",
       "      <td>102092</td>\n",
       "      <td>91</td>\n",
       "      <td>MELVILLE, HERMAN</td>\n",
       "      <td>MARDI AND A VOYAGE THITHER VOL II</td>\n",
       "    </tr>\n",
       "    <tr>\n",
       "      <th>15422</th>\n",
       "      <td>../data/gutenberg/austen-melville-set/MELVILLE...</td>\n",
       "      <td>^\\s*CHAPTER\\s+[IVXLCM]+\\.</td>\n",
       "      <td>65516</td>\n",
       "      <td>27</td>\n",
       "      <td>MELVILLE, HERMAN</td>\n",
       "      <td>ISRAEL POTTER HIS FIFTY YEARS OF EXILE</td>\n",
       "    </tr>\n",
       "    <tr>\n",
       "      <th>21816</th>\n",
       "      <td>../data/gutenberg/austen-melville-set/MELVILLE...</td>\n",
       "      <td>^CHAPTER\\s+[IVXLCM]+\\.?$</td>\n",
       "      <td>95315</td>\n",
       "      <td>90</td>\n",
       "      <td>MELVILLE, HERMAN</td>\n",
       "      <td>THE CONFIDENCE MAN HIS MASQUERADE</td>\n",
       "    </tr>\n",
       "    <tr>\n",
       "      <th>34970</th>\n",
       "      <td>../data/gutenberg/austen-melville-set/MELVILLE...</td>\n",
       "      <td>^\\s*[IVXLCM]+\\.\\s*$</td>\n",
       "      <td>155056</td>\n",
       "      <td>114</td>\n",
       "      <td>MELVILLE, HERMAN</td>\n",
       "      <td>PIERRE OR THE AMBIGUITIES</td>\n",
       "    </tr>\n",
       "  </tbody>\n",
       "</table>\n",
       "</div>"
      ],
      "text/plain": [
       "                                          source_file_path  \\\n",
       "book_id                                                      \n",
       "105      ../data/gutenberg/austen-melville-set/AUSTEN_J...   \n",
       "121      ../data/gutenberg/austen-melville-set/AUSTEN_J...   \n",
       "141      ../data/gutenberg/austen-melville-set/AUSTEN_J...   \n",
       "158      ../data/gutenberg/austen-melville-set/AUSTEN_J...   \n",
       "161      ../data/gutenberg/austen-melville-set/AUSTEN_J...   \n",
       "946      ../data/gutenberg/austen-melville-set/AUSTEN_J...   \n",
       "1212     ../data/gutenberg/austen-melville-set/AUSTEN_J...   \n",
       "1342     ../data/gutenberg/austen-melville-set/AUSTEN_J...   \n",
       "1900     ../data/gutenberg/austen-melville-set/MELVILLE...   \n",
       "2701     ../data/gutenberg/austen-melville-set/MELVILLE...   \n",
       "4045     ../data/gutenberg/austen-melville-set/MELVILLE...   \n",
       "8118     ../data/gutenberg/austen-melville-set/MELVILLE...   \n",
       "10712    ../data/gutenberg/austen-melville-set/MELVILLE...   \n",
       "13720    ../data/gutenberg/austen-melville-set/MELVILLE...   \n",
       "13721    ../data/gutenberg/austen-melville-set/MELVILLE...   \n",
       "15422    ../data/gutenberg/austen-melville-set/MELVILLE...   \n",
       "21816    ../data/gutenberg/austen-melville-set/MELVILLE...   \n",
       "34970    ../data/gutenberg/austen-melville-set/MELVILLE...   \n",
       "\n",
       "                              chap_regex  book_len  n_chaps            author  \\\n",
       "book_id                                                                         \n",
       "105                      ^Chapter\\s+\\d+$     83624       24      AUSTEN, JANE   \n",
       "121                      ^CHAPTER\\s+\\d+$     77601       31      AUSTEN, JANE   \n",
       "141                ^CHAPTER\\s+[IVXLCM]+$    160378       48      AUSTEN, JANE   \n",
       "158          ^\\s*CHAPTER\\s+[IVXLCM]+\\s*$    160925       55      AUSTEN, JANE   \n",
       "161                      ^CHAPTER\\s+\\d+$    119873       50      AUSTEN, JANE   \n",
       "946                    ^\\s*[IVXLCM]+\\s*$     23116       41      AUSTEN, JANE   \n",
       "1212                ^\\s*LETTER .* to .*$     33265       24      AUSTEN, JANE   \n",
       "1342                     ^Chapter\\s+\\d+$    122126       61      AUSTEN, JANE   \n",
       "1900                           ^CHAPTER     108021       34  MELVILLE, HERMAN   \n",
       "2701     ^(?:ETYMOLOGY|EXTRACTS|CHAPTER)    215504      138  MELVILLE, HERMAN   \n",
       "4045       ^\\s*CHAPTER\\s+[IVXLCM]+\\.\\s*$    102352       82  MELVILLE, HERMAN   \n",
       "8118                 ^\\s*[IVXLCM]+\\. .*$    119243       78  MELVILLE, HERMAN   \n",
       "10712         ^CHAPTER\\s+[IVXLCM]+\\.\\s*$    143309       92  MELVILLE, HERMAN   \n",
       "13720        ^\\s*CHAPTER\\s+[IVXLCM]+\\s*$     96878      104  MELVILLE, HERMAN   \n",
       "13721        ^\\s*CHAPTER\\s+[IVXLCM]+\\s*$    102092       91  MELVILLE, HERMAN   \n",
       "15422          ^\\s*CHAPTER\\s+[IVXLCM]+\\.     65516       27  MELVILLE, HERMAN   \n",
       "21816           ^CHAPTER\\s+[IVXLCM]+\\.?$     95315       90  MELVILLE, HERMAN   \n",
       "34970                ^\\s*[IVXLCM]+\\.\\s*$    155056      114  MELVILLE, HERMAN   \n",
       "\n",
       "                                                     title  \n",
       "book_id                                                     \n",
       "105                                             PERSUASION  \n",
       "121                                       NORTHANGER ABBEY  \n",
       "141                                         MANSFIELD PARK  \n",
       "158                                                   EMMA  \n",
       "161                                  SENSE AND SENSIBILITY  \n",
       "946                                             LADY SUSAN  \n",
       "1212                               LOVE AND FREINDSHIP SIC  \n",
       "1342                                   PRIDE AND PREJUDICE  \n",
       "1900                     TYPEE A ROMANCE OF THE SOUTH SEAS  \n",
       "2701                                MOBY DICK OR THE WHALE  \n",
       "4045                     OMOO ADVENTURES IN THE SOUTH SEAS  \n",
       "8118     REDBURN HIS FIRST VOYAGE BEING THE SAILOR BOY ...  \n",
       "10712            WHITE JACKET OR THE WORLD ON A MAN OF WAR  \n",
       "13720                     MARDI AND A VOYAGE THITHER VOL I  \n",
       "13721                    MARDI AND A VOYAGE THITHER VOL II  \n",
       "15422               ISRAEL POTTER HIS FIFTY YEARS OF EXILE  \n",
       "21816                    THE CONFIDENCE MAN HIS MASQUERADE  \n",
       "34970                            PIERRE OR THE AMBIGUITIES  "
      ]
     },
     "execution_count": 65,
     "metadata": {},
     "output_type": "execute_result"
    }
   ],
   "source": [
    "LIB"
   ]
  },
  {
   "cell_type": "code",
   "execution_count": 78,
   "metadata": {},
   "outputs": [],
   "source": [
    "# {x[0]:x[1] for x in ohco_pat_list}"
   ]
  },
  {
   "cell_type": "markdown",
   "metadata": {},
   "source": [
    "## Tokenize Corpus\n",
    "\n",
    "We tokenize each book and add each `TOKENS` table to a list to be concatenated into a single `CORPUS`."
   ]
  },
  {
   "cell_type": "code",
   "execution_count": 83,
   "metadata": {},
   "outputs": [
    {
     "name": "stdout",
     "output_type": "stream",
     "text": [
      "105\n",
      "121\n",
      "141\n",
      "158\n",
      "161\n",
      "946\n",
      "1212\n",
      "1342\n",
      "1900\n",
      "2701\n",
      "4045\n",
      "8118\n",
      "10712\n",
      "13720\n",
      "13721\n",
      "15422\n",
      "21816\n",
      "34970\n"
     ]
    }
   ],
   "source": [
    "# for book_id in LIB.index:"
   ]
  },
  {
   "cell_type": "code",
   "execution_count": 93,
   "metadata": {
    "tags": []
   },
   "outputs": [],
   "source": [
    "def tokenize_collection():\n",
    "\n",
    "    global LIB, clip_pats\n",
    "\n",
    "    books = []\n",
    "    for book_id in LIB.index:\n",
    "\n",
    "        # Announce\n",
    "        print(\"Tokenizing\", book_id, LIB.loc[book_id].title)\n",
    "\n",
    "        # Define vars\n",
    "        chap_regex = LIB.loc[book_id].chap_regex\n",
    "        ohco_pats = [('chap', chap_regex, 'm')]\n",
    "        src_file_path = LIB.loc[book_id].source_file_path\n",
    "\n",
    "        # Create object\n",
    "        text = TextParser(src_file_path, ohco_pats=ohco_pats, clip_pats=clip_pats, use_nltk=True)\n",
    "\n",
    "        # Define parameters\n",
    "        text.verbose = False\n",
    "        text.strip_hyphens = True\n",
    "        text.strip_whitespace = True\n",
    "\n",
    "        # Parse\n",
    "        text.import_source().parse_tokens();\n",
    "\n",
    "        # Name things\n",
    "        text.TOKENS['book_id'] = book_id\n",
    "        text.TOKENS = text.TOKENS.reset_index().set_index(['book_id'] + text.OHCO)\n",
    "\n",
    "        # Add to list\n",
    "        books.append(text.TOKENS)\n",
    "        \n",
    "    # Combine into a single dataframe\n",
    "    CORPUS = pd.concat(books).sort_index()\n",
    "\n",
    "    # Clean up\n",
    "    del(books)\n",
    "    del(text)\n",
    "        \n",
    "    print(\"Done\")\n",
    "        \n",
    "    return CORPUS"
   ]
  },
  {
   "cell_type": "code",
   "execution_count": null,
   "metadata": {},
   "outputs": [],
   "source": [
    "CORPUS = tokenize_collection()"
   ]
  },
  {
   "cell_type": "code",
   "execution_count": 96,
   "metadata": {},
   "outputs": [
    {
     "data": {
      "text/html": [
       "<div>\n",
       "<style scoped>\n",
       "    .dataframe tbody tr th:only-of-type {\n",
       "        vertical-align: middle;\n",
       "    }\n",
       "\n",
       "    .dataframe tbody tr th {\n",
       "        vertical-align: top;\n",
       "    }\n",
       "\n",
       "    .dataframe thead th {\n",
       "        text-align: right;\n",
       "    }\n",
       "</style>\n",
       "<table border=\"1\" class=\"dataframe\">\n",
       "  <thead>\n",
       "    <tr style=\"text-align: right;\">\n",
       "      <th></th>\n",
       "      <th></th>\n",
       "      <th></th>\n",
       "      <th></th>\n",
       "      <th></th>\n",
       "      <th>pos_tuple</th>\n",
       "      <th>pos</th>\n",
       "      <th>token_str</th>\n",
       "      <th>term_str</th>\n",
       "    </tr>\n",
       "    <tr>\n",
       "      <th>book_id</th>\n",
       "      <th>chap_id</th>\n",
       "      <th>para_num</th>\n",
       "      <th>sent_num</th>\n",
       "      <th>token_num</th>\n",
       "      <th></th>\n",
       "      <th></th>\n",
       "      <th></th>\n",
       "      <th></th>\n",
       "    </tr>\n",
       "  </thead>\n",
       "  <tbody>\n",
       "    <tr>\n",
       "      <th rowspan=\"5\" valign=\"top\">105</th>\n",
       "      <th rowspan=\"5\" valign=\"top\">1</th>\n",
       "      <th rowspan=\"5\" valign=\"top\">0</th>\n",
       "      <th rowspan=\"5\" valign=\"top\">0</th>\n",
       "      <th>0</th>\n",
       "      <td>(Sir, NNP)</td>\n",
       "      <td>NNP</td>\n",
       "      <td>Sir</td>\n",
       "      <td>sir</td>\n",
       "    </tr>\n",
       "    <tr>\n",
       "      <th>1</th>\n",
       "      <td>(Walter, NNP)</td>\n",
       "      <td>NNP</td>\n",
       "      <td>Walter</td>\n",
       "      <td>walter</td>\n",
       "    </tr>\n",
       "    <tr>\n",
       "      <th>2</th>\n",
       "      <td>(Elliot,, NNP)</td>\n",
       "      <td>NNP</td>\n",
       "      <td>Elliot,</td>\n",
       "      <td>elliot</td>\n",
       "    </tr>\n",
       "    <tr>\n",
       "      <th>3</th>\n",
       "      <td>(of, IN)</td>\n",
       "      <td>IN</td>\n",
       "      <td>of</td>\n",
       "      <td>of</td>\n",
       "    </tr>\n",
       "    <tr>\n",
       "      <th>4</th>\n",
       "      <td>(Kellynch, NNP)</td>\n",
       "      <td>NNP</td>\n",
       "      <td>Kellynch</td>\n",
       "      <td>kellynch</td>\n",
       "    </tr>\n",
       "    <tr>\n",
       "      <th>...</th>\n",
       "      <th>...</th>\n",
       "      <th>...</th>\n",
       "      <th>...</th>\n",
       "      <th>...</th>\n",
       "      <td>...</td>\n",
       "      <td>...</td>\n",
       "      <td>...</td>\n",
       "      <td>...</td>\n",
       "    </tr>\n",
       "    <tr>\n",
       "      <th rowspan=\"5\" valign=\"top\">34970</th>\n",
       "      <th rowspan=\"5\" valign=\"top\">114</th>\n",
       "      <th rowspan=\"5\" valign=\"top\">0</th>\n",
       "      <th rowspan=\"5\" valign=\"top\">50</th>\n",
       "      <th>6</th>\n",
       "      <td>(The, DT)</td>\n",
       "      <td>DT</td>\n",
       "      <td>The</td>\n",
       "      <td>the</td>\n",
       "    </tr>\n",
       "    <tr>\n",
       "      <th>7</th>\n",
       "      <td>(Ambiguities,, NNP)</td>\n",
       "      <td>NNP</td>\n",
       "      <td>Ambiguities,</td>\n",
       "      <td>ambiguities</td>\n",
       "    </tr>\n",
       "    <tr>\n",
       "      <th>8</th>\n",
       "      <td>(by, IN)</td>\n",
       "      <td>IN</td>\n",
       "      <td>by</td>\n",
       "      <td>by</td>\n",
       "    </tr>\n",
       "    <tr>\n",
       "      <th>9</th>\n",
       "      <td>(Herman, NNP)</td>\n",
       "      <td>NNP</td>\n",
       "      <td>Herman</td>\n",
       "      <td>herman</td>\n",
       "    </tr>\n",
       "    <tr>\n",
       "      <th>10</th>\n",
       "      <td>(Melville, NNP)</td>\n",
       "      <td>NNP</td>\n",
       "      <td>Melville</td>\n",
       "      <td>melville</td>\n",
       "    </tr>\n",
       "  </tbody>\n",
       "</table>\n",
       "<p>1984504 rows × 4 columns</p>\n",
       "</div>"
      ],
      "text/plain": [
       "                                                       pos_tuple  pos  \\\n",
       "book_id chap_id para_num sent_num token_num                             \n",
       "105     1       0        0        0                   (Sir, NNP)  NNP   \n",
       "                                  1                (Walter, NNP)  NNP   \n",
       "                                  2               (Elliot,, NNP)  NNP   \n",
       "                                  3                     (of, IN)   IN   \n",
       "                                  4              (Kellynch, NNP)  NNP   \n",
       "...                                                          ...  ...   \n",
       "34970   114     0        50       6                    (The, DT)   DT   \n",
       "                                  7          (Ambiguities,, NNP)  NNP   \n",
       "                                  8                     (by, IN)   IN   \n",
       "                                  9                (Herman, NNP)  NNP   \n",
       "                                  10             (Melville, NNP)  NNP   \n",
       "\n",
       "                                                token_str     term_str  \n",
       "book_id chap_id para_num sent_num token_num                             \n",
       "105     1       0        0        0                   Sir          sir  \n",
       "                                  1                Walter       walter  \n",
       "                                  2               Elliot,       elliot  \n",
       "                                  3                    of           of  \n",
       "                                  4              Kellynch     kellynch  \n",
       "...                                                   ...          ...  \n",
       "34970   114     0        50       6                   The          the  \n",
       "                                  7          Ambiguities,  ambiguities  \n",
       "                                  8                    by           by  \n",
       "                                  9                Herman       herman  \n",
       "                                  10             Melville     melville  \n",
       "\n",
       "[1984504 rows x 4 columns]"
      ]
     },
     "execution_count": 96,
     "metadata": {},
     "output_type": "execute_result"
    }
   ],
   "source": [
    "CORPUS"
   ]
  },
  {
   "cell_type": "markdown",
   "metadata": {},
   "source": [
    "## Extract some features for `LIB`"
   ]
  },
  {
   "cell_type": "code",
   "execution_count": 97,
   "metadata": {},
   "outputs": [],
   "source": [
    "LIB['book_len'] = CORPUS.groupby('book_id').term_str.count()"
   ]
  },
  {
   "cell_type": "code",
   "execution_count": 98,
   "metadata": {},
   "outputs": [
    {
     "data": {
      "text/html": [
       "<div>\n",
       "<style scoped>\n",
       "    .dataframe tbody tr th:only-of-type {\n",
       "        vertical-align: middle;\n",
       "    }\n",
       "\n",
       "    .dataframe tbody tr th {\n",
       "        vertical-align: top;\n",
       "    }\n",
       "\n",
       "    .dataframe thead th {\n",
       "        text-align: right;\n",
       "    }\n",
       "</style>\n",
       "<table border=\"1\" class=\"dataframe\">\n",
       "  <thead>\n",
       "    <tr style=\"text-align: right;\">\n",
       "      <th></th>\n",
       "      <th>source_file_path</th>\n",
       "      <th>chap_regex</th>\n",
       "      <th>book_len</th>\n",
       "      <th>n_chaps</th>\n",
       "      <th>author</th>\n",
       "      <th>title</th>\n",
       "    </tr>\n",
       "    <tr>\n",
       "      <th>book_id</th>\n",
       "      <th></th>\n",
       "      <th></th>\n",
       "      <th></th>\n",
       "      <th></th>\n",
       "      <th></th>\n",
       "      <th></th>\n",
       "    </tr>\n",
       "  </thead>\n",
       "  <tbody>\n",
       "    <tr>\n",
       "      <th>946</th>\n",
       "      <td>../data/gutenberg/austen-melville-set/AUSTEN_J...</td>\n",
       "      <td>^\\s*[IVXLCM]+\\s*$</td>\n",
       "      <td>23116</td>\n",
       "      <td>41</td>\n",
       "      <td>AUSTEN, JANE</td>\n",
       "      <td>LADY SUSAN</td>\n",
       "    </tr>\n",
       "    <tr>\n",
       "      <th>1212</th>\n",
       "      <td>../data/gutenberg/austen-melville-set/AUSTEN_J...</td>\n",
       "      <td>^\\s*LETTER .* to .*$</td>\n",
       "      <td>33265</td>\n",
       "      <td>24</td>\n",
       "      <td>AUSTEN, JANE</td>\n",
       "      <td>LOVE AND FREINDSHIP SIC</td>\n",
       "    </tr>\n",
       "    <tr>\n",
       "      <th>15422</th>\n",
       "      <td>../data/gutenberg/austen-melville-set/MELVILLE...</td>\n",
       "      <td>^\\s*CHAPTER\\s+[IVXLCM]+\\.</td>\n",
       "      <td>65516</td>\n",
       "      <td>27</td>\n",
       "      <td>MELVILLE, HERMAN</td>\n",
       "      <td>ISRAEL POTTER HIS FIFTY YEARS OF EXILE</td>\n",
       "    </tr>\n",
       "    <tr>\n",
       "      <th>121</th>\n",
       "      <td>../data/gutenberg/austen-melville-set/AUSTEN_J...</td>\n",
       "      <td>^CHAPTER\\s+\\d+$</td>\n",
       "      <td>77601</td>\n",
       "      <td>31</td>\n",
       "      <td>AUSTEN, JANE</td>\n",
       "      <td>NORTHANGER ABBEY</td>\n",
       "    </tr>\n",
       "    <tr>\n",
       "      <th>105</th>\n",
       "      <td>../data/gutenberg/austen-melville-set/AUSTEN_J...</td>\n",
       "      <td>^Chapter\\s+\\d+$</td>\n",
       "      <td>83624</td>\n",
       "      <td>24</td>\n",
       "      <td>AUSTEN, JANE</td>\n",
       "      <td>PERSUASION</td>\n",
       "    </tr>\n",
       "    <tr>\n",
       "      <th>21816</th>\n",
       "      <td>../data/gutenberg/austen-melville-set/MELVILLE...</td>\n",
       "      <td>^CHAPTER\\s+[IVXLCM]+\\.?$</td>\n",
       "      <td>95315</td>\n",
       "      <td>90</td>\n",
       "      <td>MELVILLE, HERMAN</td>\n",
       "      <td>THE CONFIDENCE MAN HIS MASQUERADE</td>\n",
       "    </tr>\n",
       "    <tr>\n",
       "      <th>13720</th>\n",
       "      <td>../data/gutenberg/austen-melville-set/MELVILLE...</td>\n",
       "      <td>^\\s*CHAPTER\\s+[IVXLCM]+\\s*$</td>\n",
       "      <td>96878</td>\n",
       "      <td>104</td>\n",
       "      <td>MELVILLE, HERMAN</td>\n",
       "      <td>MARDI AND A VOYAGE THITHER VOL I</td>\n",
       "    </tr>\n",
       "    <tr>\n",
       "      <th>13721</th>\n",
       "      <td>../data/gutenberg/austen-melville-set/MELVILLE...</td>\n",
       "      <td>^\\s*CHAPTER\\s+[IVXLCM]+\\s*$</td>\n",
       "      <td>102092</td>\n",
       "      <td>91</td>\n",
       "      <td>MELVILLE, HERMAN</td>\n",
       "      <td>MARDI AND A VOYAGE THITHER VOL II</td>\n",
       "    </tr>\n",
       "    <tr>\n",
       "      <th>4045</th>\n",
       "      <td>../data/gutenberg/austen-melville-set/MELVILLE...</td>\n",
       "      <td>^\\s*CHAPTER\\s+[IVXLCM]+\\.\\s*$</td>\n",
       "      <td>102352</td>\n",
       "      <td>82</td>\n",
       "      <td>MELVILLE, HERMAN</td>\n",
       "      <td>OMOO ADVENTURES IN THE SOUTH SEAS</td>\n",
       "    </tr>\n",
       "    <tr>\n",
       "      <th>1900</th>\n",
       "      <td>../data/gutenberg/austen-melville-set/MELVILLE...</td>\n",
       "      <td>^CHAPTER</td>\n",
       "      <td>108021</td>\n",
       "      <td>34</td>\n",
       "      <td>MELVILLE, HERMAN</td>\n",
       "      <td>TYPEE A ROMANCE OF THE SOUTH SEAS</td>\n",
       "    </tr>\n",
       "    <tr>\n",
       "      <th>8118</th>\n",
       "      <td>../data/gutenberg/austen-melville-set/MELVILLE...</td>\n",
       "      <td>^\\s*[IVXLCM]+\\. .*$</td>\n",
       "      <td>119243</td>\n",
       "      <td>78</td>\n",
       "      <td>MELVILLE, HERMAN</td>\n",
       "      <td>REDBURN HIS FIRST VOYAGE BEING THE SAILOR BOY ...</td>\n",
       "    </tr>\n",
       "    <tr>\n",
       "      <th>161</th>\n",
       "      <td>../data/gutenberg/austen-melville-set/AUSTEN_J...</td>\n",
       "      <td>^CHAPTER\\s+\\d+$</td>\n",
       "      <td>119873</td>\n",
       "      <td>50</td>\n",
       "      <td>AUSTEN, JANE</td>\n",
       "      <td>SENSE AND SENSIBILITY</td>\n",
       "    </tr>\n",
       "    <tr>\n",
       "      <th>1342</th>\n",
       "      <td>../data/gutenberg/austen-melville-set/AUSTEN_J...</td>\n",
       "      <td>^Chapter\\s+\\d+$</td>\n",
       "      <td>122126</td>\n",
       "      <td>61</td>\n",
       "      <td>AUSTEN, JANE</td>\n",
       "      <td>PRIDE AND PREJUDICE</td>\n",
       "    </tr>\n",
       "    <tr>\n",
       "      <th>10712</th>\n",
       "      <td>../data/gutenberg/austen-melville-set/MELVILLE...</td>\n",
       "      <td>^CHAPTER\\s+[IVXLCM]+\\.\\s*$</td>\n",
       "      <td>143309</td>\n",
       "      <td>92</td>\n",
       "      <td>MELVILLE, HERMAN</td>\n",
       "      <td>WHITE JACKET OR THE WORLD ON A MAN OF WAR</td>\n",
       "    </tr>\n",
       "    <tr>\n",
       "      <th>34970</th>\n",
       "      <td>../data/gutenberg/austen-melville-set/MELVILLE...</td>\n",
       "      <td>^\\s*[IVXLCM]+\\.\\s*$</td>\n",
       "      <td>155056</td>\n",
       "      <td>114</td>\n",
       "      <td>MELVILLE, HERMAN</td>\n",
       "      <td>PIERRE OR THE AMBIGUITIES</td>\n",
       "    </tr>\n",
       "    <tr>\n",
       "      <th>141</th>\n",
       "      <td>../data/gutenberg/austen-melville-set/AUSTEN_J...</td>\n",
       "      <td>^CHAPTER\\s+[IVXLCM]+$</td>\n",
       "      <td>160378</td>\n",
       "      <td>48</td>\n",
       "      <td>AUSTEN, JANE</td>\n",
       "      <td>MANSFIELD PARK</td>\n",
       "    </tr>\n",
       "    <tr>\n",
       "      <th>158</th>\n",
       "      <td>../data/gutenberg/austen-melville-set/AUSTEN_J...</td>\n",
       "      <td>^\\s*CHAPTER\\s+[IVXLCM]+\\s*$</td>\n",
       "      <td>160925</td>\n",
       "      <td>55</td>\n",
       "      <td>AUSTEN, JANE</td>\n",
       "      <td>EMMA</td>\n",
       "    </tr>\n",
       "    <tr>\n",
       "      <th>2701</th>\n",
       "      <td>../data/gutenberg/austen-melville-set/MELVILLE...</td>\n",
       "      <td>^(?:ETYMOLOGY|EXTRACTS|CHAPTER)</td>\n",
       "      <td>215504</td>\n",
       "      <td>138</td>\n",
       "      <td>MELVILLE, HERMAN</td>\n",
       "      <td>MOBY DICK OR THE WHALE</td>\n",
       "    </tr>\n",
       "  </tbody>\n",
       "</table>\n",
       "</div>"
      ],
      "text/plain": [
       "                                          source_file_path  \\\n",
       "book_id                                                      \n",
       "946      ../data/gutenberg/austen-melville-set/AUSTEN_J...   \n",
       "1212     ../data/gutenberg/austen-melville-set/AUSTEN_J...   \n",
       "15422    ../data/gutenberg/austen-melville-set/MELVILLE...   \n",
       "121      ../data/gutenberg/austen-melville-set/AUSTEN_J...   \n",
       "105      ../data/gutenberg/austen-melville-set/AUSTEN_J...   \n",
       "21816    ../data/gutenberg/austen-melville-set/MELVILLE...   \n",
       "13720    ../data/gutenberg/austen-melville-set/MELVILLE...   \n",
       "13721    ../data/gutenberg/austen-melville-set/MELVILLE...   \n",
       "4045     ../data/gutenberg/austen-melville-set/MELVILLE...   \n",
       "1900     ../data/gutenberg/austen-melville-set/MELVILLE...   \n",
       "8118     ../data/gutenberg/austen-melville-set/MELVILLE...   \n",
       "161      ../data/gutenberg/austen-melville-set/AUSTEN_J...   \n",
       "1342     ../data/gutenberg/austen-melville-set/AUSTEN_J...   \n",
       "10712    ../data/gutenberg/austen-melville-set/MELVILLE...   \n",
       "34970    ../data/gutenberg/austen-melville-set/MELVILLE...   \n",
       "141      ../data/gutenberg/austen-melville-set/AUSTEN_J...   \n",
       "158      ../data/gutenberg/austen-melville-set/AUSTEN_J...   \n",
       "2701     ../data/gutenberg/austen-melville-set/MELVILLE...   \n",
       "\n",
       "                              chap_regex  book_len  n_chaps            author  \\\n",
       "book_id                                                                         \n",
       "946                    ^\\s*[IVXLCM]+\\s*$     23116       41      AUSTEN, JANE   \n",
       "1212                ^\\s*LETTER .* to .*$     33265       24      AUSTEN, JANE   \n",
       "15422          ^\\s*CHAPTER\\s+[IVXLCM]+\\.     65516       27  MELVILLE, HERMAN   \n",
       "121                      ^CHAPTER\\s+\\d+$     77601       31      AUSTEN, JANE   \n",
       "105                      ^Chapter\\s+\\d+$     83624       24      AUSTEN, JANE   \n",
       "21816           ^CHAPTER\\s+[IVXLCM]+\\.?$     95315       90  MELVILLE, HERMAN   \n",
       "13720        ^\\s*CHAPTER\\s+[IVXLCM]+\\s*$     96878      104  MELVILLE, HERMAN   \n",
       "13721        ^\\s*CHAPTER\\s+[IVXLCM]+\\s*$    102092       91  MELVILLE, HERMAN   \n",
       "4045       ^\\s*CHAPTER\\s+[IVXLCM]+\\.\\s*$    102352       82  MELVILLE, HERMAN   \n",
       "1900                           ^CHAPTER     108021       34  MELVILLE, HERMAN   \n",
       "8118                 ^\\s*[IVXLCM]+\\. .*$    119243       78  MELVILLE, HERMAN   \n",
       "161                      ^CHAPTER\\s+\\d+$    119873       50      AUSTEN, JANE   \n",
       "1342                     ^Chapter\\s+\\d+$    122126       61      AUSTEN, JANE   \n",
       "10712         ^CHAPTER\\s+[IVXLCM]+\\.\\s*$    143309       92  MELVILLE, HERMAN   \n",
       "34970                ^\\s*[IVXLCM]+\\.\\s*$    155056      114  MELVILLE, HERMAN   \n",
       "141                ^CHAPTER\\s+[IVXLCM]+$    160378       48      AUSTEN, JANE   \n",
       "158          ^\\s*CHAPTER\\s+[IVXLCM]+\\s*$    160925       55      AUSTEN, JANE   \n",
       "2701     ^(?:ETYMOLOGY|EXTRACTS|CHAPTER)    215504      138  MELVILLE, HERMAN   \n",
       "\n",
       "                                                     title  \n",
       "book_id                                                     \n",
       "946                                             LADY SUSAN  \n",
       "1212                               LOVE AND FREINDSHIP SIC  \n",
       "15422               ISRAEL POTTER HIS FIFTY YEARS OF EXILE  \n",
       "121                                       NORTHANGER ABBEY  \n",
       "105                                             PERSUASION  \n",
       "21816                    THE CONFIDENCE MAN HIS MASQUERADE  \n",
       "13720                     MARDI AND A VOYAGE THITHER VOL I  \n",
       "13721                    MARDI AND A VOYAGE THITHER VOL II  \n",
       "4045                     OMOO ADVENTURES IN THE SOUTH SEAS  \n",
       "1900                     TYPEE A ROMANCE OF THE SOUTH SEAS  \n",
       "8118     REDBURN HIS FIRST VOYAGE BEING THE SAILOR BOY ...  \n",
       "161                                  SENSE AND SENSIBILITY  \n",
       "1342                                   PRIDE AND PREJUDICE  \n",
       "10712            WHITE JACKET OR THE WORLD ON A MAN OF WAR  \n",
       "34970                            PIERRE OR THE AMBIGUITIES  \n",
       "141                                         MANSFIELD PARK  \n",
       "158                                                   EMMA  \n",
       "2701                                MOBY DICK OR THE WHALE  "
      ]
     },
     "execution_count": 98,
     "metadata": {},
     "output_type": "execute_result"
    }
   ],
   "source": [
    "LIB.sort_values('book_len')"
   ]
  },
  {
   "cell_type": "code",
   "execution_count": 99,
   "metadata": {},
   "outputs": [],
   "source": [
    "LIB['n_chaps'] = CORPUS.reset_index()[['book_id','chap_id']]\\\n",
    "    .drop_duplicates()\\\n",
    "    .groupby('book_id').chap_id.count()"
   ]
  },
  {
   "cell_type": "markdown",
   "metadata": {},
   "source": [
    "# Explore"
   ]
  },
  {
   "cell_type": "code",
   "execution_count": 123,
   "metadata": {},
   "outputs": [],
   "source": [
    "# sns.scatterplot(data=LIB, x='n_chaps', y='book_len', hue='author')"
   ]
  },
  {
   "cell_type": "code",
   "execution_count": 136,
   "metadata": {},
   "outputs": [
    {
     "data": {
      "application/vnd.plotly.v1+json": {
       "config": {
        "plotlyServerURL": "https://plot.ly"
       },
       "data": [
        {
         "hovertemplate": "<b>%{hovertext}</b><br><br>author=AUSTEN, JANE<br>n_chaps=%{text}<br>book_len=%{marker.size}<extra></extra>",
         "hovertext": [
          "PERSUASION",
          "NORTHANGER ABBEY",
          "MANSFIELD PARK",
          "EMMA",
          "SENSE AND SENSIBILITY",
          "LADY SUSAN",
          "LOVE AND FREINDSHIP SIC",
          "PRIDE AND PREJUDICE"
         ],
         "legendgroup": "AUSTEN, JANE",
         "marker": {
          "color": "#636efa",
          "size": [
           83624,
           77601,
           160378,
           160925,
           119873,
           23116,
           33265,
           122126
          ],
          "sizemode": "area",
          "sizeref": 538.76,
          "symbol": "circle"
         },
         "mode": "markers+text",
         "name": "AUSTEN, JANE",
         "orientation": "v",
         "showlegend": true,
         "text": [
          24,
          31,
          48,
          55,
          50,
          41,
          24,
          61
         ],
         "type": "scatter",
         "x": [
          24,
          31,
          48,
          55,
          50,
          41,
          24,
          61
         ],
         "xaxis": "x",
         "y": [
          83624,
          77601,
          160378,
          160925,
          119873,
          23116,
          33265,
          122126
         ],
         "yaxis": "y"
        },
        {
         "hovertemplate": "<b>%{hovertext}</b><br><br>author=MELVILLE, HERMAN<br>n_chaps=%{text}<br>book_len=%{marker.size}<extra></extra>",
         "hovertext": [
          "TYPEE A ROMANCE OF THE SOUTH SEAS",
          "MOBY DICK OR THE WHALE",
          "OMOO ADVENTURES IN THE SOUTH SEAS",
          "REDBURN HIS FIRST VOYAGE BEING THE SAILOR BOY CONFESSIONS AND REMINISCENCES OF THE SON OF A GENTLEMAN IN THE MERCHANT NAVY",
          "WHITE JACKET OR THE WORLD ON A MAN OF WAR",
          "MARDI AND A VOYAGE THITHER VOL I",
          "MARDI AND A VOYAGE THITHER VOL II",
          "ISRAEL POTTER HIS FIFTY YEARS OF EXILE",
          "THE CONFIDENCE MAN HIS MASQUERADE",
          "PIERRE OR THE AMBIGUITIES"
         ],
         "legendgroup": "MELVILLE, HERMAN",
         "marker": {
          "color": "#EF553B",
          "size": [
           108021,
           215504,
           102352,
           119243,
           143309,
           96878,
           102092,
           65516,
           95315,
           155056
          ],
          "sizemode": "area",
          "sizeref": 538.76,
          "symbol": "circle"
         },
         "mode": "markers+text",
         "name": "MELVILLE, HERMAN",
         "orientation": "v",
         "showlegend": true,
         "text": [
          34,
          138,
          82,
          78,
          92,
          104,
          91,
          27,
          90,
          114
         ],
         "type": "scatter",
         "x": [
          34,
          138,
          82,
          78,
          92,
          104,
          91,
          27,
          90,
          114
         ],
         "xaxis": "x",
         "y": [
          108021,
          215504,
          102352,
          119243,
          143309,
          96878,
          102092,
          65516,
          95315,
          155056
         ],
         "yaxis": "y"
        }
       ],
       "layout": {
        "height": 500,
        "legend": {
         "itemsizing": "constant",
         "title": {
          "text": "author"
         },
         "tracegroupgap": 0
        },
        "margin": {
         "t": 60
        },
        "template": {
         "data": {
          "bar": [
           {
            "error_x": {
             "color": "#2a3f5f"
            },
            "error_y": {
             "color": "#2a3f5f"
            },
            "marker": {
             "line": {
              "color": "#E5ECF6",
              "width": 0.5
             }
            },
            "type": "bar"
           }
          ],
          "barpolar": [
           {
            "marker": {
             "line": {
              "color": "#E5ECF6",
              "width": 0.5
             }
            },
            "type": "barpolar"
           }
          ],
          "carpet": [
           {
            "aaxis": {
             "endlinecolor": "#2a3f5f",
             "gridcolor": "white",
             "linecolor": "white",
             "minorgridcolor": "white",
             "startlinecolor": "#2a3f5f"
            },
            "baxis": {
             "endlinecolor": "#2a3f5f",
             "gridcolor": "white",
             "linecolor": "white",
             "minorgridcolor": "white",
             "startlinecolor": "#2a3f5f"
            },
            "type": "carpet"
           }
          ],
          "choropleth": [
           {
            "colorbar": {
             "outlinewidth": 0,
             "ticks": ""
            },
            "type": "choropleth"
           }
          ],
          "contour": [
           {
            "colorbar": {
             "outlinewidth": 0,
             "ticks": ""
            },
            "colorscale": [
             [
              0,
              "#0d0887"
             ],
             [
              0.1111111111111111,
              "#46039f"
             ],
             [
              0.2222222222222222,
              "#7201a8"
             ],
             [
              0.3333333333333333,
              "#9c179e"
             ],
             [
              0.4444444444444444,
              "#bd3786"
             ],
             [
              0.5555555555555556,
              "#d8576b"
             ],
             [
              0.6666666666666666,
              "#ed7953"
             ],
             [
              0.7777777777777778,
              "#fb9f3a"
             ],
             [
              0.8888888888888888,
              "#fdca26"
             ],
             [
              1,
              "#f0f921"
             ]
            ],
            "type": "contour"
           }
          ],
          "contourcarpet": [
           {
            "colorbar": {
             "outlinewidth": 0,
             "ticks": ""
            },
            "type": "contourcarpet"
           }
          ],
          "heatmap": [
           {
            "colorbar": {
             "outlinewidth": 0,
             "ticks": ""
            },
            "colorscale": [
             [
              0,
              "#0d0887"
             ],
             [
              0.1111111111111111,
              "#46039f"
             ],
             [
              0.2222222222222222,
              "#7201a8"
             ],
             [
              0.3333333333333333,
              "#9c179e"
             ],
             [
              0.4444444444444444,
              "#bd3786"
             ],
             [
              0.5555555555555556,
              "#d8576b"
             ],
             [
              0.6666666666666666,
              "#ed7953"
             ],
             [
              0.7777777777777778,
              "#fb9f3a"
             ],
             [
              0.8888888888888888,
              "#fdca26"
             ],
             [
              1,
              "#f0f921"
             ]
            ],
            "type": "heatmap"
           }
          ],
          "heatmapgl": [
           {
            "colorbar": {
             "outlinewidth": 0,
             "ticks": ""
            },
            "colorscale": [
             [
              0,
              "#0d0887"
             ],
             [
              0.1111111111111111,
              "#46039f"
             ],
             [
              0.2222222222222222,
              "#7201a8"
             ],
             [
              0.3333333333333333,
              "#9c179e"
             ],
             [
              0.4444444444444444,
              "#bd3786"
             ],
             [
              0.5555555555555556,
              "#d8576b"
             ],
             [
              0.6666666666666666,
              "#ed7953"
             ],
             [
              0.7777777777777778,
              "#fb9f3a"
             ],
             [
              0.8888888888888888,
              "#fdca26"
             ],
             [
              1,
              "#f0f921"
             ]
            ],
            "type": "heatmapgl"
           }
          ],
          "histogram": [
           {
            "marker": {
             "colorbar": {
              "outlinewidth": 0,
              "ticks": ""
             }
            },
            "type": "histogram"
           }
          ],
          "histogram2d": [
           {
            "colorbar": {
             "outlinewidth": 0,
             "ticks": ""
            },
            "colorscale": [
             [
              0,
              "#0d0887"
             ],
             [
              0.1111111111111111,
              "#46039f"
             ],
             [
              0.2222222222222222,
              "#7201a8"
             ],
             [
              0.3333333333333333,
              "#9c179e"
             ],
             [
              0.4444444444444444,
              "#bd3786"
             ],
             [
              0.5555555555555556,
              "#d8576b"
             ],
             [
              0.6666666666666666,
              "#ed7953"
             ],
             [
              0.7777777777777778,
              "#fb9f3a"
             ],
             [
              0.8888888888888888,
              "#fdca26"
             ],
             [
              1,
              "#f0f921"
             ]
            ],
            "type": "histogram2d"
           }
          ],
          "histogram2dcontour": [
           {
            "colorbar": {
             "outlinewidth": 0,
             "ticks": ""
            },
            "colorscale": [
             [
              0,
              "#0d0887"
             ],
             [
              0.1111111111111111,
              "#46039f"
             ],
             [
              0.2222222222222222,
              "#7201a8"
             ],
             [
              0.3333333333333333,
              "#9c179e"
             ],
             [
              0.4444444444444444,
              "#bd3786"
             ],
             [
              0.5555555555555556,
              "#d8576b"
             ],
             [
              0.6666666666666666,
              "#ed7953"
             ],
             [
              0.7777777777777778,
              "#fb9f3a"
             ],
             [
              0.8888888888888888,
              "#fdca26"
             ],
             [
              1,
              "#f0f921"
             ]
            ],
            "type": "histogram2dcontour"
           }
          ],
          "mesh3d": [
           {
            "colorbar": {
             "outlinewidth": 0,
             "ticks": ""
            },
            "type": "mesh3d"
           }
          ],
          "parcoords": [
           {
            "line": {
             "colorbar": {
              "outlinewidth": 0,
              "ticks": ""
             }
            },
            "type": "parcoords"
           }
          ],
          "pie": [
           {
            "automargin": true,
            "type": "pie"
           }
          ],
          "scatter": [
           {
            "marker": {
             "colorbar": {
              "outlinewidth": 0,
              "ticks": ""
             }
            },
            "type": "scatter"
           }
          ],
          "scatter3d": [
           {
            "line": {
             "colorbar": {
              "outlinewidth": 0,
              "ticks": ""
             }
            },
            "marker": {
             "colorbar": {
              "outlinewidth": 0,
              "ticks": ""
             }
            },
            "type": "scatter3d"
           }
          ],
          "scattercarpet": [
           {
            "marker": {
             "colorbar": {
              "outlinewidth": 0,
              "ticks": ""
             }
            },
            "type": "scattercarpet"
           }
          ],
          "scattergeo": [
           {
            "marker": {
             "colorbar": {
              "outlinewidth": 0,
              "ticks": ""
             }
            },
            "type": "scattergeo"
           }
          ],
          "scattergl": [
           {
            "marker": {
             "colorbar": {
              "outlinewidth": 0,
              "ticks": ""
             }
            },
            "type": "scattergl"
           }
          ],
          "scattermapbox": [
           {
            "marker": {
             "colorbar": {
              "outlinewidth": 0,
              "ticks": ""
             }
            },
            "type": "scattermapbox"
           }
          ],
          "scatterpolar": [
           {
            "marker": {
             "colorbar": {
              "outlinewidth": 0,
              "ticks": ""
             }
            },
            "type": "scatterpolar"
           }
          ],
          "scatterpolargl": [
           {
            "marker": {
             "colorbar": {
              "outlinewidth": 0,
              "ticks": ""
             }
            },
            "type": "scatterpolargl"
           }
          ],
          "scatterternary": [
           {
            "marker": {
             "colorbar": {
              "outlinewidth": 0,
              "ticks": ""
             }
            },
            "type": "scatterternary"
           }
          ],
          "surface": [
           {
            "colorbar": {
             "outlinewidth": 0,
             "ticks": ""
            },
            "colorscale": [
             [
              0,
              "#0d0887"
             ],
             [
              0.1111111111111111,
              "#46039f"
             ],
             [
              0.2222222222222222,
              "#7201a8"
             ],
             [
              0.3333333333333333,
              "#9c179e"
             ],
             [
              0.4444444444444444,
              "#bd3786"
             ],
             [
              0.5555555555555556,
              "#d8576b"
             ],
             [
              0.6666666666666666,
              "#ed7953"
             ],
             [
              0.7777777777777778,
              "#fb9f3a"
             ],
             [
              0.8888888888888888,
              "#fdca26"
             ],
             [
              1,
              "#f0f921"
             ]
            ],
            "type": "surface"
           }
          ],
          "table": [
           {
            "cells": {
             "fill": {
              "color": "#EBF0F8"
             },
             "line": {
              "color": "white"
             }
            },
            "header": {
             "fill": {
              "color": "#C8D4E3"
             },
             "line": {
              "color": "white"
             }
            },
            "type": "table"
           }
          ]
         },
         "layout": {
          "annotationdefaults": {
           "arrowcolor": "#2a3f5f",
           "arrowhead": 0,
           "arrowwidth": 1
          },
          "coloraxis": {
           "colorbar": {
            "outlinewidth": 0,
            "ticks": ""
           }
          },
          "colorscale": {
           "diverging": [
            [
             0,
             "#8e0152"
            ],
            [
             0.1,
             "#c51b7d"
            ],
            [
             0.2,
             "#de77ae"
            ],
            [
             0.3,
             "#f1b6da"
            ],
            [
             0.4,
             "#fde0ef"
            ],
            [
             0.5,
             "#f7f7f7"
            ],
            [
             0.6,
             "#e6f5d0"
            ],
            [
             0.7,
             "#b8e186"
            ],
            [
             0.8,
             "#7fbc41"
            ],
            [
             0.9,
             "#4d9221"
            ],
            [
             1,
             "#276419"
            ]
           ],
           "sequential": [
            [
             0,
             "#0d0887"
            ],
            [
             0.1111111111111111,
             "#46039f"
            ],
            [
             0.2222222222222222,
             "#7201a8"
            ],
            [
             0.3333333333333333,
             "#9c179e"
            ],
            [
             0.4444444444444444,
             "#bd3786"
            ],
            [
             0.5555555555555556,
             "#d8576b"
            ],
            [
             0.6666666666666666,
             "#ed7953"
            ],
            [
             0.7777777777777778,
             "#fb9f3a"
            ],
            [
             0.8888888888888888,
             "#fdca26"
            ],
            [
             1,
             "#f0f921"
            ]
           ],
           "sequentialminus": [
            [
             0,
             "#0d0887"
            ],
            [
             0.1111111111111111,
             "#46039f"
            ],
            [
             0.2222222222222222,
             "#7201a8"
            ],
            [
             0.3333333333333333,
             "#9c179e"
            ],
            [
             0.4444444444444444,
             "#bd3786"
            ],
            [
             0.5555555555555556,
             "#d8576b"
            ],
            [
             0.6666666666666666,
             "#ed7953"
            ],
            [
             0.7777777777777778,
             "#fb9f3a"
            ],
            [
             0.8888888888888888,
             "#fdca26"
            ],
            [
             1,
             "#f0f921"
            ]
           ]
          },
          "colorway": [
           "#636efa",
           "#EF553B",
           "#00cc96",
           "#ab63fa",
           "#FFA15A",
           "#19d3f3",
           "#FF6692",
           "#B6E880",
           "#FF97FF",
           "#FECB52"
          ],
          "font": {
           "color": "#2a3f5f"
          },
          "geo": {
           "bgcolor": "white",
           "lakecolor": "white",
           "landcolor": "#E5ECF6",
           "showlakes": true,
           "showland": true,
           "subunitcolor": "white"
          },
          "hoverlabel": {
           "align": "left"
          },
          "hovermode": "closest",
          "mapbox": {
           "style": "light"
          },
          "paper_bgcolor": "white",
          "plot_bgcolor": "#E5ECF6",
          "polar": {
           "angularaxis": {
            "gridcolor": "white",
            "linecolor": "white",
            "ticks": ""
           },
           "bgcolor": "#E5ECF6",
           "radialaxis": {
            "gridcolor": "white",
            "linecolor": "white",
            "ticks": ""
           }
          },
          "scene": {
           "xaxis": {
            "backgroundcolor": "#E5ECF6",
            "gridcolor": "white",
            "gridwidth": 2,
            "linecolor": "white",
            "showbackground": true,
            "ticks": "",
            "zerolinecolor": "white"
           },
           "yaxis": {
            "backgroundcolor": "#E5ECF6",
            "gridcolor": "white",
            "gridwidth": 2,
            "linecolor": "white",
            "showbackground": true,
            "ticks": "",
            "zerolinecolor": "white"
           },
           "zaxis": {
            "backgroundcolor": "#E5ECF6",
            "gridcolor": "white",
            "gridwidth": 2,
            "linecolor": "white",
            "showbackground": true,
            "ticks": "",
            "zerolinecolor": "white"
           }
          },
          "shapedefaults": {
           "line": {
            "color": "#2a3f5f"
           }
          },
          "ternary": {
           "aaxis": {
            "gridcolor": "white",
            "linecolor": "white",
            "ticks": ""
           },
           "baxis": {
            "gridcolor": "white",
            "linecolor": "white",
            "ticks": ""
           },
           "bgcolor": "#E5ECF6",
           "caxis": {
            "gridcolor": "white",
            "linecolor": "white",
            "ticks": ""
           }
          },
          "title": {
           "x": 0.05
          },
          "xaxis": {
           "automargin": true,
           "gridcolor": "white",
           "linecolor": "white",
           "ticks": "",
           "title": {
            "standoff": 15
           },
           "zerolinecolor": "white",
           "zerolinewidth": 2
          },
          "yaxis": {
           "automargin": true,
           "gridcolor": "white",
           "linecolor": "white",
           "ticks": "",
           "title": {
            "standoff": 15
           },
           "zerolinecolor": "white",
           "zerolinewidth": 2
          }
         }
        },
        "width": 800,
        "xaxis": {
         "anchor": "y",
         "autorange": true,
         "domain": [
          0,
          1
         ],
         "range": [
          14.835756053225088,
          148.66118886928916
         ],
         "title": {
          "text": "n_chaps"
         },
         "type": "linear"
        },
        "yaxis": {
         "anchor": "x",
         "autorange": true,
         "domain": [
          0,
          1
         ],
         "range": [
          8399.487267426675,
          236971.61366799663
         ],
         "title": {
          "text": "book_len"
         },
         "type": "linear"
        }
       }
      },
      "image/png": "[encoded data removed]",
      "text/html": [
       "<div>                            <div id=\"42950e61-c3ac-4b0f-a78a-94d6b88fb6b1\" class=\"plotly-graph-div\" style=\"height:500px; width:800px;\"></div>            <script type=\"text/javascript\">                require([\"plotly\"], function(Plotly) {                    window.PLOTLYENV=window.PLOTLYENV || {};                                    if (document.getElementById(\"42950e61-c3ac-4b0f-a78a-94d6b88fb6b1\")) {                    Plotly.newPlot(                        \"42950e61-c3ac-4b0f-a78a-94d6b88fb6b1\",                        [{\"hovertemplate\": \"<b>%{hovertext}</b><br><br>author=AUSTEN, JANE<br>n_chaps=%{text}<br>book_len=%{marker.size}<extra></extra>\", \"hovertext\": [\"PERSUASION\", \"NORTHANGER ABBEY\", \"MANSFIELD PARK\", \"EMMA\", \"SENSE AND SENSIBILITY\", \"LADY SUSAN\", \"LOVE AND FREINDSHIP SIC\", \"PRIDE AND PREJUDICE\"], \"legendgroup\": \"AUSTEN, JANE\", \"marker\": {\"color\": \"#636efa\", \"size\": [83624, 77601, 160378, 160925, 119873, 23116, 33265, 122126], \"sizemode\": \"area\", \"sizeref\": 538.76, \"symbol\": \"circle\"}, \"mode\": \"markers+text\", \"name\": \"AUSTEN, JANE\", \"orientation\": \"v\", \"showlegend\": true, \"text\": [24.0, 31.0, 48.0, 55.0, 50.0, 41.0, 24.0, 61.0], \"type\": \"scatter\", \"x\": [24, 31, 48, 55, 50, 41, 24, 61], \"xaxis\": \"x\", \"y\": [83624, 77601, 160378, 160925, 119873, 23116, 33265, 122126], \"yaxis\": \"y\"}, {\"hovertemplate\": \"<b>%{hovertext}</b><br><br>author=MELVILLE, HERMAN<br>n_chaps=%{text}<br>book_len=%{marker.size}<extra></extra>\", \"hovertext\": [\"TYPEE A ROMANCE OF THE SOUTH SEAS\", \"MOBY DICK OR THE WHALE\", \"OMOO ADVENTURES IN THE SOUTH SEAS\", \"REDBURN HIS FIRST VOYAGE BEING THE SAILOR BOY CONFESSIONS AND REMINISCENCES OF THE SON OF A GENTLEMAN IN THE MERCHANT NAVY\", \"WHITE JACKET OR THE WORLD ON A MAN OF WAR\", \"MARDI AND A VOYAGE THITHER VOL I\", \"MARDI AND A VOYAGE THITHER VOL II\", \"ISRAEL POTTER HIS FIFTY YEARS OF EXILE\", \"THE CONFIDENCE MAN HIS MASQUERADE\", \"PIERRE OR THE AMBIGUITIES\"], \"legendgroup\": \"MELVILLE, HERMAN\", \"marker\": {\"color\": \"#EF553B\", \"size\": [108021, 215504, 102352, 119243, 143309, 96878, 102092, 65516, 95315, 155056], \"sizemode\": \"area\", \"sizeref\": 538.76, \"symbol\": \"circle\"}, \"mode\": \"markers+text\", \"name\": \"MELVILLE, HERMAN\", \"orientation\": \"v\", \"showlegend\": true, \"text\": [34.0, 138.0, 82.0, 78.0, 92.0, 104.0, 91.0, 27.0, 90.0, 114.0], \"type\": \"scatter\", \"x\": [34, 138, 82, 78, 92, 104, 91, 27, 90, 114], \"xaxis\": \"x\", \"y\": [108021, 215504, 102352, 119243, 143309, 96878, 102092, 65516, 95315, 155056], \"yaxis\": \"y\"}],                        {\"height\": 500, \"legend\": {\"itemsizing\": \"constant\", \"title\": {\"text\": \"author\"}, \"tracegroupgap\": 0}, \"margin\": {\"t\": 60}, \"template\": {\"data\": {\"bar\": [{\"error_x\": {\"color\": \"#2a3f5f\"}, \"error_y\": {\"color\": \"#2a3f5f\"}, \"marker\": {\"line\": {\"color\": \"#E5ECF6\", \"width\": 0.5}}, \"type\": \"bar\"}], \"barpolar\": [{\"marker\": {\"line\": {\"color\": \"#E5ECF6\", \"width\": 0.5}}, \"type\": \"barpolar\"}], \"carpet\": [{\"aaxis\": {\"endlinecolor\": \"#2a3f5f\", \"gridcolor\": \"white\", \"linecolor\": \"white\", \"minorgridcolor\": \"white\", \"startlinecolor\": \"#2a3f5f\"}, \"baxis\": {\"endlinecolor\": \"#2a3f5f\", \"gridcolor\": \"white\", \"linecolor\": \"white\", \"minorgridcolor\": \"white\", \"startlinecolor\": \"#2a3f5f\"}, \"type\": \"carpet\"}], \"choropleth\": [{\"colorbar\": {\"outlinewidth\": 0, \"ticks\": \"\"}, \"type\": \"choropleth\"}], \"contour\": [{\"colorbar\": {\"outlinewidth\": 0, \"ticks\": \"\"}, \"colorscale\": [[0.0, \"#0d0887\"], [0.1111111111111111, \"#46039f\"], [0.2222222222222222, \"#7201a8\"], [0.3333333333333333, \"#9c179e\"], [0.4444444444444444, \"#bd3786\"], [0.5555555555555556, \"#d8576b\"], [0.6666666666666666, \"#ed7953\"], [0.7777777777777778, \"#fb9f3a\"], [0.8888888888888888, \"#fdca26\"], [1.0, \"#f0f921\"]], \"type\": \"contour\"}], \"contourcarpet\": [{\"colorbar\": {\"outlinewidth\": 0, \"ticks\": \"\"}, \"type\": \"contourcarpet\"}], \"heatmap\": [{\"colorbar\": {\"outlinewidth\": 0, \"ticks\": \"\"}, \"colorscale\": [[0.0, \"#0d0887\"], [0.1111111111111111, \"#46039f\"], [0.2222222222222222, \"#7201a8\"], [0.3333333333333333, \"#9c179e\"], [0.4444444444444444, \"#bd3786\"], [0.5555555555555556, \"#d8576b\"], [0.6666666666666666, \"#ed7953\"], [0.7777777777777778, \"#fb9f3a\"], [0.8888888888888888, \"#fdca26\"], [1.0, \"#f0f921\"]], \"type\": \"heatmap\"}], \"heatmapgl\": [{\"colorbar\": {\"outlinewidth\": 0, \"ticks\": \"\"}, \"colorscale\": [[0.0, \"#0d0887\"], [0.1111111111111111, \"#46039f\"], [0.2222222222222222, \"#7201a8\"], [0.3333333333333333, \"#9c179e\"], [0.4444444444444444, \"#bd3786\"], [0.5555555555555556, \"#d8576b\"], [0.6666666666666666, \"#ed7953\"], [0.7777777777777778, \"#fb9f3a\"], [0.8888888888888888, \"#fdca26\"], [1.0, \"#f0f921\"]], \"type\": \"heatmapgl\"}], \"histogram\": [{\"marker\": {\"colorbar\": {\"outlinewidth\": 0, \"ticks\": \"\"}}, \"type\": \"histogram\"}], \"histogram2d\": [{\"colorbar\": {\"outlinewidth\": 0, \"ticks\": \"\"}, \"colorscale\": [[0.0, \"#0d0887\"], [0.1111111111111111, \"#46039f\"], [0.2222222222222222, \"#7201a8\"], [0.3333333333333333, \"#9c179e\"], [0.4444444444444444, \"#bd3786\"], [0.5555555555555556, \"#d8576b\"], [0.6666666666666666, \"#ed7953\"], [0.7777777777777778, \"#fb9f3a\"], [0.8888888888888888, \"#fdca26\"], [1.0, \"#f0f921\"]], \"type\": \"histogram2d\"}], \"histogram2dcontour\": [{\"colorbar\": {\"outlinewidth\": 0, \"ticks\": \"\"}, \"colorscale\": [[0.0, \"#0d0887\"], [0.1111111111111111, \"#46039f\"], [0.2222222222222222, \"#7201a8\"], [0.3333333333333333, \"#9c179e\"], [0.4444444444444444, \"#bd3786\"], [0.5555555555555556, \"#d8576b\"], [0.6666666666666666, \"#ed7953\"], [0.7777777777777778, \"#fb9f3a\"], [0.8888888888888888, \"#fdca26\"], [1.0, \"#f0f921\"]], \"type\": \"histogram2dcontour\"}], \"mesh3d\": [{\"colorbar\": {\"outlinewidth\": 0, \"ticks\": \"\"}, \"type\": \"mesh3d\"}], \"parcoords\": [{\"line\": {\"colorbar\": {\"outlinewidth\": 0, \"ticks\": \"\"}}, \"type\": \"parcoords\"}], \"pie\": [{\"automargin\": true, \"type\": \"pie\"}], \"scatter\": [{\"marker\": {\"colorbar\": {\"outlinewidth\": 0, \"ticks\": \"\"}}, \"type\": \"scatter\"}], \"scatter3d\": [{\"line\": {\"colorbar\": {\"outlinewidth\": 0, \"ticks\": \"\"}}, \"marker\": {\"colorbar\": {\"outlinewidth\": 0, \"ticks\": \"\"}}, \"type\": \"scatter3d\"}], \"scattercarpet\": [{\"marker\": {\"colorbar\": {\"outlinewidth\": 0, \"ticks\": \"\"}}, \"type\": \"scattercarpet\"}], \"scattergeo\": [{\"marker\": {\"colorbar\": {\"outlinewidth\": 0, \"ticks\": \"\"}}, \"type\": \"scattergeo\"}], \"scattergl\": [{\"marker\": {\"colorbar\": {\"outlinewidth\": 0, \"ticks\": \"\"}}, \"type\": \"scattergl\"}], \"scattermapbox\": [{\"marker\": {\"colorbar\": {\"outlinewidth\": 0, \"ticks\": \"\"}}, \"type\": \"scattermapbox\"}], \"scatterpolar\": [{\"marker\": {\"colorbar\": {\"outlinewidth\": 0, \"ticks\": \"\"}}, \"type\": \"scatterpolar\"}], \"scatterpolargl\": [{\"marker\": {\"colorbar\": {\"outlinewidth\": 0, \"ticks\": \"\"}}, \"type\": \"scatterpolargl\"}], \"scatterternary\": [{\"marker\": {\"colorbar\": {\"outlinewidth\": 0, \"ticks\": \"\"}}, \"type\": \"scatterternary\"}], \"surface\": [{\"colorbar\": {\"outlinewidth\": 0, \"ticks\": \"\"}, \"colorscale\": [[0.0, \"#0d0887\"], [0.1111111111111111, \"#46039f\"], [0.2222222222222222, \"#7201a8\"], [0.3333333333333333, \"#9c179e\"], [0.4444444444444444, \"#bd3786\"], [0.5555555555555556, \"#d8576b\"], [0.6666666666666666, \"#ed7953\"], [0.7777777777777778, \"#fb9f3a\"], [0.8888888888888888, \"#fdca26\"], [1.0, \"#f0f921\"]], \"type\": \"surface\"}], \"table\": [{\"cells\": {\"fill\": {\"color\": \"#EBF0F8\"}, \"line\": {\"color\": \"white\"}}, \"header\": {\"fill\": {\"color\": \"#C8D4E3\"}, \"line\": {\"color\": \"white\"}}, \"type\": \"table\"}]}, \"layout\": {\"annotationdefaults\": {\"arrowcolor\": \"#2a3f5f\", \"arrowhead\": 0, \"arrowwidth\": 1}, \"coloraxis\": {\"colorbar\": {\"outlinewidth\": 0, \"ticks\": \"\"}}, \"colorscale\": {\"diverging\": [[0, \"#8e0152\"], [0.1, \"#c51b7d\"], [0.2, \"#de77ae\"], [0.3, \"#f1b6da\"], [0.4, \"#fde0ef\"], [0.5, \"#f7f7f7\"], [0.6, \"#e6f5d0\"], [0.7, \"#b8e186\"], [0.8, \"#7fbc41\"], [0.9, \"#4d9221\"], [1, \"#276419\"]], \"sequential\": [[0.0, \"#0d0887\"], [0.1111111111111111, \"#46039f\"], [0.2222222222222222, \"#7201a8\"], [0.3333333333333333, \"#9c179e\"], [0.4444444444444444, \"#bd3786\"], [0.5555555555555556, \"#d8576b\"], [0.6666666666666666, \"#ed7953\"], [0.7777777777777778, \"#fb9f3a\"], [0.8888888888888888, \"#fdca26\"], [1.0, \"#f0f921\"]], \"sequentialminus\": [[0.0, \"#0d0887\"], [0.1111111111111111, \"#46039f\"], [0.2222222222222222, \"#7201a8\"], [0.3333333333333333, \"#9c179e\"], [0.4444444444444444, \"#bd3786\"], [0.5555555555555556, \"#d8576b\"], [0.6666666666666666, \"#ed7953\"], [0.7777777777777778, \"#fb9f3a\"], [0.8888888888888888, \"#fdca26\"], [1.0, \"#f0f921\"]]}, \"colorway\": [\"#636efa\", \"#EF553B\", \"#00cc96\", \"#ab63fa\", \"#FFA15A\", \"#19d3f3\", \"#FF6692\", \"#B6E880\", \"#FF97FF\", \"#FECB52\"], \"font\": {\"color\": \"#2a3f5f\"}, \"geo\": {\"bgcolor\": \"white\", \"lakecolor\": \"white\", \"landcolor\": \"#E5ECF6\", \"showlakes\": true, \"showland\": true, \"subunitcolor\": \"white\"}, \"hoverlabel\": {\"align\": \"left\"}, \"hovermode\": \"closest\", \"mapbox\": {\"style\": \"light\"}, \"paper_bgcolor\": \"white\", \"plot_bgcolor\": \"#E5ECF6\", \"polar\": {\"angularaxis\": {\"gridcolor\": \"white\", \"linecolor\": \"white\", \"ticks\": \"\"}, \"bgcolor\": \"#E5ECF6\", \"radialaxis\": {\"gridcolor\": \"white\", \"linecolor\": \"white\", \"ticks\": \"\"}}, \"scene\": {\"xaxis\": {\"backgroundcolor\": \"#E5ECF6\", \"gridcolor\": \"white\", \"gridwidth\": 2, \"linecolor\": \"white\", \"showbackground\": true, \"ticks\": \"\", \"zerolinecolor\": \"white\"}, \"yaxis\": {\"backgroundcolor\": \"#E5ECF6\", \"gridcolor\": \"white\", \"gridwidth\": 2, \"linecolor\": \"white\", \"showbackground\": true, \"ticks\": \"\", \"zerolinecolor\": \"white\"}, \"zaxis\": {\"backgroundcolor\": \"#E5ECF6\", \"gridcolor\": \"white\", \"gridwidth\": 2, \"linecolor\": \"white\", \"showbackground\": true, \"ticks\": \"\", \"zerolinecolor\": \"white\"}}, \"shapedefaults\": {\"line\": {\"color\": \"#2a3f5f\"}}, \"ternary\": {\"aaxis\": {\"gridcolor\": \"white\", \"linecolor\": \"white\", \"ticks\": \"\"}, \"baxis\": {\"gridcolor\": \"white\", \"linecolor\": \"white\", \"ticks\": \"\"}, \"bgcolor\": \"#E5ECF6\", \"caxis\": {\"gridcolor\": \"white\", \"linecolor\": \"white\", \"ticks\": \"\"}}, \"title\": {\"x\": 0.05}, \"xaxis\": {\"automargin\": true, \"gridcolor\": \"white\", \"linecolor\": \"white\", \"ticks\": \"\", \"title\": {\"standoff\": 15}, \"zerolinecolor\": \"white\", \"zerolinewidth\": 2}, \"yaxis\": {\"automargin\": true, \"gridcolor\": \"white\", \"linecolor\": \"white\", \"ticks\": \"\", \"title\": {\"standoff\": 15}, \"zerolinecolor\": \"white\", \"zerolinewidth\": 2}}}, \"width\": 800, \"xaxis\": {\"anchor\": \"y\", \"domain\": [0.0, 1.0], \"title\": {\"text\": \"n_chaps\"}}, \"yaxis\": {\"anchor\": \"x\", \"domain\": [0.0, 1.0], \"title\": {\"text\": \"book_len\"}}},                        {\"responsive\": true}                    ).then(function(){\n",
       "                            \n",
       "var gd = document.getElementById('42950e61-c3ac-4b0f-a78a-94d6b88fb6b1');\n",
       "var x = new MutationObserver(function (mutations, observer) {{\n",
       "        var display = window.getComputedStyle(gd).display;\n",
       "        if (!display || display === 'none') {{\n",
       "            console.log([gd, 'removed!']);\n",
       "            Plotly.purge(gd);\n",
       "            observer.disconnect();\n",
       "        }}\n",
       "}});\n",
       "\n",
       "// Listen for the removal of the full notebook cells\n",
       "var notebookContainer = gd.closest('#notebook-container');\n",
       "if (notebookContainer) {{\n",
       "    x.observe(notebookContainer, {childList: true});\n",
       "}}\n",
       "\n",
       "// Listen for the clearing of the current output cell\n",
       "var outputEl = gd.closest('.output');\n",
       "if (outputEl) {{\n",
       "    x.observe(outputEl, {childList: true});\n",
       "}}\n",
       "\n",
       "                        })                };                });            </script>        </div>"
      ]
     },
     "metadata": {},
     "output_type": "display_data"
    }
   ],
   "source": [
    "px.scatter(LIB, 'n_chaps', 'book_len', color='author', text='n_chaps', size='book_len', hover_name='title', width=800, height=500) "
   ]
  },
  {
   "cell_type": "code",
   "execution_count": 133,
   "metadata": {},
   "outputs": [
    {
     "data": {
      "text/html": [
       "<div>\n",
       "<style scoped>\n",
       "    .dataframe tbody tr th:only-of-type {\n",
       "        vertical-align: middle;\n",
       "    }\n",
       "\n",
       "    .dataframe tbody tr th {\n",
       "        vertical-align: top;\n",
       "    }\n",
       "\n",
       "    .dataframe thead th {\n",
       "        text-align: right;\n",
       "    }\n",
       "</style>\n",
       "<table border=\"1\" class=\"dataframe\">\n",
       "  <thead>\n",
       "    <tr style=\"text-align: right;\">\n",
       "      <th></th>\n",
       "      <th>book_len</th>\n",
       "      <th>n_chaps</th>\n",
       "    </tr>\n",
       "    <tr>\n",
       "      <th>author</th>\n",
       "      <th></th>\n",
       "      <th></th>\n",
       "    </tr>\n",
       "  </thead>\n",
       "  <tbody>\n",
       "    <tr>\n",
       "      <th>AUSTEN, JANE</th>\n",
       "      <td>97613.5</td>\n",
       "      <td>41.75</td>\n",
       "    </tr>\n",
       "    <tr>\n",
       "      <th>MELVILLE, HERMAN</th>\n",
       "      <td>120328.6</td>\n",
       "      <td>85.00</td>\n",
       "    </tr>\n",
       "  </tbody>\n",
       "</table>\n",
       "</div>"
      ],
      "text/plain": [
       "                  book_len  n_chaps\n",
       "author                             \n",
       "AUSTEN, JANE       97613.5    41.75\n",
       "MELVILLE, HERMAN  120328.6    85.00"
      ]
     },
     "execution_count": 133,
     "metadata": {},
     "output_type": "execute_result"
    }
   ],
   "source": [
    "LIB.groupby('author').agg('mean')"
   ]
  },
  {
   "cell_type": "markdown",
   "metadata": {},
   "source": [
    "# Exract VOCAB\n",
    "\n",
    "Extract a vocabulary from the CORPUS as a whole"
   ]
  },
  {
   "cell_type": "markdown",
   "metadata": {},
   "source": [
    "## Handle Anomalies\n",
    "\n",
    "NLTK's POS tagger is not perfect -- note the classification of punctuation as nouns, verbs, etc. We remove these from our corups."
   ]
  },
  {
   "cell_type": "code",
   "execution_count": 21,
   "metadata": {},
   "outputs": [
    {
     "data": {
      "text/html": [
       "<div>\n",
       "<style scoped>\n",
       "    .dataframe tbody tr th:only-of-type {\n",
       "        vertical-align: middle;\n",
       "    }\n",
       "\n",
       "    .dataframe tbody tr th {\n",
       "        vertical-align: top;\n",
       "    }\n",
       "\n",
       "    .dataframe thead th {\n",
       "        text-align: right;\n",
       "    }\n",
       "</style>\n",
       "<table border=\"1\" class=\"dataframe\">\n",
       "  <thead>\n",
       "    <tr style=\"text-align: right;\">\n",
       "      <th></th>\n",
       "      <th></th>\n",
       "      <th></th>\n",
       "      <th></th>\n",
       "      <th></th>\n",
       "      <th>pos_tuple</th>\n",
       "      <th>pos</th>\n",
       "      <th>token_str</th>\n",
       "      <th>term_str</th>\n",
       "    </tr>\n",
       "    <tr>\n",
       "      <th>book_id</th>\n",
       "      <th>chap_id</th>\n",
       "      <th>para_num</th>\n",
       "      <th>sent_num</th>\n",
       "      <th>token_num</th>\n",
       "      <th></th>\n",
       "      <th></th>\n",
       "      <th></th>\n",
       "      <th></th>\n",
       "    </tr>\n",
       "  </thead>\n",
       "  <tbody>\n",
       "    <tr>\n",
       "      <th rowspan=\"5\" valign=\"top\">105</th>\n",
       "      <th rowspan=\"2\" valign=\"top\">3</th>\n",
       "      <th rowspan=\"2\" valign=\"top\">0</th>\n",
       "      <th>5</th>\n",
       "      <th>12</th>\n",
       "      <td>(\", NNP)</td>\n",
       "      <td>NNP</td>\n",
       "      <td>\"</td>\n",
       "      <td></td>\n",
       "    </tr>\n",
       "    <tr>\n",
       "      <th>55</th>\n",
       "      <th>22</th>\n",
       "      <td>(\", VBZ)</td>\n",
       "      <td>VBZ</td>\n",
       "      <td>\"</td>\n",
       "      <td></td>\n",
       "    </tr>\n",
       "    <tr>\n",
       "      <th>6</th>\n",
       "      <th>0</th>\n",
       "      <th>93</th>\n",
       "      <th>0</th>\n",
       "      <td>(),, NN)</td>\n",
       "      <td>NN</td>\n",
       "      <td>),</td>\n",
       "      <td></td>\n",
       "    </tr>\n",
       "    <tr>\n",
       "      <th>14</th>\n",
       "      <th>0</th>\n",
       "      <th>25</th>\n",
       "      <th>9</th>\n",
       "      <td>(\", VBP)</td>\n",
       "      <td>VBP</td>\n",
       "      <td>\"</td>\n",
       "      <td></td>\n",
       "    </tr>\n",
       "    <tr>\n",
       "      <th>20</th>\n",
       "      <th>0</th>\n",
       "      <th>22</th>\n",
       "      <th>14</th>\n",
       "      <td>(\", VB)</td>\n",
       "      <td>VB</td>\n",
       "      <td>\"</td>\n",
       "      <td></td>\n",
       "    </tr>\n",
       "    <tr>\n",
       "      <th>...</th>\n",
       "      <th>...</th>\n",
       "      <th>...</th>\n",
       "      <th>...</th>\n",
       "      <th>...</th>\n",
       "      <td>...</td>\n",
       "      <td>...</td>\n",
       "      <td>...</td>\n",
       "      <td>...</td>\n",
       "    </tr>\n",
       "    <tr>\n",
       "      <th rowspan=\"5\" valign=\"top\">34970</th>\n",
       "      <th>79</th>\n",
       "      <th>0</th>\n",
       "      <th>44</th>\n",
       "      <th>15</th>\n",
       "      <td>(&amp;, CC)</td>\n",
       "      <td>CC</td>\n",
       "      <td>&amp;</td>\n",
       "      <td></td>\n",
       "    </tr>\n",
       "    <tr>\n",
       "      <th>80</th>\n",
       "      <th>0</th>\n",
       "      <th>50</th>\n",
       "      <th>24</th>\n",
       "      <td>(_., NN)</td>\n",
       "      <td>NN</td>\n",
       "      <td>_.</td>\n",
       "      <td></td>\n",
       "    </tr>\n",
       "    <tr>\n",
       "      <th rowspan=\"2\" valign=\"top\">83</th>\n",
       "      <th rowspan=\"2\" valign=\"top\">0</th>\n",
       "      <th>44</th>\n",
       "      <th>0</th>\n",
       "      <td>(),, NN)</td>\n",
       "      <td>NN</td>\n",
       "      <td>),</td>\n",
       "      <td></td>\n",
       "    </tr>\n",
       "    <tr>\n",
       "      <th>45</th>\n",
       "      <th>0</th>\n",
       "      <td>();, NN)</td>\n",
       "      <td>NN</td>\n",
       "      <td>);</td>\n",
       "      <td></td>\n",
       "    </tr>\n",
       "    <tr>\n",
       "      <th>111</th>\n",
       "      <th>0</th>\n",
       "      <th>10</th>\n",
       "      <th>3</th>\n",
       "      <td>(&amp;, CC)</td>\n",
       "      <td>CC</td>\n",
       "      <td>&amp;</td>\n",
       "      <td></td>\n",
       "    </tr>\n",
       "  </tbody>\n",
       "</table>\n",
       "<p>468 rows × 4 columns</p>\n",
       "</div>"
      ],
      "text/plain": [
       "                                            pos_tuple  pos token_str term_str\n",
       "book_id chap_id para_num sent_num token_num                                  \n",
       "105     3       0        5        12         (\", NNP)  NNP         \"         \n",
       "                         55       22         (\", VBZ)  VBZ         \"         \n",
       "        6       0        93       0          (),, NN)   NN        ),         \n",
       "        14      0        25       9          (\", VBP)  VBP         \"         \n",
       "        20      0        22       14          (\", VB)   VB         \"         \n",
       "...                                               ...  ...       ...      ...\n",
       "34970   79      0        44       15          (&, CC)   CC         &         \n",
       "        80      0        50       24         (_., NN)   NN        _.         \n",
       "        83      0        44       0          (),, NN)   NN        ),         \n",
       "                         45       0          ();, NN)   NN        );         \n",
       "        111     0        10       3           (&, CC)   CC         &         \n",
       "\n",
       "[468 rows x 4 columns]"
      ]
     },
     "execution_count": 21,
     "metadata": {},
     "output_type": "execute_result"
    }
   ],
   "source": [
    "CORPUS[CORPUS.term_str == '']"
   ]
  },
  {
   "cell_type": "code",
   "execution_count": 22,
   "metadata": {},
   "outputs": [
    {
     "data": {
      "text/plain": [
       "\"        218\n",
       "*        112\n",
       "|         85\n",
       "&          9\n",
       "*****      7\n",
       "),         5\n",
       "+          4\n",
       "'          3\n",
       "?\"         2\n",
       ".'         2\n",
       "\"*         2\n",
       "\";         1\n",
       "\",         1\n",
       ".\"         1\n",
       "!\"         1\n",
       "_.         1\n",
       "***        1\n",
       ",\"         1\n",
       "'*         1\n",
       ",'         1\n",
       "....       1\n",
       "::         1\n",
       "_          1\n",
       "'\"         1\n",
       "£          1\n",
       "[*         1\n",
       ");         1\n",
       "&.         1\n",
       "\"...       1\n",
       "'_         1\n",
       "Name: token_str, dtype: int64"
      ]
     },
     "execution_count": 22,
     "metadata": {},
     "output_type": "execute_result"
    }
   ],
   "source": [
    "CORPUS[CORPUS.term_str == ''].token_str.value_counts()"
   ]
  },
  {
   "cell_type": "code",
   "execution_count": 23,
   "metadata": {},
   "outputs": [],
   "source": [
    "CORPUS = CORPUS[CORPUS.term_str != '']"
   ]
  },
  {
   "cell_type": "code",
   "execution_count": 24,
   "metadata": {},
   "outputs": [],
   "source": [
    "VOCAB = CORPUS.term_str.value_counts().to_frame('n').sort_index()\n",
    "VOCAB.index.name = 'term_str'\n",
    "VOCAB['n_chars'] = VOCAB.index.str.len()\n",
    "VOCAB['p'] = VOCAB.n / VOCAB.n.sum()\n",
    "VOCAB['i'] = -np.log2(VOCAB.p)"
   ]
  },
  {
   "cell_type": "markdown",
   "metadata": {
    "colab_type": "text",
    "id": "bDSH9L2TXGzH",
    "tags": []
   },
   "source": [
    "# Annotate VOCAB"
   ]
  },
  {
   "cell_type": "markdown",
   "metadata": {},
   "source": [
    "## Get Max POS\n",
    "\n",
    "Get the most frequently associated part-of-space category for each word."
   ]
  },
  {
   "cell_type": "code",
   "execution_count": 25,
   "metadata": {},
   "outputs": [],
   "source": [
    "VOCAB['max_pos'] = CORPUS[['term_str','pos']].value_counts().unstack(fill_value=0).idxmax(1)"
   ]
  },
  {
   "cell_type": "markdown",
   "metadata": {},
   "source": [
    "## Compute POS ambiguity\n",
    "\n",
    "How many POS categories are associated with each word?"
   ]
  },
  {
   "cell_type": "code",
   "execution_count": 26,
   "metadata": {},
   "outputs": [],
   "source": [
    "TPM = CORPUS[['term_str','pos']].value_counts().unstack()"
   ]
  },
  {
   "cell_type": "code",
   "execution_count": 27,
   "metadata": {},
   "outputs": [],
   "source": [
    "# TPM"
   ]
  },
  {
   "cell_type": "code",
   "execution_count": 28,
   "metadata": {},
   "outputs": [],
   "source": [
    "VOCAB['n_pos'] = TPM.count(1)"
   ]
  },
  {
   "cell_type": "code",
   "execution_count": 29,
   "metadata": {},
   "outputs": [],
   "source": [
    "VOCAB['cat_pos'] = CORPUS[['term_str','pos']].value_counts().to_frame('n').reset_index()\\\n",
    "    .groupby('term_str').pos.apply(lambda x: set(x))"
   ]
  },
  {
   "cell_type": "code",
   "execution_count": 30,
   "metadata": {},
   "outputs": [
    {
     "data": {
      "text/html": [
       "<div>\n",
       "<style scoped>\n",
       "    .dataframe tbody tr th:only-of-type {\n",
       "        vertical-align: middle;\n",
       "    }\n",
       "\n",
       "    .dataframe tbody tr th {\n",
       "        vertical-align: top;\n",
       "    }\n",
       "\n",
       "    .dataframe thead th {\n",
       "        text-align: right;\n",
       "    }\n",
       "</style>\n",
       "<table border=\"1\" class=\"dataframe\">\n",
       "  <thead>\n",
       "    <tr style=\"text-align: right;\">\n",
       "      <th></th>\n",
       "      <th>n</th>\n",
       "      <th>n_chars</th>\n",
       "      <th>p</th>\n",
       "      <th>i</th>\n",
       "      <th>max_pos</th>\n",
       "      <th>n_pos</th>\n",
       "      <th>cat_pos</th>\n",
       "    </tr>\n",
       "    <tr>\n",
       "      <th>term_str</th>\n",
       "      <th></th>\n",
       "      <th></th>\n",
       "      <th></th>\n",
       "      <th></th>\n",
       "      <th></th>\n",
       "      <th></th>\n",
       "      <th></th>\n",
       "    </tr>\n",
       "  </thead>\n",
       "  <tbody>\n",
       "    <tr>\n",
       "      <th>0</th>\n",
       "      <td>2</td>\n",
       "      <td>1</td>\n",
       "      <td>1.008204e-06</td>\n",
       "      <td>19.919781</td>\n",
       "      <td>CD</td>\n",
       "      <td>1</td>\n",
       "      <td>{CD}</td>\n",
       "    </tr>\n",
       "    <tr>\n",
       "      <th>1</th>\n",
       "      <td>21</td>\n",
       "      <td>1</td>\n",
       "      <td>1.058614e-05</td>\n",
       "      <td>16.527464</td>\n",
       "      <td>CD</td>\n",
       "      <td>3</td>\n",
       "      <td>{CD, JJ, NNP}</td>\n",
       "    </tr>\n",
       "    <tr>\n",
       "      <th>10</th>\n",
       "      <td>6</td>\n",
       "      <td>2</td>\n",
       "      <td>3.024611e-06</td>\n",
       "      <td>18.334819</td>\n",
       "      <td>CD</td>\n",
       "      <td>1</td>\n",
       "      <td>{CD}</td>\n",
       "    </tr>\n",
       "    <tr>\n",
       "      <th>100</th>\n",
       "      <td>2</td>\n",
       "      <td>3</td>\n",
       "      <td>1.008204e-06</td>\n",
       "      <td>19.919781</td>\n",
       "      <td>CD</td>\n",
       "      <td>1</td>\n",
       "      <td>{CD}</td>\n",
       "    </tr>\n",
       "    <tr>\n",
       "      <th>1000</th>\n",
       "      <td>2</td>\n",
       "      <td>4</td>\n",
       "      <td>1.008204e-06</td>\n",
       "      <td>19.919781</td>\n",
       "      <td>CD</td>\n",
       "      <td>1</td>\n",
       "      <td>{CD}</td>\n",
       "    </tr>\n",
       "    <tr>\n",
       "      <th>...</th>\n",
       "      <td>...</td>\n",
       "      <td>...</td>\n",
       "      <td>...</td>\n",
       "      <td>...</td>\n",
       "      <td>...</td>\n",
       "      <td>...</td>\n",
       "      <td>...</td>\n",
       "    </tr>\n",
       "    <tr>\n",
       "      <th>æneas</th>\n",
       "      <td>1</td>\n",
       "      <td>5</td>\n",
       "      <td>5.041019e-07</td>\n",
       "      <td>20.919781</td>\n",
       "      <td>NNP</td>\n",
       "      <td>1</td>\n",
       "      <td>{NNP}</td>\n",
       "    </tr>\n",
       "    <tr>\n",
       "      <th>æniad</th>\n",
       "      <td>1</td>\n",
       "      <td>5</td>\n",
       "      <td>5.041019e-07</td>\n",
       "      <td>20.919781</td>\n",
       "      <td>NN</td>\n",
       "      <td>1</td>\n",
       "      <td>{NN}</td>\n",
       "    </tr>\n",
       "    <tr>\n",
       "      <th>æson</th>\n",
       "      <td>2</td>\n",
       "      <td>4</td>\n",
       "      <td>1.008204e-06</td>\n",
       "      <td>19.919781</td>\n",
       "      <td>NN</td>\n",
       "      <td>1</td>\n",
       "      <td>{NN}</td>\n",
       "    </tr>\n",
       "    <tr>\n",
       "      <th>æsops</th>\n",
       "      <td>1</td>\n",
       "      <td>5</td>\n",
       "      <td>5.041019e-07</td>\n",
       "      <td>20.919781</td>\n",
       "      <td>NNS</td>\n",
       "      <td>1</td>\n",
       "      <td>{NNS}</td>\n",
       "    </tr>\n",
       "    <tr>\n",
       "      <th>ł20000</th>\n",
       "      <td>1</td>\n",
       "      <td>6</td>\n",
       "      <td>5.041019e-07</td>\n",
       "      <td>20.919781</td>\n",
       "      <td>NN</td>\n",
       "      <td>1</td>\n",
       "      <td>{NN}</td>\n",
       "    </tr>\n",
       "  </tbody>\n",
       "</table>\n",
       "<p>39426 rows × 7 columns</p>\n",
       "</div>"
      ],
      "text/plain": [
       "           n  n_chars             p          i max_pos  n_pos        cat_pos\n",
       "term_str                                                                    \n",
       "0          2        1  1.008204e-06  19.919781      CD      1           {CD}\n",
       "1         21        1  1.058614e-05  16.527464      CD      3  {CD, JJ, NNP}\n",
       "10         6        2  3.024611e-06  18.334819      CD      1           {CD}\n",
       "100        2        3  1.008204e-06  19.919781      CD      1           {CD}\n",
       "1000       2        4  1.008204e-06  19.919781      CD      1           {CD}\n",
       "...       ..      ...           ...        ...     ...    ...            ...\n",
       "æneas      1        5  5.041019e-07  20.919781     NNP      1          {NNP}\n",
       "æniad      1        5  5.041019e-07  20.919781      NN      1           {NN}\n",
       "æson       2        4  1.008204e-06  19.919781      NN      1           {NN}\n",
       "æsops      1        5  5.041019e-07  20.919781     NNS      1          {NNS}\n",
       "ł20000     1        6  5.041019e-07  20.919781      NN      1           {NN}\n",
       "\n",
       "[39426 rows x 7 columns]"
      ]
     },
     "execution_count": 30,
     "metadata": {},
     "output_type": "execute_result"
    }
   ],
   "source": [
    "VOCAB"
   ]
  },
  {
   "cell_type": "code",
   "execution_count": 31,
   "metadata": {},
   "outputs": [],
   "source": [
    "# nltk.help.upenn_tagset()"
   ]
  },
  {
   "cell_type": "markdown",
   "metadata": {
    "colab_type": "text",
    "id": "US7EfWK_06FS"
   },
   "source": [
    "## Add Stopwords"
   ]
  },
  {
   "cell_type": "markdown",
   "metadata": {
    "colab_type": "text",
    "id": "BDCfFuN80_rX"
   },
   "source": [
    "We use NLTK's built in stopword list for English. Note that we can add and subtract from this list, or just create our own list and keep it in our data model."
   ]
  },
  {
   "cell_type": "code",
   "execution_count": 32,
   "metadata": {
    "colab": {},
    "colab_type": "code",
    "id": "RG-5qYDR1YC2"
   },
   "outputs": [],
   "source": [
    "sw = pd.DataFrame(nltk.corpus.stopwords.words('english'), columns=['term_str'])\n",
    "sw = sw.reset_index().set_index('term_str')\n",
    "sw.columns = ['dummy']\n",
    "sw.dummy = 1"
   ]
  },
  {
   "cell_type": "code",
   "execution_count": 46,
   "metadata": {
    "colab": {
     "base_uri": "https://localhost:8080/",
     "height": 1925
    },
    "colab_type": "code",
    "id": "8vtGY9V82scz",
    "outputId": "e7ef30c7-3a05-4acf-e2cc-9154f589bd91"
   },
   "outputs": [],
   "source": [
    "# sw.sample(10)"
   ]
  },
  {
   "cell_type": "code",
   "execution_count": 34,
   "metadata": {
    "colab": {},
    "colab_type": "code",
    "id": "cVJUOP9l2AS7"
   },
   "outputs": [],
   "source": [
    "VOCAB['stop'] = VOCAB.index.map(sw.dummy)\n",
    "VOCAB['stop'] = VOCAB['stop'].fillna(0).astype('int')"
   ]
  },
  {
   "cell_type": "code",
   "execution_count": 35,
   "metadata": {
    "colab": {
     "base_uri": "https://localhost:8080/",
     "height": 375
    },
    "colab_type": "code",
    "id": "QXcA9xyY4JF_",
    "outputId": "340d1dab-1901-4eeb-b9d8-a269eba90dea"
   },
   "outputs": [
    {
     "data": {
      "text/html": [
       "<div>\n",
       "<style scoped>\n",
       "    .dataframe tbody tr th:only-of-type {\n",
       "        vertical-align: middle;\n",
       "    }\n",
       "\n",
       "    .dataframe tbody tr th {\n",
       "        vertical-align: top;\n",
       "    }\n",
       "\n",
       "    .dataframe thead th {\n",
       "        text-align: right;\n",
       "    }\n",
       "</style>\n",
       "<table border=\"1\" class=\"dataframe\">\n",
       "  <thead>\n",
       "    <tr style=\"text-align: right;\">\n",
       "      <th></th>\n",
       "      <th>n</th>\n",
       "      <th>n_chars</th>\n",
       "      <th>p</th>\n",
       "      <th>i</th>\n",
       "      <th>max_pos</th>\n",
       "      <th>n_pos</th>\n",
       "      <th>cat_pos</th>\n",
       "      <th>stop</th>\n",
       "    </tr>\n",
       "    <tr>\n",
       "      <th>term_str</th>\n",
       "      <th></th>\n",
       "      <th></th>\n",
       "      <th></th>\n",
       "      <th></th>\n",
       "      <th></th>\n",
       "      <th></th>\n",
       "      <th></th>\n",
       "      <th></th>\n",
       "    </tr>\n",
       "  </thead>\n",
       "  <tbody>\n",
       "    <tr>\n",
       "      <th>on</th>\n",
       "      <td>10023</td>\n",
       "      <td>2</td>\n",
       "      <td>0.005053</td>\n",
       "      <td>7.628755</td>\n",
       "      <td>IN</td>\n",
       "      <td>17</td>\n",
       "      <td>{VBD, RBR, VBP, NN, FW, MD, JJR, VBN, NNP, RB,...</td>\n",
       "      <td>1</td>\n",
       "    </tr>\n",
       "    <tr>\n",
       "      <th>under</th>\n",
       "      <td>1210</td>\n",
       "      <td>5</td>\n",
       "      <td>0.000610</td>\n",
       "      <td>10.678990</td>\n",
       "      <td>IN</td>\n",
       "      <td>6</td>\n",
       "      <td>{VBP, NN, NNP, JJ, RP, IN}</td>\n",
       "      <td>1</td>\n",
       "    </tr>\n",
       "    <tr>\n",
       "      <th>being</th>\n",
       "      <td>3018</td>\n",
       "      <td>5</td>\n",
       "      <td>0.001521</td>\n",
       "      <td>9.360404</td>\n",
       "      <td>VBG</td>\n",
       "      <td>10</td>\n",
       "      <td>{VBG, VBP, NN, VBN, NNP, NNS, JJ, VBZ, VB, IN}</td>\n",
       "      <td>1</td>\n",
       "    </tr>\n",
       "    <tr>\n",
       "      <th>who</th>\n",
       "      <td>4425</td>\n",
       "      <td>3</td>\n",
       "      <td>0.002231</td>\n",
       "      <td>8.808320</td>\n",
       "      <td>WP</td>\n",
       "      <td>17</td>\n",
       "      <td>{WP, VBD, VBP, NN, CD, VBN, WDT, NNP, RB, POS,...</td>\n",
       "      <td>1</td>\n",
       "    </tr>\n",
       "    <tr>\n",
       "      <th>just</th>\n",
       "      <td>1391</td>\n",
       "      <td>4</td>\n",
       "      <td>0.000701</td>\n",
       "      <td>10.477875</td>\n",
       "      <td>RB</td>\n",
       "      <td>8</td>\n",
       "      <td>{NN, VBN, NNP, RB, NNS, JJ, VB, IN}</td>\n",
       "      <td>1</td>\n",
       "    </tr>\n",
       "    <tr>\n",
       "      <th>should</th>\n",
       "      <td>2742</td>\n",
       "      <td>6</td>\n",
       "      <td>0.001382</td>\n",
       "      <td>9.498768</td>\n",
       "      <td>MD</td>\n",
       "      <td>10</td>\n",
       "      <td>{VBD, VBP, NN, MD, VBN, NNP, NNS, JJ, VBZ, VB}</td>\n",
       "      <td>1</td>\n",
       "    </tr>\n",
       "    <tr>\n",
       "      <th>what</th>\n",
       "      <td>5515</td>\n",
       "      <td>4</td>\n",
       "      <td>0.002780</td>\n",
       "      <td>8.490636</td>\n",
       "      <td>WP</td>\n",
       "      <td>20</td>\n",
       "      <td>{FW, VBN, IN, VBP, RB, POS, NNS, WRB, WP, NN, ...</td>\n",
       "      <td>1</td>\n",
       "    </tr>\n",
       "    <tr>\n",
       "      <th>are</th>\n",
       "      <td>5549</td>\n",
       "      <td>3</td>\n",
       "      <td>0.002797</td>\n",
       "      <td>8.481769</td>\n",
       "      <td>VBP</td>\n",
       "      <td>16</td>\n",
       "      <td>{VBD, VBP, NN, MD, CD, VBN, NNP, RB, NNS, JJ, ...</td>\n",
       "      <td>1</td>\n",
       "    </tr>\n",
       "    <tr>\n",
       "      <th>re</th>\n",
       "      <td>75</td>\n",
       "      <td>2</td>\n",
       "      <td>0.000038</td>\n",
       "      <td>14.690963</td>\n",
       "      <td>NN</td>\n",
       "      <td>9</td>\n",
       "      <td>{VBP, NN, VBN, NNP, RB, NNS, JJ, VBZ, VB}</td>\n",
       "      <td>1</td>\n",
       "    </tr>\n",
       "    <tr>\n",
       "      <th>once</th>\n",
       "      <td>1308</td>\n",
       "      <td>4</td>\n",
       "      <td>0.000659</td>\n",
       "      <td>10.566635</td>\n",
       "      <td>RB</td>\n",
       "      <td>18</td>\n",
       "      <td>{WP, VBP, NN, JJR, MD, PDT, VBN, CD, FW, NNP, ...</td>\n",
       "      <td>1</td>\n",
       "    </tr>\n",
       "  </tbody>\n",
       "</table>\n",
       "</div>"
      ],
      "text/plain": [
       "              n  n_chars         p          i max_pos  n_pos  \\\n",
       "term_str                                                       \n",
       "on        10023        2  0.005053   7.628755      IN     17   \n",
       "under      1210        5  0.000610  10.678990      IN      6   \n",
       "being      3018        5  0.001521   9.360404     VBG     10   \n",
       "who        4425        3  0.002231   8.808320      WP     17   \n",
       "just       1391        4  0.000701  10.477875      RB      8   \n",
       "should     2742        6  0.001382   9.498768      MD     10   \n",
       "what       5515        4  0.002780   8.490636      WP     20   \n",
       "are        5549        3  0.002797   8.481769     VBP     16   \n",
       "re           75        2  0.000038  14.690963      NN      9   \n",
       "once       1308        4  0.000659  10.566635      RB     18   \n",
       "\n",
       "                                                    cat_pos  stop  \n",
       "term_str                                                           \n",
       "on        {VBD, RBR, VBP, NN, FW, MD, JJR, VBN, NNP, RB,...     1  \n",
       "under                            {VBP, NN, NNP, JJ, RP, IN}     1  \n",
       "being        {VBG, VBP, NN, VBN, NNP, NNS, JJ, VBZ, VB, IN}     1  \n",
       "who       {WP, VBD, VBP, NN, CD, VBN, WDT, NNP, RB, POS,...     1  \n",
       "just                    {NN, VBN, NNP, RB, NNS, JJ, VB, IN}     1  \n",
       "should       {VBD, VBP, NN, MD, VBN, NNP, NNS, JJ, VBZ, VB}     1  \n",
       "what      {FW, VBN, IN, VBP, RB, POS, NNS, WRB, WP, NN, ...     1  \n",
       "are       {VBD, VBP, NN, MD, CD, VBN, NNP, RB, NNS, JJ, ...     1  \n",
       "re                {VBP, NN, VBN, NNP, RB, NNS, JJ, VBZ, VB}     1  \n",
       "once      {WP, VBP, NN, JJR, MD, PDT, VBN, CD, FW, NNP, ...     1  "
      ]
     },
     "execution_count": 35,
     "metadata": {},
     "output_type": "execute_result"
    }
   ],
   "source": [
    "VOCAB[VOCAB.stop == 1].sample(10)"
   ]
  },
  {
   "cell_type": "markdown",
   "metadata": {},
   "source": [
    "## Interlude: Stopword Stats"
   ]
  },
  {
   "cell_type": "code",
   "execution_count": 36,
   "metadata": {},
   "outputs": [],
   "source": [
    "a = VOCAB.groupby('stop').n_chars.mean()\n",
    "b = VOCAB.groupby('stop').n_pos.mean().sort_values(ascending=False)"
   ]
  },
  {
   "cell_type": "code",
   "execution_count": 37,
   "metadata": {},
   "outputs": [
    {
     "data": {
      "text/html": [
       "<div>\n",
       "<style scoped>\n",
       "    .dataframe tbody tr th:only-of-type {\n",
       "        vertical-align: middle;\n",
       "    }\n",
       "\n",
       "    .dataframe tbody tr th {\n",
       "        vertical-align: top;\n",
       "    }\n",
       "\n",
       "    .dataframe thead th {\n",
       "        text-align: right;\n",
       "    }\n",
       "</style>\n",
       "<table border=\"1\" class=\"dataframe\">\n",
       "  <thead>\n",
       "    <tr style=\"text-align: right;\">\n",
       "      <th></th>\n",
       "      <th>n_chars</th>\n",
       "      <th>n_pos</th>\n",
       "    </tr>\n",
       "    <tr>\n",
       "      <th>stop</th>\n",
       "      <th></th>\n",
       "      <th></th>\n",
       "    </tr>\n",
       "  </thead>\n",
       "  <tbody>\n",
       "    <tr>\n",
       "      <th>0</th>\n",
       "      <td>7.867953</td>\n",
       "      <td>2.133396</td>\n",
       "    </tr>\n",
       "    <tr>\n",
       "      <th>1</th>\n",
       "      <td>3.766423</td>\n",
       "      <td>12.401460</td>\n",
       "    </tr>\n",
       "  </tbody>\n",
       "</table>\n",
       "</div>"
      ],
      "text/plain": [
       "       n_chars      n_pos\n",
       "stop                     \n",
       "0     7.867953   2.133396\n",
       "1     3.766423  12.401460"
      ]
     },
     "execution_count": 37,
     "metadata": {},
     "output_type": "execute_result"
    }
   ],
   "source": [
    "pd.concat([a,b], 1)"
   ]
  },
  {
   "cell_type": "code",
   "execution_count": 38,
   "metadata": {},
   "outputs": [
    {
     "data": {
      "image/png": "[encoded data removed]",
      "text/plain": [
       "<Figure size 432x288 with 1 Axes>"
      ]
     },
     "metadata": {
      "needs_background": "light"
     },
     "output_type": "display_data"
    }
   ],
   "source": [
    "VOCAB.groupby('n_chars').n_pos.mean()\\\n",
    "    .sort_values(ascending=False).plot(style='o');"
   ]
  },
  {
   "cell_type": "markdown",
   "metadata": {},
   "source": [
    "Curious that stopwords would have such variability."
   ]
  },
  {
   "cell_type": "code",
   "execution_count": 39,
   "metadata": {},
   "outputs": [
    {
     "data": {
      "text/html": [
       "<div>\n",
       "<style scoped>\n",
       "    .dataframe tbody tr th:only-of-type {\n",
       "        vertical-align: middle;\n",
       "    }\n",
       "\n",
       "    .dataframe tbody tr th {\n",
       "        vertical-align: top;\n",
       "    }\n",
       "\n",
       "    .dataframe thead th {\n",
       "        text-align: right;\n",
       "    }\n",
       "</style>\n",
       "<table border=\"1\" class=\"dataframe\">\n",
       "  <thead>\n",
       "    <tr style=\"text-align: right;\">\n",
       "      <th></th>\n",
       "      <th>n_pos</th>\n",
       "      <th>cat_pos</th>\n",
       "    </tr>\n",
       "    <tr>\n",
       "      <th>term_str</th>\n",
       "      <th></th>\n",
       "      <th></th>\n",
       "    </tr>\n",
       "  </thead>\n",
       "  <tbody>\n",
       "    <tr>\n",
       "      <th>you</th>\n",
       "      <td>25</td>\n",
       "      <td>{FW, PDT, VBN, UH, PRP, IN, VBP, RB, POS, NNS,...</td>\n",
       "    </tr>\n",
       "    <tr>\n",
       "      <th>now</th>\n",
       "      <td>22</td>\n",
       "      <td>{FW, PDT, VBN, PRP, IN, VBP, RB, POS, NNS, RBR...</td>\n",
       "    </tr>\n",
       "    <tr>\n",
       "      <th>me</th>\n",
       "      <td>22</td>\n",
       "      <td>{FW, PDT, VBN, PRP, IN, VBP, RBS, RB, NNS, RBR...</td>\n",
       "    </tr>\n",
       "    <tr>\n",
       "      <th>that</th>\n",
       "      <td>21</td>\n",
       "      <td>{PDT, VBN, PRP, IN, VBG, VBP, RB, NNS, EX, WP,...</td>\n",
       "    </tr>\n",
       "    <tr>\n",
       "      <th>here</th>\n",
       "      <td>21</td>\n",
       "      <td>{PDT, VBN, PRP, IN, VBP, RB, POS, NNS, EX, WRB...</td>\n",
       "    </tr>\n",
       "    <tr>\n",
       "      <th>what</th>\n",
       "      <td>20</td>\n",
       "      <td>{FW, VBN, IN, VBP, RB, POS, NNS, WRB, WP, NN, ...</td>\n",
       "    </tr>\n",
       "    <tr>\n",
       "      <th>not</th>\n",
       "      <td>20</td>\n",
       "      <td>{FW, PDT, VBN, PRP, IN, VBP, RB, NNS, NN, JJR,...</td>\n",
       "    </tr>\n",
       "    <tr>\n",
       "      <th>him</th>\n",
       "      <td>20</td>\n",
       "      <td>{FW, PDT, VBN, PRP, IN, VBG, VBP, RB, NNS, RBR...</td>\n",
       "    </tr>\n",
       "    <tr>\n",
       "      <th>there</th>\n",
       "      <td>20</td>\n",
       "      <td>{PDT, VBN, IN, VBG, VBP, RB, POS, NNS, EX, WRB...</td>\n",
       "    </tr>\n",
       "    <tr>\n",
       "      <th>but</th>\n",
       "      <td>20</td>\n",
       "      <td>{FW, PDT, VBN, PRP, IN, VBP, RB, POS, NNS, RBR...</td>\n",
       "    </tr>\n",
       "    <tr>\n",
       "      <th>this</th>\n",
       "      <td>20</td>\n",
       "      <td>{FW, PDT, VBN, PRP, IN, VBG, VBP, RB, POS, NNS...</td>\n",
       "    </tr>\n",
       "    <tr>\n",
       "      <th>more</th>\n",
       "      <td>20</td>\n",
       "      <td>{FW, PDT, VBN, PRP, IN, VBG, VBP, RB, NNS, RBR...</td>\n",
       "    </tr>\n",
       "    <tr>\n",
       "      <th>to</th>\n",
       "      <td>19</td>\n",
       "      <td>{FW, PDT, PRP, IN, VBP, RB, POS, NNS, NN, CD, ...</td>\n",
       "    </tr>\n",
       "    <tr>\n",
       "      <th>her</th>\n",
       "      <td>19</td>\n",
       "      <td>{PDT, VBN, PRP, VBG, VBP, RB, NNS, RBR, NN, JJ...</td>\n",
       "    </tr>\n",
       "    <tr>\n",
       "      <th>then</th>\n",
       "      <td>19</td>\n",
       "      <td>{FW, PDT, VBN, IN, VBP, RB, POS, NNS, EX, NN, ...</td>\n",
       "    </tr>\n",
       "    <tr>\n",
       "      <th>i</th>\n",
       "      <td>19</td>\n",
       "      <td>{FW, VBN, NNPS, PRP, IN, VBP, RB, POS, NNS, NN...</td>\n",
       "    </tr>\n",
       "    <tr>\n",
       "      <th>which</th>\n",
       "      <td>19</td>\n",
       "      <td>{FW, PDT, VBN, IN, VBP, RB, NNS, WRB, WP, NN, ...</td>\n",
       "    </tr>\n",
       "    <tr>\n",
       "      <th>it</th>\n",
       "      <td>18</td>\n",
       "      <td>{VBD, VBG, VBP, NN, FW, PDT, VBN, NNP, RB, POS...</td>\n",
       "    </tr>\n",
       "    <tr>\n",
       "      <th>so</th>\n",
       "      <td>18</td>\n",
       "      <td>{VBD, VBG, RBR, VBP, NN, JJR, CD, PDT, VBN, NN...</td>\n",
       "    </tr>\n",
       "    <tr>\n",
       "      <th>she</th>\n",
       "      <td>18</td>\n",
       "      <td>{VBD, VBP, NN, FW, PDT, VBN, RBS, NNP, RB, NNS...</td>\n",
       "    </tr>\n",
       "  </tbody>\n",
       "</table>\n",
       "</div>"
      ],
      "text/plain": [
       "          n_pos                                            cat_pos\n",
       "term_str                                                          \n",
       "you          25  {FW, PDT, VBN, UH, PRP, IN, VBP, RB, POS, NNS,...\n",
       "now          22  {FW, PDT, VBN, PRP, IN, VBP, RB, POS, NNS, RBR...\n",
       "me           22  {FW, PDT, VBN, PRP, IN, VBP, RBS, RB, NNS, RBR...\n",
       "that         21  {PDT, VBN, PRP, IN, VBG, VBP, RB, NNS, EX, WP,...\n",
       "here         21  {PDT, VBN, PRP, IN, VBP, RB, POS, NNS, EX, WRB...\n",
       "what         20  {FW, VBN, IN, VBP, RB, POS, NNS, WRB, WP, NN, ...\n",
       "not          20  {FW, PDT, VBN, PRP, IN, VBP, RB, NNS, NN, JJR,...\n",
       "him          20  {FW, PDT, VBN, PRP, IN, VBG, VBP, RB, NNS, RBR...\n",
       "there        20  {PDT, VBN, IN, VBG, VBP, RB, POS, NNS, EX, WRB...\n",
       "but          20  {FW, PDT, VBN, PRP, IN, VBP, RB, POS, NNS, RBR...\n",
       "this         20  {FW, PDT, VBN, PRP, IN, VBG, VBP, RB, POS, NNS...\n",
       "more         20  {FW, PDT, VBN, PRP, IN, VBG, VBP, RB, NNS, RBR...\n",
       "to           19  {FW, PDT, PRP, IN, VBP, RB, POS, NNS, NN, CD, ...\n",
       "her          19  {PDT, VBN, PRP, VBG, VBP, RB, NNS, RBR, NN, JJ...\n",
       "then         19  {FW, PDT, VBN, IN, VBP, RB, POS, NNS, EX, NN, ...\n",
       "i            19  {FW, VBN, NNPS, PRP, IN, VBP, RB, POS, NNS, NN...\n",
       "which        19  {FW, PDT, VBN, IN, VBP, RB, NNS, WRB, WP, NN, ...\n",
       "it           18  {VBD, VBG, VBP, NN, FW, PDT, VBN, NNP, RB, POS...\n",
       "so           18  {VBD, VBG, RBR, VBP, NN, JJR, CD, PDT, VBN, NN...\n",
       "she          18  {VBD, VBP, NN, FW, PDT, VBN, RBS, NNP, RB, NNS..."
      ]
     },
     "execution_count": 39,
     "metadata": {},
     "output_type": "execute_result"
    }
   ],
   "source": [
    "VOCAB[VOCAB.stop == True].sort_values('n_pos', ascending=False)[['n_pos','cat_pos']].head(20)"
   ]
  },
  {
   "cell_type": "markdown",
   "metadata": {},
   "source": [
    "Anyway . . ."
   ]
  },
  {
   "cell_type": "markdown",
   "metadata": {
    "colab_type": "text",
    "id": "bDSH9L2TXGzH"
   },
   "source": [
    "## Add Stems"
   ]
  },
  {
   "cell_type": "code",
   "execution_count": 40,
   "metadata": {
    "colab": {},
    "colab_type": "code",
    "id": "mE_YGklKXSYn"
   },
   "outputs": [],
   "source": [
    "from nltk.stem.porter import PorterStemmer\n",
    "stemmer1 = PorterStemmer()\n",
    "VOCAB['stem_porter'] = VOCAB.apply(lambda x: stemmer1.stem(x.name), 1)\n",
    "\n",
    "from nltk.stem.snowball import SnowballStemmer\n",
    "stemmer2 = SnowballStemmer(\"english\")\n",
    "VOCAB['stem_snowball'] = VOCAB.apply(lambda x: stemmer2.stem(x.name), 1)\n",
    "\n",
    "from nltk.stem.lancaster import LancasterStemmer\n",
    "stemmer3 = LancasterStemmer()\n",
    "VOCAB['stem_lancaster'] = VOCAB.apply(lambda x: stemmer3.stem(x.name), 1)"
   ]
  },
  {
   "cell_type": "code",
   "execution_count": 41,
   "metadata": {
    "colab": {
     "base_uri": "https://localhost:8080/",
     "height": 375
    },
    "colab_type": "code",
    "id": "dY__Bq0yXqbj",
    "outputId": "eddcdafe-e378-4f7b-ac6b-1fc41ef64fbb"
   },
   "outputs": [
    {
     "data": {
      "text/html": [
       "<div>\n",
       "<style scoped>\n",
       "    .dataframe tbody tr th:only-of-type {\n",
       "        vertical-align: middle;\n",
       "    }\n",
       "\n",
       "    .dataframe tbody tr th {\n",
       "        vertical-align: top;\n",
       "    }\n",
       "\n",
       "    .dataframe thead th {\n",
       "        text-align: right;\n",
       "    }\n",
       "</style>\n",
       "<table border=\"1\" class=\"dataframe\">\n",
       "  <thead>\n",
       "    <tr style=\"text-align: right;\">\n",
       "      <th></th>\n",
       "      <th>n</th>\n",
       "      <th>n_chars</th>\n",
       "      <th>p</th>\n",
       "      <th>i</th>\n",
       "      <th>max_pos</th>\n",
       "      <th>n_pos</th>\n",
       "      <th>cat_pos</th>\n",
       "      <th>stop</th>\n",
       "      <th>stem_porter</th>\n",
       "      <th>stem_snowball</th>\n",
       "      <th>stem_lancaster</th>\n",
       "    </tr>\n",
       "    <tr>\n",
       "      <th>term_str</th>\n",
       "      <th></th>\n",
       "      <th></th>\n",
       "      <th></th>\n",
       "      <th></th>\n",
       "      <th></th>\n",
       "      <th></th>\n",
       "      <th></th>\n",
       "      <th></th>\n",
       "      <th></th>\n",
       "      <th></th>\n",
       "      <th></th>\n",
       "    </tr>\n",
       "  </thead>\n",
       "  <tbody>\n",
       "    <tr>\n",
       "      <th>abolitionist</th>\n",
       "      <td>3</td>\n",
       "      <td>12</td>\n",
       "      <td>1.512306e-06</td>\n",
       "      <td>19.334819</td>\n",
       "      <td>JJ</td>\n",
       "      <td>2</td>\n",
       "      <td>{NN, JJ}</td>\n",
       "      <td>0</td>\n",
       "      <td>abolitionist</td>\n",
       "      <td>abolitionist</td>\n",
       "      <td>abolit</td>\n",
       "    </tr>\n",
       "    <tr>\n",
       "      <th>scibbee</th>\n",
       "      <td>1</td>\n",
       "      <td>7</td>\n",
       "      <td>5.041019e-07</td>\n",
       "      <td>20.919781</td>\n",
       "      <td>VB</td>\n",
       "      <td>1</td>\n",
       "      <td>{VB}</td>\n",
       "      <td>0</td>\n",
       "      <td>scibbe</td>\n",
       "      <td>scibbe</td>\n",
       "      <td>scib</td>\n",
       "    </tr>\n",
       "    <tr>\n",
       "      <th>renew</th>\n",
       "      <td>9</td>\n",
       "      <td>5</td>\n",
       "      <td>4.536917e-06</td>\n",
       "      <td>17.749856</td>\n",
       "      <td>VB</td>\n",
       "      <td>1</td>\n",
       "      <td>{VB}</td>\n",
       "      <td>0</td>\n",
       "      <td>renew</td>\n",
       "      <td>renew</td>\n",
       "      <td>renew</td>\n",
       "    </tr>\n",
       "    <tr>\n",
       "      <th>waterward</th>\n",
       "      <td>2</td>\n",
       "      <td>9</td>\n",
       "      <td>1.008204e-06</td>\n",
       "      <td>19.919781</td>\n",
       "      <td>VBP</td>\n",
       "      <td>2</td>\n",
       "      <td>{NN, VBP}</td>\n",
       "      <td>0</td>\n",
       "      <td>waterward</td>\n",
       "      <td>waterward</td>\n",
       "      <td>waterward</td>\n",
       "    </tr>\n",
       "    <tr>\n",
       "      <th>fidelities</th>\n",
       "      <td>1</td>\n",
       "      <td>10</td>\n",
       "      <td>5.041019e-07</td>\n",
       "      <td>20.919781</td>\n",
       "      <td>JJ</td>\n",
       "      <td>1</td>\n",
       "      <td>{JJ}</td>\n",
       "      <td>0</td>\n",
       "      <td>fidel</td>\n",
       "      <td>fidel</td>\n",
       "      <td>fidel</td>\n",
       "    </tr>\n",
       "    <tr>\n",
       "      <th>circumlucencies</th>\n",
       "      <td>1</td>\n",
       "      <td>15</td>\n",
       "      <td>5.041019e-07</td>\n",
       "      <td>20.919781</td>\n",
       "      <td>NN</td>\n",
       "      <td>1</td>\n",
       "      <td>{NN}</td>\n",
       "      <td>0</td>\n",
       "      <td>circumluc</td>\n",
       "      <td>circumluc</td>\n",
       "      <td>circumluc</td>\n",
       "    </tr>\n",
       "    <tr>\n",
       "      <th>respondent</th>\n",
       "      <td>1</td>\n",
       "      <td>10</td>\n",
       "      <td>5.041019e-07</td>\n",
       "      <td>20.919781</td>\n",
       "      <td>NN</td>\n",
       "      <td>1</td>\n",
       "      <td>{NN}</td>\n",
       "      <td>0</td>\n",
       "      <td>respond</td>\n",
       "      <td>respond</td>\n",
       "      <td>respond</td>\n",
       "    </tr>\n",
       "    <tr>\n",
       "      <th>sergeant</th>\n",
       "      <td>6</td>\n",
       "      <td>8</td>\n",
       "      <td>3.024611e-06</td>\n",
       "      <td>18.334819</td>\n",
       "      <td>NNP</td>\n",
       "      <td>2</td>\n",
       "      <td>{NN, NNP}</td>\n",
       "      <td>0</td>\n",
       "      <td>sergeant</td>\n",
       "      <td>sergeant</td>\n",
       "      <td>serg</td>\n",
       "    </tr>\n",
       "    <tr>\n",
       "      <th>feather</th>\n",
       "      <td>18</td>\n",
       "      <td>7</td>\n",
       "      <td>9.073834e-06</td>\n",
       "      <td>16.749856</td>\n",
       "      <td>NN</td>\n",
       "      <td>3</td>\n",
       "      <td>{NN, NNS, CC}</td>\n",
       "      <td>0</td>\n",
       "      <td>feather</td>\n",
       "      <td>feather</td>\n",
       "      <td>feath</td>\n",
       "    </tr>\n",
       "    <tr>\n",
       "      <th>screwing</th>\n",
       "      <td>9</td>\n",
       "      <td>8</td>\n",
       "      <td>4.536917e-06</td>\n",
       "      <td>17.749856</td>\n",
       "      <td>VBG</td>\n",
       "      <td>2</td>\n",
       "      <td>{NN, VBG}</td>\n",
       "      <td>0</td>\n",
       "      <td>screw</td>\n",
       "      <td>screw</td>\n",
       "      <td>screwing</td>\n",
       "    </tr>\n",
       "  </tbody>\n",
       "</table>\n",
       "</div>"
      ],
      "text/plain": [
       "                  n  n_chars             p          i max_pos  n_pos  \\\n",
       "term_str                                                               \n",
       "abolitionist      3       12  1.512306e-06  19.334819      JJ      2   \n",
       "scibbee           1        7  5.041019e-07  20.919781      VB      1   \n",
       "renew             9        5  4.536917e-06  17.749856      VB      1   \n",
       "waterward         2        9  1.008204e-06  19.919781     VBP      2   \n",
       "fidelities        1       10  5.041019e-07  20.919781      JJ      1   \n",
       "circumlucencies   1       15  5.041019e-07  20.919781      NN      1   \n",
       "respondent        1       10  5.041019e-07  20.919781      NN      1   \n",
       "sergeant          6        8  3.024611e-06  18.334819     NNP      2   \n",
       "feather          18        7  9.073834e-06  16.749856      NN      3   \n",
       "screwing          9        8  4.536917e-06  17.749856     VBG      2   \n",
       "\n",
       "                       cat_pos  stop   stem_porter stem_snowball  \\\n",
       "term_str                                                           \n",
       "abolitionist          {NN, JJ}     0  abolitionist  abolitionist   \n",
       "scibbee                   {VB}     0        scibbe        scibbe   \n",
       "renew                     {VB}     0         renew         renew   \n",
       "waterward            {NN, VBP}     0     waterward     waterward   \n",
       "fidelities                {JJ}     0         fidel         fidel   \n",
       "circumlucencies           {NN}     0     circumluc     circumluc   \n",
       "respondent                {NN}     0       respond       respond   \n",
       "sergeant             {NN, NNP}     0      sergeant      sergeant   \n",
       "feather          {NN, NNS, CC}     0       feather       feather   \n",
       "screwing             {NN, VBG}     0         screw         screw   \n",
       "\n",
       "                stem_lancaster  \n",
       "term_str                        \n",
       "abolitionist            abolit  \n",
       "scibbee                   scib  \n",
       "renew                    renew  \n",
       "waterward            waterward  \n",
       "fidelities               fidel  \n",
       "circumlucencies      circumluc  \n",
       "respondent             respond  \n",
       "sergeant                  serg  \n",
       "feather                  feath  \n",
       "screwing              screwing  "
      ]
     },
     "execution_count": 41,
     "metadata": {},
     "output_type": "execute_result"
    }
   ],
   "source": [
    "VOCAB.sample(10)"
   ]
  },
  {
   "cell_type": "code",
   "execution_count": 42,
   "metadata": {
    "colab": {
     "base_uri": "https://localhost:8080/",
     "height": 375
    },
    "colab_type": "code",
    "id": "dY__Bq0yXqbj",
    "outputId": "eddcdafe-e378-4f7b-ac6b-1fc41ef64fbb"
   },
   "outputs": [
    {
     "data": {
      "text/html": [
       "<div>\n",
       "<style scoped>\n",
       "    .dataframe tbody tr th:only-of-type {\n",
       "        vertical-align: middle;\n",
       "    }\n",
       "\n",
       "    .dataframe tbody tr th {\n",
       "        vertical-align: top;\n",
       "    }\n",
       "\n",
       "    .dataframe thead th {\n",
       "        text-align: right;\n",
       "    }\n",
       "</style>\n",
       "<table border=\"1\" class=\"dataframe\">\n",
       "  <thead>\n",
       "    <tr style=\"text-align: right;\">\n",
       "      <th></th>\n",
       "      <th>n</th>\n",
       "      <th>n_chars</th>\n",
       "      <th>p</th>\n",
       "      <th>i</th>\n",
       "      <th>max_pos</th>\n",
       "      <th>n_pos</th>\n",
       "      <th>cat_pos</th>\n",
       "      <th>stop</th>\n",
       "      <th>stem_porter</th>\n",
       "      <th>stem_snowball</th>\n",
       "      <th>stem_lancaster</th>\n",
       "    </tr>\n",
       "    <tr>\n",
       "      <th>term_str</th>\n",
       "      <th></th>\n",
       "      <th></th>\n",
       "      <th></th>\n",
       "      <th></th>\n",
       "      <th></th>\n",
       "      <th></th>\n",
       "      <th></th>\n",
       "      <th></th>\n",
       "      <th></th>\n",
       "      <th></th>\n",
       "      <th></th>\n",
       "    </tr>\n",
       "  </thead>\n",
       "  <tbody>\n",
       "    <tr>\n",
       "      <th>abandonedly</th>\n",
       "      <td>2</td>\n",
       "      <td>11</td>\n",
       "      <td>1.008204e-06</td>\n",
       "      <td>19.919781</td>\n",
       "      <td>RB</td>\n",
       "      <td>1</td>\n",
       "      <td>{RB}</td>\n",
       "      <td>0</td>\n",
       "      <td>abandonedli</td>\n",
       "      <td>abandon</td>\n",
       "      <td>abandon</td>\n",
       "    </tr>\n",
       "    <tr>\n",
       "      <th>abhorringly</th>\n",
       "      <td>1</td>\n",
       "      <td>11</td>\n",
       "      <td>5.041019e-07</td>\n",
       "      <td>20.919781</td>\n",
       "      <td>RB</td>\n",
       "      <td>1</td>\n",
       "      <td>{RB}</td>\n",
       "      <td>0</td>\n",
       "      <td>abhorringli</td>\n",
       "      <td>abhor</td>\n",
       "      <td>abhor</td>\n",
       "    </tr>\n",
       "    <tr>\n",
       "      <th>abjectly</th>\n",
       "      <td>2</td>\n",
       "      <td>8</td>\n",
       "      <td>1.008204e-06</td>\n",
       "      <td>19.919781</td>\n",
       "      <td>RB</td>\n",
       "      <td>1</td>\n",
       "      <td>{RB}</td>\n",
       "      <td>0</td>\n",
       "      <td>abjectli</td>\n",
       "      <td>abject</td>\n",
       "      <td>abject</td>\n",
       "    </tr>\n",
       "    <tr>\n",
       "      <th>abjectus</th>\n",
       "      <td>1</td>\n",
       "      <td>8</td>\n",
       "      <td>5.041019e-07</td>\n",
       "      <td>20.919781</td>\n",
       "      <td>NNP</td>\n",
       "      <td>1</td>\n",
       "      <td>{NNP}</td>\n",
       "      <td>0</td>\n",
       "      <td>abjectu</td>\n",
       "      <td>abjectus</td>\n",
       "      <td>abject</td>\n",
       "    </tr>\n",
       "    <tr>\n",
       "      <th>aboundingly</th>\n",
       "      <td>1</td>\n",
       "      <td>11</td>\n",
       "      <td>5.041019e-07</td>\n",
       "      <td>20.919781</td>\n",
       "      <td>RB</td>\n",
       "      <td>1</td>\n",
       "      <td>{RB}</td>\n",
       "      <td>0</td>\n",
       "      <td>aboundingli</td>\n",
       "      <td>abound</td>\n",
       "      <td>abound</td>\n",
       "    </tr>\n",
       "    <tr>\n",
       "      <th>...</th>\n",
       "      <td>...</td>\n",
       "      <td>...</td>\n",
       "      <td>...</td>\n",
       "      <td>...</td>\n",
       "      <td>...</td>\n",
       "      <td>...</td>\n",
       "      <td>...</td>\n",
       "      <td>...</td>\n",
       "      <td>...</td>\n",
       "      <td>...</td>\n",
       "      <td>...</td>\n",
       "    </tr>\n",
       "    <tr>\n",
       "      <th>yes</th>\n",
       "      <td>915</td>\n",
       "      <td>3</td>\n",
       "      <td>4.612532e-04</td>\n",
       "      <td>11.082153</td>\n",
       "      <td>NN</td>\n",
       "      <td>20</td>\n",
       "      <td>{FW, VBN, UH, PRP, IN, VBP, RB, POS, NNS, NN, ...</td>\n",
       "      <td>0</td>\n",
       "      <td>ye</td>\n",
       "      <td>yes</td>\n",
       "      <td>ye</td>\n",
       "    </tr>\n",
       "    <tr>\n",
       "      <th>yous</th>\n",
       "      <td>1</td>\n",
       "      <td>4</td>\n",
       "      <td>5.041019e-07</td>\n",
       "      <td>20.919781</td>\n",
       "      <td>NN</td>\n",
       "      <td>1</td>\n",
       "      <td>{NN}</td>\n",
       "      <td>0</td>\n",
       "      <td>you</td>\n",
       "      <td>yous</td>\n",
       "      <td>yo</td>\n",
       "    </tr>\n",
       "    <tr>\n",
       "      <th>yrs</th>\n",
       "      <td>4</td>\n",
       "      <td>3</td>\n",
       "      <td>2.016408e-06</td>\n",
       "      <td>18.919781</td>\n",
       "      <td>NNP</td>\n",
       "      <td>2</td>\n",
       "      <td>{NN, NNP}</td>\n",
       "      <td>0</td>\n",
       "      <td>yr</td>\n",
       "      <td>yrs</td>\n",
       "      <td>yr</td>\n",
       "    </tr>\n",
       "    <tr>\n",
       "      <th>zadockprattsville</th>\n",
       "      <td>2</td>\n",
       "      <td>17</td>\n",
       "      <td>1.008204e-06</td>\n",
       "      <td>19.919781</td>\n",
       "      <td>NNP</td>\n",
       "      <td>1</td>\n",
       "      <td>{NNP}</td>\n",
       "      <td>0</td>\n",
       "      <td>zadockprattsvil</td>\n",
       "      <td>zadockprattsvill</td>\n",
       "      <td>zadockprattsvil</td>\n",
       "    </tr>\n",
       "    <tr>\n",
       "      <th>zealous</th>\n",
       "      <td>12</td>\n",
       "      <td>7</td>\n",
       "      <td>6.049223e-06</td>\n",
       "      <td>17.334819</td>\n",
       "      <td>JJ</td>\n",
       "      <td>1</td>\n",
       "      <td>{JJ}</td>\n",
       "      <td>0</td>\n",
       "      <td>zealou</td>\n",
       "      <td>zealous</td>\n",
       "      <td>zeal</td>\n",
       "    </tr>\n",
       "  </tbody>\n",
       "</table>\n",
       "<p>1224 rows × 11 columns</p>\n",
       "</div>"
      ],
      "text/plain": [
       "                     n  n_chars             p          i max_pos  n_pos  \\\n",
       "term_str                                                                  \n",
       "abandonedly          2       11  1.008204e-06  19.919781      RB      1   \n",
       "abhorringly          1       11  5.041019e-07  20.919781      RB      1   \n",
       "abjectly             2        8  1.008204e-06  19.919781      RB      1   \n",
       "abjectus             1        8  5.041019e-07  20.919781     NNP      1   \n",
       "aboundingly          1       11  5.041019e-07  20.919781      RB      1   \n",
       "...                ...      ...           ...        ...     ...    ...   \n",
       "yes                915        3  4.612532e-04  11.082153      NN     20   \n",
       "yous                 1        4  5.041019e-07  20.919781      NN      1   \n",
       "yrs                  4        3  2.016408e-06  18.919781     NNP      2   \n",
       "zadockprattsville    2       17  1.008204e-06  19.919781     NNP      1   \n",
       "zealous             12        7  6.049223e-06  17.334819      JJ      1   \n",
       "\n",
       "                                                             cat_pos  stop  \\\n",
       "term_str                                                                     \n",
       "abandonedly                                                     {RB}     0   \n",
       "abhorringly                                                     {RB}     0   \n",
       "abjectly                                                        {RB}     0   \n",
       "abjectus                                                       {NNP}     0   \n",
       "aboundingly                                                     {RB}     0   \n",
       "...                                                              ...   ...   \n",
       "yes                {FW, VBN, UH, PRP, IN, VBP, RB, POS, NNS, NN, ...     0   \n",
       "yous                                                            {NN}     0   \n",
       "yrs                                                        {NN, NNP}     0   \n",
       "zadockprattsville                                              {NNP}     0   \n",
       "zealous                                                         {JJ}     0   \n",
       "\n",
       "                       stem_porter     stem_snowball   stem_lancaster  \n",
       "term_str                                                               \n",
       "abandonedly            abandonedli           abandon          abandon  \n",
       "abhorringly            abhorringli             abhor            abhor  \n",
       "abjectly                  abjectli            abject           abject  \n",
       "abjectus                   abjectu          abjectus           abject  \n",
       "aboundingly            aboundingli            abound           abound  \n",
       "...                            ...               ...              ...  \n",
       "yes                             ye               yes               ye  \n",
       "yous                           you              yous               yo  \n",
       "yrs                             yr               yrs               yr  \n",
       "zadockprattsville  zadockprattsvil  zadockprattsvill  zadockprattsvil  \n",
       "zealous                     zealou           zealous             zeal  \n",
       "\n",
       "[1224 rows x 11 columns]"
      ]
     },
     "execution_count": 42,
     "metadata": {},
     "output_type": "execute_result"
    }
   ],
   "source": [
    "VOCAB[VOCAB.stem_porter != VOCAB.stem_snowball]"
   ]
  },
  {
   "cell_type": "markdown",
   "metadata": {},
   "source": [
    "## Save"
   ]
  },
  {
   "cell_type": "code",
   "execution_count": 43,
   "metadata": {},
   "outputs": [],
   "source": [
    "out_path = f'{data_home}/output/{data_prefix}'"
   ]
  },
  {
   "cell_type": "code",
   "execution_count": 44,
   "metadata": {},
   "outputs": [],
   "source": [
    "LIB.to_csv(f'{out_path}-LIB.csv')\n",
    "VOCAB.to_csv(f'{out_path}-VOCAB.csv')\n",
    "CORPUS.to_csv(f'{out_path}-CORPUS.csv')"
   ]
  }
 ],
 "metadata": {
  "colab": {
   "collapsed_sections": [],
   "name": "DS5559_Annotations.ipynb",
   "provenance": [],
   "toc_visible": true,
   "version": "0.3.2"
  },
  "kernelspec": {
   "display_name": "Python 3",
   "language": "python",
   "name": "python3"
  },
  "language_info": {
   "codemirror_mode": {
    "name": "ipython",
    "version": 3
   },
   "file_extension": ".py",
   "mimetype": "text/x-python",
   "name": "python",
   "nbconvert_exporter": "python",
   "pygments_lexer": "ipython3",
   "version": "3.8.3"
  },
  "latex_envs": {
   "LaTeX_envs_menu_present": true,
   "autoclose": false,
   "autocomplete": true,
   "bibliofile": "biblio.bib",
   "cite_by": "apalike",
   "current_citInitial": 1,
   "eqLabelWithNumbers": true,
   "eqNumInitial": 1,
   "hotkeys": {
    "equation": "Ctrl-E",
    "itemize": "Ctrl-I"
   },
   "labels_anchors": false,
   "latex_user_defs": false,
   "report_style_numbering": false,
   "user_envs_cfg": false
  },
  "toc": {
   "base_numbering": 1,
   "nav_menu": {},
   "number_sections": true,
   "sideBar": true,
   "skip_h1_title": true,
   "title_cell": "Table of Contents",
   "title_sidebar": "Contents",
   "toc_cell": false,
   "toc_position": {},
   "toc_section_display": true,
   "toc_window_display": true
  },
  "varInspector": {
   "cols": {
    "lenName": 16,
    "lenType": 16,
    "lenVar": 40
   },
   "kernels_config": {
    "python": {
     "delete_cmd_postfix": "",
     "delete_cmd_prefix": "del ",
     "library": "var_list.py",
     "varRefreshCmd": "print(var_dic_list())"
    },
    "r": {
     "delete_cmd_postfix": ") ",
     "delete_cmd_prefix": "rm(",
     "library": "var_list.r",
     "varRefreshCmd": "cat(var_dic_list()) "
    }
   },
   "types_to_exclude": [
    "module",
    "function",
    "builtin_function_or_method",
    "instance",
    "_Feature"
   ],
   "window_display": false
  },
  "widgets": {
   "application/vnd.jupyter.widget-state+json": {
    "state": {},
    "version_major": 2,
    "version_minor": 0
   }
  }
 },
 "nbformat": 4,
 "nbformat_minor": 4
}
