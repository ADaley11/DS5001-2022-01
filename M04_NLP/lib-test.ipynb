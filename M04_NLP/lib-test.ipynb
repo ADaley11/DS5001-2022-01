{
 "cells": [
  {
   "cell_type": "code",
   "execution_count": 1,
   "id": "28bd2ed2-6293-48c1-8152-28e1f0fc46a0",
   "metadata": {},
   "outputs": [],
   "source": [
    "import sys\n",
    "sys.path.append(\"../lib/\")\n",
    "from textimporter1_1 import TextImporter as TI"
   ]
  },
  {
   "cell_type": "code",
   "execution_count": 2,
   "id": "f97f368d-4ce5-49e4-bed4-06740eaba833",
   "metadata": {},
   "outputs": [],
   "source": [
    "import pandas as pd\n",
    "import matplotlib.pyplot as plt"
   ]
  },
  {
   "cell_type": "code",
   "execution_count": 8,
   "id": "fd3d29f3-d5bc-418b-9674-8587e0022846",
   "metadata": {},
   "outputs": [],
   "source": [
    "data_home = \"../data\"\n",
    "text_file = f\"{data_home}/gutenberg/pg105.txt\"\n",
    "OHCO = ['chap_num', 'para_num', 'sent_num', 'token_num']\n",
    "clip_pats = [\n",
    "    r\"\\*\\*\\*\\s*START OF (?:THE|THIS) PROJECT\", \n",
    "    r\"\\*\\*\\*\\s*END OF (?:THE|THIS) PROJECT\"\n",
    "]\n",
    "chap_pat = r\"^\\s*(?:chapter|letter)\\s+\\d+\""
   ]
  },
  {
   "cell_type": "code",
   "execution_count": 9,
   "id": "35f0bc00-5f14-4fd4-97fb-d2d0954fc8f0",
   "metadata": {},
   "outputs": [],
   "source": [
    "pg105 = TI(src_file=text_file, ohco_pats=[('chap', chap_pat, 'm')], \n",
    "           clip_pats=clip_pats, use_nltk=True)\n",
    "pg105.strip_hyphens = True\n",
    "pg105.strip_whitespace = True"
   ]
  },
  {
   "cell_type": "code",
   "execution_count": 10,
   "id": "451cef6d-d2c5-4c04-af65-35a87335dee0",
   "metadata": {},
   "outputs": [],
   "source": [
    "try:\n",
    "    pg105.import_source();\n",
    "except ValueError as e:\n",
    "    print(e)\n",
    "\n",
    "try:\n",
    "    pg105.parse_tokens();\n",
    "except ValueError as e:\n",
    "    print(e)\n",
    "     \n",
    "pg105.extract_vocab();"
   ]
  },
  {
   "cell_type": "code",
   "execution_count": null,
   "id": "8be050c1-ad4a-46e1-9688-c3e5e0ea09eb",
   "metadata": {},
   "outputs": [],
   "source": [
    "pg105.TOKENS"
   ]
  },
  {
   "cell_type": "code",
   "execution_count": null,
   "id": "146b8bec-7561-466a-bfae-a850d20ff89e",
   "metadata": {},
   "outputs": [],
   "source": [
    "pg105.VOCAB.query(\"n_chars >= 16\")"
   ]
  },
  {
   "cell_type": "code",
   "execution_count": null,
   "id": "841e18e9-b224-4a8e-b9ac-b8f15aa0f486",
   "metadata": {},
   "outputs": [],
   "source": [
    "VC = pg105.VOCAB.value_counts('n_chars').to_frame('n_types')\n",
    "VC['n_tokens'] = pg105.VOCAB.groupby('n_chars').n.sum()\n",
    "VC['i_tokens_mean'] = pg105.VOCAB.groupby('n_chars').i.mean()\n",
    "VC['i_tokens_sum'] = pg105.VOCAB.groupby('n_chars').i.sum()\n",
    "VC['i_tokens_std'] = pg105.VOCAB.groupby('n_chars').i.std()\n",
    "VC['i_tokens_q'] = VC.i_tokens_mean / VC.i_tokens_std\n",
    "VC = VC.sort_index()"
   ]
  },
  {
   "cell_type": "code",
   "execution_count": null,
   "id": "e64b0949-662f-4cfe-8624-562d94b1996d",
   "metadata": {},
   "outputs": [],
   "source": [
    "pg105.VOCAB.plot('n_chars', 'i', style='o');"
   ]
  },
  {
   "cell_type": "code",
   "execution_count": null,
   "id": "1278a7a4-1cb9-46c6-a746-a8b6ff18deb1",
   "metadata": {},
   "outputs": [],
   "source": [
    "VC.plot(subplots=True, figsize=(5, 20), rot=0);"
   ]
  },
  {
   "cell_type": "code",
   "execution_count": null,
   "id": "d542be64-78ff-4df3-8099-00306feadfce",
   "metadata": {},
   "outputs": [],
   "source": []
  }
 ],
 "metadata": {
  "kernelspec": {
   "display_name": "eta",
   "language": "python",
   "name": "eta"
  },
  "language_info": {
   "codemirror_mode": {
    "name": "ipython",
    "version": 3
   },
   "file_extension": ".py",
   "mimetype": "text/x-python",
   "name": "python",
   "nbconvert_exporter": "python",
   "pygments_lexer": "ipython3",
   "version": "3.8.3"
  },
  "widgets": {
   "application/vnd.jupyter.widget-state+json": {
    "state": {},
    "version_major": 2,
    "version_minor": 0
   }
  }
 },
 "nbformat": 4,
 "nbformat_minor": 5
}
