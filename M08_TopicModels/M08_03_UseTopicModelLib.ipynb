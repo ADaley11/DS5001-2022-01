{
 "cells": [
  {
   "cell_type": "markdown",
   "id": "8ffa8ecb-4ec6-4503-96dd-76ddd2c508d0",
   "metadata": {},
   "source": [
    "# Metadata\n",
    "\n",
    "```\n",
    "Course:   DS 5001\n",
    "Module:   08 Lab\n",
    "Topic:    Topic Modeling Class\n",
    "Author:   R.C. Alvarado\n",
    "```"
   ]
  },
  {
   "cell_type": "markdown",
   "id": "661eb4ce-f077-40dd-82c6-f7287809942a",
   "metadata": {},
   "source": [
    "# Set Up"
   ]
  },
  {
   "cell_type": "code",
   "execution_count": 2,
   "id": "d5f574cf-2b6c-4f49-a7b7-8568dfc3cb07",
   "metadata": {},
   "outputs": [],
   "source": [
    "data_home = \"../data\"\n",
    "local_lib = \"../lib\""
   ]
  },
  {
   "cell_type": "code",
   "execution_count": 3,
   "id": "7bcf3a74-8d76-4160-852c-f0c96cf12b94",
   "metadata": {},
   "outputs": [],
   "source": [
    "import pandas as pd\n",
    "import numpy as np\n",
    "import sys; sys.path.append(local_lib)"
   ]
  },
  {
   "cell_type": "code",
   "execution_count": 4,
   "id": "71c43044-1526-4f05-b0d6-af0451224aa7",
   "metadata": {},
   "outputs": [],
   "source": [
    "from topicmodel import TopicModel"
   ]
  },
  {
   "cell_type": "markdown",
   "id": "72abadf2-3352-4e7c-ae64-d1d8554cd6ae",
   "metadata": {},
   "source": [
    "# Get Data"
   ]
  },
  {
   "cell_type": "code",
   "execution_count": 5,
   "id": "6ad5bd20-8ec1-4549-b0c5-02f664eabe0d",
   "metadata": {},
   "outputs": [],
   "source": [
    "BOW = pd.read_csv(f\"{data_home}/output/airbnb-uk-nouns.csv\").set_index(['doc_id','term_str'])"
   ]
  },
  {
   "cell_type": "code",
   "execution_count": 6,
   "id": "26195660-dc39-415a-82a0-b7fc35e319fa",
   "metadata": {},
   "outputs": [
    {
     "data": {
      "text/html": [
       "<div>\n",
       "<style scoped>\n",
       "    .dataframe tbody tr th:only-of-type {\n",
       "        vertical-align: middle;\n",
       "    }\n",
       "\n",
       "    .dataframe tbody tr th {\n",
       "        vertical-align: top;\n",
       "    }\n",
       "\n",
       "    .dataframe thead th {\n",
       "        text-align: right;\n",
       "    }\n",
       "</style>\n",
       "<table border=\"1\" class=\"dataframe\">\n",
       "  <thead>\n",
       "    <tr style=\"text-align: right;\">\n",
       "      <th></th>\n",
       "      <th></th>\n",
       "      <th>n</th>\n",
       "    </tr>\n",
       "    <tr>\n",
       "      <th>doc_id</th>\n",
       "      <th>term_str</th>\n",
       "      <th></th>\n",
       "    </tr>\n",
       "  </thead>\n",
       "  <tbody>\n",
       "    <tr>\n",
       "      <th rowspan=\"5\" valign=\"top\">0</th>\n",
       "      <th>advice</th>\n",
       "      <td>1</td>\n",
       "    </tr>\n",
       "    <tr>\n",
       "      <th>amenity</th>\n",
       "      <td>1</td>\n",
       "    </tr>\n",
       "    <tr>\n",
       "      <th>apartment</th>\n",
       "      <td>1</td>\n",
       "    </tr>\n",
       "    <tr>\n",
       "      <th>bar</th>\n",
       "      <td>1</td>\n",
       "    </tr>\n",
       "    <tr>\n",
       "      <th>bedroom</th>\n",
       "      <td>1</td>\n",
       "    </tr>\n",
       "    <tr>\n",
       "      <th>...</th>\n",
       "      <th>...</th>\n",
       "      <td>...</td>\n",
       "    </tr>\n",
       "    <tr>\n",
       "      <th rowspan=\"5\" valign=\"top\">17368</th>\n",
       "      <th>sight</th>\n",
       "      <td>1</td>\n",
       "    </tr>\n",
       "    <tr>\n",
       "      <th>space</th>\n",
       "      <td>1</td>\n",
       "    </tr>\n",
       "    <tr>\n",
       "      <th>station</th>\n",
       "      <td>1</td>\n",
       "    </tr>\n",
       "    <tr>\n",
       "      <th>transport</th>\n",
       "      <td>1</td>\n",
       "    </tr>\n",
       "    <tr>\n",
       "      <th>walk</th>\n",
       "      <td>2</td>\n",
       "    </tr>\n",
       "  </tbody>\n",
       "</table>\n",
       "<p>543065 rows × 1 columns</p>\n",
       "</div>"
      ],
      "text/plain": [
       "                  n\n",
       "doc_id term_str    \n",
       "0      advice     1\n",
       "       amenity    1\n",
       "       apartment  1\n",
       "       bar        1\n",
       "       bedroom    1\n",
       "...              ..\n",
       "17368  sight      1\n",
       "       space      1\n",
       "       station    1\n",
       "       transport  1\n",
       "       walk       2\n",
       "\n",
       "[543065 rows x 1 columns]"
      ]
     },
     "execution_count": 6,
     "metadata": {},
     "output_type": "execute_result"
    }
   ],
   "source": [
    "BOW"
   ]
  },
  {
   "cell_type": "markdown",
   "id": "88cbf40e-4747-44aa-874e-ecc41a6775ba",
   "metadata": {},
   "source": [
    "# Generate Topic Model"
   ]
  },
  {
   "cell_type": "code",
   "execution_count": null,
   "id": "906f475c-e010-40ca-8228-3e83f158d06e",
   "metadata": {},
   "outputs": [],
   "source": [
    "tm_book = TopicModel(BOW)\n",
    "tm_book.n_topics = 40\n",
    "tm_book.create_X()\n",
    "tm_book.get_model()\n",
    "tm_book.describe_topics()"
   ]
  },
  {
   "cell_type": "code",
   "execution_count": null,
   "id": "2732de5b-4668-41a0-a78c-94f90dd70b09",
   "metadata": {},
   "outputs": [],
   "source": [
    "tm_book.plot_topics()"
   ]
  },
  {
   "cell_type": "code",
   "execution_count": null,
   "id": "adb8e450-ea0b-4131-aceb-fda71eedb185",
   "metadata": {},
   "outputs": [],
   "source": []
  }
 ],
 "metadata": {
  "kernelspec": {
   "display_name": "Python 3 (ipykernel)",
   "language": "python",
   "name": "python3"
  },
  "language_info": {
   "codemirror_mode": {
    "name": "ipython",
    "version": 3
   },
   "file_extension": ".py",
   "mimetype": "text/x-python",
   "name": "python",
   "nbconvert_exporter": "python",
   "pygments_lexer": "ipython3",
   "version": "3.10.0"
  }
 },
 "nbformat": 4,
 "nbformat_minor": 5
}
